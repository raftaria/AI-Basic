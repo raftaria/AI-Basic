{
 "cells": [
  {
   "cell_type": "code",
   "execution_count": 1,
   "id": "initial_id",
   "metadata": {
    "collapsed": true,
    "ExecuteTime": {
     "end_time": "2023-11-30T10:12:29.789030600Z",
     "start_time": "2023-11-30T10:12:29.625879300Z"
    }
   },
   "outputs": [],
   "source": [
    "import numpy as np"
   ]
  },
  {
   "cell_type": "markdown",
   "source": [
    "### load txt"
   ],
   "metadata": {
    "collapsed": false
   },
   "id": "929db4a267f02a07"
  },
  {
   "cell_type": "code",
   "execution_count": null,
   "outputs": [],
   "source": [
    "a = np.loadtxt(\"./populations.txt\")\n",
    "a[:10]"
   ],
   "metadata": {
    "collapsed": false
   },
   "id": "990f6ac713263869"
  },
  {
   "cell_type": "code",
   "execution_count": null,
   "outputs": [],
   "source": [
    "a_int = a.astype(int)\n",
    "a_int[:3]"
   ],
   "metadata": {
    "collapsed": false
   },
   "id": "59a22dd15194277e"
  },
  {
   "cell_type": "code",
   "execution_count": null,
   "outputs": [],
   "source": [
    "np.savetxt('int_data.csv', a_int, delimiter=',')"
   ],
   "metadata": {
    "collapsed": false
   },
   "id": "62fffcc4ed7a6e0c"
  },
  {
   "cell_type": "markdown",
   "source": [
    "### numpy object - npy"
   ],
   "metadata": {
    "collapsed": false
   },
   "id": "728e0cd25c2fdfff"
  },
  {
   "cell_type": "code",
   "execution_count": null,
   "outputs": [],
   "source": [
    "np.save('npy_test', arr=a_int)"
   ],
   "metadata": {
    "collapsed": false
   },
   "id": "86d0eb8e49f5f527"
  },
  {
   "cell_type": "code",
   "execution_count": null,
   "outputs": [],
   "source": [
    "npy_array = np.load(file='npy_test,npy')\n",
    "npy_array"
   ],
   "metadata": {
    "collapsed": false
   },
   "id": "35ae6afd6888a76b"
  },
  {
   "cell_type": "code",
   "execution_count": null,
   "outputs": [],
   "source": [],
   "metadata": {
    "collapsed": false
   },
   "id": "96607dbbd191627a"
  }
 ],
 "metadata": {
  "kernelspec": {
   "display_name": "Python 3",
   "language": "python",
   "name": "python3"
  },
  "language_info": {
   "codemirror_mode": {
    "name": "ipython",
    "version": 2
   },
   "file_extension": ".py",
   "mimetype": "text/x-python",
   "name": "python",
   "nbconvert_exporter": "python",
   "pygments_lexer": "ipython2",
   "version": "2.7.6"
  }
 },
 "nbformat": 4,
 "nbformat_minor": 5
}
