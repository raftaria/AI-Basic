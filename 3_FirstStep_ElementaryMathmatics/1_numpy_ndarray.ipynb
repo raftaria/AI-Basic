{
 "cells": [
  {
   "cell_type": "code",
   "execution_count": 2,
   "id": "initial_id",
   "metadata": {
    "collapsed": true,
    "ExecuteTime": {
     "end_time": "2023-11-30T08:48:36.155503Z",
     "start_time": "2023-11-30T08:48:36.143115800Z"
    }
   },
   "outputs": [],
   "source": [
    "import numpy as np"
   ]
  },
  {
   "cell_type": "markdown",
   "source": [
    "### array의 생성"
   ],
   "metadata": {
    "collapsed": false
   },
   "id": "c5e43c720021b763"
  },
  {
   "cell_type": "code",
   "execution_count": 3,
   "outputs": [
    {
     "data": {
      "text/plain": "array([1., 4., 5., 8.])"
     },
     "execution_count": 3,
     "metadata": {},
     "output_type": "execute_result"
    }
   ],
   "source": [
    "test_array = np.array([\"1\", \"4\", 5, 8], float)\n",
    "test_array"
   ],
   "metadata": {
    "collapsed": false,
    "ExecuteTime": {
     "end_time": "2023-11-30T08:49:10.533003Z",
     "start_time": "2023-11-30T08:49:10.506903100Z"
    }
   },
   "id": "8ece3d2f4d11af04"
  },
  {
   "cell_type": "code",
   "execution_count": 4,
   "outputs": [
    {
     "data": {
      "text/plain": "numpy.ndarray"
     },
     "execution_count": 4,
     "metadata": {},
     "output_type": "execute_result"
    }
   ],
   "source": [
    "type(test_array)"
   ],
   "metadata": {
    "collapsed": false,
    "ExecuteTime": {
     "end_time": "2023-11-30T08:49:23.422921100Z",
     "start_time": "2023-11-30T08:49:23.376894Z"
    }
   },
   "id": "3fb31a7e4d79c3ab"
  },
  {
   "cell_type": "code",
   "execution_count": 5,
   "outputs": [
    {
     "data": {
      "text/plain": "array([1., 4., 5., 8.], dtype=float32)"
     },
     "execution_count": 5,
     "metadata": {},
     "output_type": "execute_result"
    }
   ],
   "source": [
    "test_array = np.array([1, 4, 5, \"8\"], np.float32)   # String Type의 데이터를 입력해도\n",
    "test_array"
   ],
   "metadata": {
    "collapsed": false,
    "ExecuteTime": {
     "end_time": "2023-11-30T08:49:53.884610700Z",
     "start_time": "2023-11-30T08:49:53.848088400Z"
    }
   },
   "id": "606ae2a64c7b7fa9"
  },
  {
   "cell_type": "code",
   "execution_count": 6,
   "outputs": [
    {
     "data": {
      "text/plain": "numpy.float32"
     },
     "execution_count": 6,
     "metadata": {},
     "output_type": "execute_result"
    }
   ],
   "source": [
    "type(test_array[3])     # Float Type으로 자동 형변환 실시"
   ],
   "metadata": {
    "collapsed": false,
    "ExecuteTime": {
     "end_time": "2023-11-30T08:50:32.784130300Z",
     "start_time": "2023-11-30T08:50:32.774430400Z"
    }
   },
   "id": "3dd0583fc78598cc"
  },
  {
   "cell_type": "code",
   "execution_count": 7,
   "outputs": [
    {
     "data": {
      "text/plain": "dtype('float32')"
     },
     "execution_count": 7,
     "metadata": {},
     "output_type": "execute_result"
    }
   ],
   "source": [
    "test_array.dtype"
   ],
   "metadata": {
    "collapsed": false,
    "ExecuteTime": {
     "end_time": "2023-11-30T08:52:53.318878900Z",
     "start_time": "2023-11-30T08:52:53.306264500Z"
    }
   },
   "id": "20d488d0cc7c1ce5"
  },
  {
   "cell_type": "code",
   "execution_count": 8,
   "outputs": [
    {
     "data": {
      "text/plain": "(1, 4)"
     },
     "execution_count": 8,
     "metadata": {},
     "output_type": "execute_result"
    }
   ],
   "source": [
    "np.array([[1, 4, 5, \"8\"]], np.float32).shape"
   ],
   "metadata": {
    "collapsed": false,
    "ExecuteTime": {
     "end_time": "2023-11-30T08:57:25.178722500Z",
     "start_time": "2023-11-30T08:57:25.162408700Z"
    }
   },
   "id": "2b75a14e7443c6de"
  },
  {
   "cell_type": "code",
   "execution_count": 9,
   "outputs": [
    {
     "data": {
      "text/plain": "(4,)"
     },
     "execution_count": 9,
     "metadata": {},
     "output_type": "execute_result"
    }
   ],
   "source": [
    "test_array.shape    # Array(배열)의 Shape을 반환함."
   ],
   "metadata": {
    "collapsed": false,
    "ExecuteTime": {
     "end_time": "2023-11-30T08:57:31.341806100Z",
     "start_time": "2023-11-30T08:57:31.305342900Z"
    }
   },
   "id": "cd616477cf628765"
  },
  {
   "cell_type": "markdown",
   "source": [
    "### array shape"
   ],
   "metadata": {
    "collapsed": false
   },
   "id": "7e74ab75e57e6a03"
  },
  {
   "cell_type": "code",
   "execution_count": 10,
   "outputs": [
    {
     "data": {
      "text/plain": "(4,)"
     },
     "execution_count": 10,
     "metadata": {},
     "output_type": "execute_result"
    }
   ],
   "source": [
    "vector = [1, 2, 3, 4]\n",
    "np.array(vector, int).shape"
   ],
   "metadata": {
    "collapsed": false,
    "ExecuteTime": {
     "end_time": "2023-11-30T08:58:27.413837600Z",
     "start_time": "2023-11-30T08:58:27.399644400Z"
    }
   },
   "id": "e226ec32943b9ff1"
  },
  {
   "cell_type": "code",
   "execution_count": 11,
   "outputs": [
    {
     "data": {
      "text/plain": "(3, 4)"
     },
     "execution_count": 11,
     "metadata": {},
     "output_type": "execute_result"
    }
   ],
   "source": [
    "matrix = [[1, 2, 5, 8], [1, 2, 5, 8], [1, 2, 5, 8]]\n",
    "np.array(matrix, int).shape"
   ],
   "metadata": {
    "collapsed": false,
    "ExecuteTime": {
     "end_time": "2023-11-30T08:59:04.854958700Z",
     "start_time": "2023-11-30T08:59:04.839407100Z"
    }
   },
   "id": "65edb5f2906c7952"
  },
  {
   "cell_type": "code",
   "execution_count": 15,
   "outputs": [
    {
     "data": {
      "text/plain": "(4, 3, 4)"
     },
     "execution_count": 15,
     "metadata": {},
     "output_type": "execute_result"
    }
   ],
   "source": [
    "tensor = [[[1, 2, 5, 8], [1, 2, 5, 8], [1, 2, 5, 8]],\n",
    "          [[1, 2, 5, 8], [1, 2, 5, 8], [1, 2, 5, 8]],\n",
    "          [[1, 2, 5, 8], [1, 2, 5, 8], [1, 2, 3, 4]],\n",
    "          [[1, 5, 3, 8], [1, 2, 3, 4], [1, 4, 6, 2]]]\n",
    "np.array(tensor, int).shape"
   ],
   "metadata": {
    "collapsed": false,
    "ExecuteTime": {
     "end_time": "2023-11-30T09:01:20.327497900Z",
     "start_time": "2023-11-30T09:01:20.321431800Z"
    }
   },
   "id": "66c6aaa6801b05e6"
  },
  {
   "cell_type": "code",
   "execution_count": 16,
   "outputs": [
    {
     "data": {
      "text/plain": "3"
     },
     "execution_count": 16,
     "metadata": {},
     "output_type": "execute_result"
    }
   ],
   "source": [
    "np.array(tensor, int).ndim "
   ],
   "metadata": {
    "collapsed": false,
    "ExecuteTime": {
     "end_time": "2023-11-30T09:01:20.685095Z",
     "start_time": "2023-11-30T09:01:20.677078600Z"
    }
   },
   "id": "6d112f128a880ce7"
  },
  {
   "cell_type": "code",
   "execution_count": 17,
   "outputs": [
    {
     "data": {
      "text/plain": "48"
     },
     "execution_count": 17,
     "metadata": {},
     "output_type": "execute_result"
    }
   ],
   "source": [
    "np.array(tensor, int).size"
   ],
   "metadata": {
    "collapsed": false,
    "ExecuteTime": {
     "end_time": "2023-11-30T09:01:30.409258600Z",
     "start_time": "2023-11-30T09:01:30.395200Z"
    }
   },
   "id": "ff048b6ef8b46e14"
  },
  {
   "cell_type": "markdown",
   "source": [
    "### numpy dtype"
   ],
   "metadata": {
    "collapsed": false
   },
   "id": "89e7864fa0a64f83"
  },
  {
   "cell_type": "code",
   "execution_count": 20,
   "outputs": [
    {
     "data": {
      "text/plain": "dtype('int32')"
     },
     "execution_count": 20,
     "metadata": {},
     "output_type": "execute_result"
    }
   ],
   "source": [
    "a = np.array([[1, 2, 3], [4.5, 5, 6]], dtype=int)\n",
    "a.dtype"
   ],
   "metadata": {
    "collapsed": false,
    "ExecuteTime": {
     "end_time": "2023-11-30T09:03:07.804678200Z",
     "start_time": "2023-11-30T09:03:07.792006Z"
    }
   },
   "id": "7158884678247fea"
  },
  {
   "cell_type": "code",
   "execution_count": 25,
   "outputs": [
    {
     "data": {
      "text/plain": "array([[1. , 2. , 3. ],\n       [4.5, 5. , 6. ]], dtype=float32)"
     },
     "execution_count": 25,
     "metadata": {},
     "output_type": "execute_result"
    }
   ],
   "source": [
    "np.array([[1, 2, 3], [4.5, \"5\", \"6\"]], dtype=np.float32)"
   ],
   "metadata": {
    "collapsed": false,
    "ExecuteTime": {
     "end_time": "2023-11-30T09:04:14.716827100Z",
     "start_time": "2023-11-30T09:04:14.710011400Z"
    }
   },
   "id": "afd0b9053bbe2ac1"
  },
  {
   "cell_type": "code",
   "execution_count": 26,
   "outputs": [
    {
     "data": {
      "text/plain": "24"
     },
     "execution_count": 26,
     "metadata": {},
     "output_type": "execute_result"
    }
   ],
   "source": [
    "np.array([[1, 2, 3], [3.5, \"5\", \"6\"]], dtype=np.float32).nbytes"
   ],
   "metadata": {
    "collapsed": false,
    "ExecuteTime": {
     "end_time": "2023-11-30T09:05:18.604025100Z",
     "start_time": "2023-11-30T09:05:18.590425600Z"
    }
   },
   "id": "9e3f58ad95b935d0"
  },
  {
   "cell_type": "code",
   "execution_count": 28,
   "outputs": [
    {
     "data": {
      "text/plain": "6"
     },
     "execution_count": 28,
     "metadata": {},
     "output_type": "execute_result"
    }
   ],
   "source": [
    "np.array([[1, 2, 3], [4.6, '5', '6']], dtype=np.int8).nbytes"
   ],
   "metadata": {
    "collapsed": false,
    "ExecuteTime": {
     "end_time": "2023-11-30T09:05:49.116357500Z",
     "start_time": "2023-11-30T09:05:49.086611600Z"
    }
   },
   "id": "a930376d7b1c73dd"
  },
  {
   "cell_type": "code",
   "execution_count": 29,
   "outputs": [
    {
     "data": {
      "text/plain": "48"
     },
     "execution_count": 29,
     "metadata": {},
     "output_type": "execute_result"
    }
   ],
   "source": [
    "np.array([[1, 2, 3], [4.5, \"5\", \"6\"]], dtype=np.float64).nbytes"
   ],
   "metadata": {
    "collapsed": false,
    "ExecuteTime": {
     "end_time": "2023-11-30T09:06:41.799556800Z",
     "start_time": "2023-11-30T09:06:41.788514300Z"
    }
   },
   "id": "173ec30e23db8ed1"
  }
 ],
 "metadata": {
  "kernelspec": {
   "display_name": "Python 3",
   "language": "python",
   "name": "python3"
  },
  "language_info": {
   "codemirror_mode": {
    "name": "ipython",
    "version": 2
   },
   "file_extension": ".py",
   "mimetype": "text/x-python",
   "name": "python",
   "nbconvert_exporter": "python",
   "pygments_lexer": "ipython2",
   "version": "2.7.6"
  }
 },
 "nbformat": 4,
 "nbformat_minor": 5
}
