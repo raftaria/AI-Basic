{
 "cells": [
  {
   "cell_type": "code",
   "execution_count": 17,
   "id": "initial_id",
   "metadata": {
    "collapsed": true,
    "ExecuteTime": {
     "end_time": "2023-11-30T10:04:30.554468400Z",
     "start_time": "2023-11-30T10:04:30.531275700Z"
    }
   },
   "outputs": [],
   "source": [
    "import numpy as np"
   ]
  },
  {
   "cell_type": "markdown",
   "source": [
    "### all & any"
   ],
   "metadata": {
    "collapsed": false
   },
   "id": "47e4c77d68edf9e3"
  },
  {
   "cell_type": "code",
   "execution_count": 18,
   "outputs": [
    {
     "data": {
      "text/plain": "array([0, 1, 2, 3, 4, 5, 6, 7, 8, 9])"
     },
     "execution_count": 18,
     "metadata": {},
     "output_type": "execute_result"
    }
   ],
   "source": [
    "a = np.arange(10)\n",
    "a"
   ],
   "metadata": {
    "collapsed": false,
    "ExecuteTime": {
     "end_time": "2023-11-30T10:04:30.617596700Z",
     "start_time": "2023-11-30T10:04:30.537240400Z"
    }
   },
   "id": "b2ed5c7286ce8173"
  },
  {
   "cell_type": "code",
   "execution_count": 19,
   "outputs": [
    {
     "data": {
      "text/plain": "array([False, False, False, False, False, False,  True,  True,  True,\n        True])"
     },
     "execution_count": 19,
     "metadata": {},
     "output_type": "execute_result"
    }
   ],
   "source": [
    "a > 5"
   ],
   "metadata": {
    "collapsed": false,
    "ExecuteTime": {
     "end_time": "2023-11-30T10:04:30.617596700Z",
     "start_time": "2023-11-30T10:04:30.547723Z"
    }
   },
   "id": "1136074159fa74c2"
  },
  {
   "cell_type": "code",
   "execution_count": 20,
   "outputs": [
    {
     "data": {
      "text/plain": "(True, False)"
     },
     "execution_count": 20,
     "metadata": {},
     "output_type": "execute_result"
    }
   ],
   "source": [
    "np.any(a>5), np.any(a<0)"
   ],
   "metadata": {
    "collapsed": false,
    "ExecuteTime": {
     "end_time": "2023-11-30T10:04:30.672858400Z",
     "start_time": "2023-11-30T10:04:30.552402400Z"
    }
   },
   "id": "7573125b6344853b"
  },
  {
   "cell_type": "code",
   "execution_count": 21,
   "outputs": [
    {
     "data": {
      "text/plain": "(False, True)"
     },
     "execution_count": 21,
     "metadata": {},
     "output_type": "execute_result"
    }
   ],
   "source": [
    "np.all(a>5), np.all(a<10)"
   ],
   "metadata": {
    "collapsed": false,
    "ExecuteTime": {
     "end_time": "2023-11-30T10:04:30.674847800Z",
     "start_time": "2023-11-30T10:04:30.557899400Z"
    }
   },
   "id": "ef487c6917f96d9e"
  },
  {
   "cell_type": "markdown",
   "source": [
    "### comparision operation"
   ],
   "metadata": {
    "collapsed": false
   },
   "id": "629a576007317a7"
  },
  {
   "cell_type": "code",
   "execution_count": 22,
   "outputs": [
    {
     "data": {
      "text/plain": "array([False,  True, False])"
     },
     "execution_count": 22,
     "metadata": {},
     "output_type": "execute_result"
    }
   ],
   "source": [
    "test_a = np.array([1, 3, 0], float)\n",
    "test_b = np.array([5, 2, 1], float)\n",
    "test_a > test_b"
   ],
   "metadata": {
    "collapsed": false,
    "ExecuteTime": {
     "end_time": "2023-11-30T10:04:30.674847800Z",
     "start_time": "2023-11-30T10:04:30.565004700Z"
    }
   },
   "id": "e09f8f8ee0bf956c"
  },
  {
   "cell_type": "code",
   "execution_count": 23,
   "outputs": [
    {
     "data": {
      "text/plain": "array([False, False, False])"
     },
     "execution_count": 23,
     "metadata": {},
     "output_type": "execute_result"
    }
   ],
   "source": [
    "test_a == test_b"
   ],
   "metadata": {
    "collapsed": false,
    "ExecuteTime": {
     "end_time": "2023-11-30T10:04:30.676391500Z",
     "start_time": "2023-11-30T10:04:30.570534200Z"
    }
   },
   "id": "3c5afb9b304b9428"
  },
  {
   "cell_type": "code",
   "execution_count": 24,
   "outputs": [
    {
     "data": {
      "text/plain": "True"
     },
     "execution_count": 24,
     "metadata": {},
     "output_type": "execute_result"
    }
   ],
   "source": [
    "(test_a > test_b).any()"
   ],
   "metadata": {
    "collapsed": false,
    "ExecuteTime": {
     "end_time": "2023-11-30T10:04:30.676757500Z",
     "start_time": "2023-11-30T10:04:30.575969200Z"
    }
   },
   "id": "24a379ec70a03d44"
  },
  {
   "cell_type": "code",
   "execution_count": 25,
   "outputs": [
    {
     "data": {
      "text/plain": "array([ True, False, False])"
     },
     "execution_count": 25,
     "metadata": {},
     "output_type": "execute_result"
    }
   ],
   "source": [
    "a = np.array([1, 3, 0], float)\n",
    "np.logical_and(a > 0, a < 3)"
   ],
   "metadata": {
    "collapsed": false,
    "ExecuteTime": {
     "end_time": "2023-11-30T10:04:30.677538700Z",
     "start_time": "2023-11-30T10:04:30.583776600Z"
    }
   },
   "id": "1348d6ad7ce6b9f3"
  },
  {
   "cell_type": "code",
   "execution_count": 26,
   "outputs": [
    {
     "data": {
      "text/plain": "array([False,  True, False])"
     },
     "execution_count": 26,
     "metadata": {},
     "output_type": "execute_result"
    }
   ],
   "source": [
    "b = np.array([True, False, True], bool)\n",
    "np.logical_not(b)"
   ],
   "metadata": {
    "collapsed": false,
    "ExecuteTime": {
     "end_time": "2023-11-30T10:04:30.677538700Z",
     "start_time": "2023-11-30T10:04:30.589714900Z"
    }
   },
   "id": "3065b4646e3a4e5d"
  },
  {
   "cell_type": "code",
   "execution_count": 27,
   "outputs": [
    {
     "data": {
      "text/plain": "array([ True,  True,  True])"
     },
     "execution_count": 27,
     "metadata": {},
     "output_type": "execute_result"
    }
   ],
   "source": [
    "c = np.array([False, True, False], bool)\n",
    "np.logical_or(b, c)"
   ],
   "metadata": {
    "collapsed": false,
    "ExecuteTime": {
     "end_time": "2023-11-30T10:04:30.677538700Z",
     "start_time": "2023-11-30T10:04:30.593760600Z"
    }
   },
   "id": "b133fbc591d02e5b"
  },
  {
   "cell_type": "code",
   "execution_count": 28,
   "outputs": [
    {
     "data": {
      "text/plain": "array([1., 3., 0.])"
     },
     "execution_count": 28,
     "metadata": {},
     "output_type": "execute_result"
    }
   ],
   "source": [
    "a"
   ],
   "metadata": {
    "collapsed": false,
    "ExecuteTime": {
     "end_time": "2023-11-30T10:04:30.686517400Z",
     "start_time": "2023-11-30T10:04:30.600713500Z"
    }
   },
   "id": "140e43b71e834085"
  },
  {
   "cell_type": "code",
   "execution_count": 29,
   "outputs": [
    {
     "data": {
      "text/plain": "array([3, 3, 2])"
     },
     "execution_count": 29,
     "metadata": {},
     "output_type": "execute_result"
    }
   ],
   "source": [
    "np.where(a > 0, 3, 2)"
   ],
   "metadata": {
    "collapsed": false,
    "ExecuteTime": {
     "end_time": "2023-11-30T10:04:30.687823900Z",
     "start_time": "2023-11-30T10:04:30.607049100Z"
    }
   },
   "id": "ef01fe028c92c016"
  },
  {
   "cell_type": "code",
   "execution_count": 30,
   "outputs": [
    {
     "data": {
      "text/plain": "(array([0, 1], dtype=int64),)"
     },
     "execution_count": 30,
     "metadata": {},
     "output_type": "execute_result"
    }
   ],
   "source": [
    "np.where(a > 0)"
   ],
   "metadata": {
    "collapsed": false,
    "ExecuteTime": {
     "end_time": "2023-11-30T10:04:30.688785500Z",
     "start_time": "2023-11-30T10:04:30.613011600Z"
    }
   },
   "id": "e4ebf708755d5ef5"
  },
  {
   "cell_type": "code",
   "execution_count": 31,
   "outputs": [
    {
     "data": {
      "text/plain": "array([ 5,  6,  7,  8,  9, 10, 11, 12, 13, 14])"
     },
     "execution_count": 31,
     "metadata": {},
     "output_type": "execute_result"
    }
   ],
   "source": [
    "a = np.arange(5, 15)\n",
    "a"
   ],
   "metadata": {
    "collapsed": false,
    "ExecuteTime": {
     "end_time": "2023-11-30T10:04:30.688785500Z",
     "start_time": "2023-11-30T10:04:30.621591500Z"
    }
   },
   "id": "34998e9b8cb083ab"
  },
  {
   "cell_type": "code",
   "execution_count": 32,
   "outputs": [
    {
     "data": {
      "text/plain": "(array([6, 7, 8, 9], dtype=int64),)"
     },
     "execution_count": 32,
     "metadata": {},
     "output_type": "execute_result"
    }
   ],
   "source": [
    "np.where(a>10)"
   ],
   "metadata": {
    "collapsed": false,
    "ExecuteTime": {
     "end_time": "2023-11-30T10:04:30.689787100Z",
     "start_time": "2023-11-30T10:04:30.628035900Z"
    }
   },
   "id": "c9e695a84ece70dd"
  },
  {
   "cell_type": "code",
   "execution_count": 33,
   "outputs": [
    {
     "data": {
      "text/plain": "array([False,  True, False])"
     },
     "execution_count": 33,
     "metadata": {},
     "output_type": "execute_result"
    }
   ],
   "source": [
    "a = np.array([1, np.NAN, np.inf], float)\n",
    "np.isnan(a)"
   ],
   "metadata": {
    "collapsed": false,
    "ExecuteTime": {
     "end_time": "2023-11-30T10:05:19.556040100Z",
     "start_time": "2023-11-30T10:05:19.518161Z"
    }
   },
   "id": "a476d19d0221c064"
  },
  {
   "cell_type": "markdown",
   "source": [
    "### argmax & argmin"
   ],
   "metadata": {
    "collapsed": false
   },
   "id": "c4d88b8cd026bc8"
  },
  {
   "cell_type": "code",
   "execution_count": 35,
   "outputs": [
    {
     "data": {
      "text/plain": "(5, 0)"
     },
     "execution_count": 35,
     "metadata": {},
     "output_type": "execute_result"
    }
   ],
   "source": [
    "a = np.array([1,2,4,5,8, 78, 23, 3])\n",
    "np.argmax(a), np.argmin(a)"
   ],
   "metadata": {
    "collapsed": false,
    "ExecuteTime": {
     "end_time": "2023-11-30T10:06:08.816223400Z",
     "start_time": "2023-11-30T10:06:08.801446100Z"
    }
   },
   "id": "a3d9cfba0f6c15f4"
  },
  {
   "cell_type": "code",
   "execution_count": 36,
   "outputs": [
    {
     "data": {
      "text/plain": "(array([3, 1, 1], dtype=int64), array([0, 0, 2, 2], dtype=int64))"
     },
     "execution_count": 36,
     "metadata": {},
     "output_type": "execute_result"
    }
   ],
   "source": [
    "a = np.array([[1, 2, 4, 7], [9, 88, 6, 45], [9, 76, 3, 4]])\n",
    "np.argmax(a, axis=1), np.argmin(a, axis=0)"
   ],
   "metadata": {
    "collapsed": false,
    "ExecuteTime": {
     "end_time": "2023-11-30T10:06:49.139947100Z",
     "start_time": "2023-11-30T10:06:49.107305500Z"
    }
   },
   "id": "1dc7aa845230ddcd"
  },
  {
   "cell_type": "code",
   "execution_count": null,
   "outputs": [],
   "source": [],
   "metadata": {
    "collapsed": false
   },
   "id": "bd5233970d5453da"
  }
 ],
 "metadata": {
  "kernelspec": {
   "display_name": "Python 3",
   "language": "python",
   "name": "python3"
  },
  "language_info": {
   "codemirror_mode": {
    "name": "ipython",
    "version": 2
   },
   "file_extension": ".py",
   "mimetype": "text/x-python",
   "name": "python",
   "nbconvert_exporter": "python",
   "pygments_lexer": "ipython2",
   "version": "2.7.6"
  }
 },
 "nbformat": 4,
 "nbformat_minor": 5
}
