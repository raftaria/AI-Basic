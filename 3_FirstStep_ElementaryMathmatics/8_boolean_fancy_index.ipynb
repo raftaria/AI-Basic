{
 "cells": [
  {
   "cell_type": "code",
   "execution_count": 1,
   "id": "initial_id",
   "metadata": {
    "collapsed": true,
    "ExecuteTime": {
     "end_time": "2023-11-30T10:07:44.838095800Z",
     "start_time": "2023-11-30T10:07:44.663400400Z"
    }
   },
   "outputs": [],
   "source": [
    "import numpy as np"
   ]
  },
  {
   "cell_type": "markdown",
   "source": [
    "### boolean index"
   ],
   "metadata": {
    "collapsed": false
   },
   "id": "c02e55f7b8c4a9"
  },
  {
   "cell_type": "code",
   "execution_count": 2,
   "outputs": [
    {
     "data": {
      "text/plain": "array([False,  True, False, False, False,  True,  True,  True])"
     },
     "execution_count": 2,
     "metadata": {},
     "output_type": "execute_result"
    }
   ],
   "source": [
    "test_array = np.array([1, 4, 0, 2, 3, 8, 9, 7], float)\n",
    "test_array > 3"
   ],
   "metadata": {
    "collapsed": false,
    "ExecuteTime": {
     "end_time": "2023-11-30T10:08:09.362779300Z",
     "start_time": "2023-11-30T10:08:09.331098900Z"
    }
   },
   "id": "7bfa648ead3a3b34"
  },
  {
   "cell_type": "code",
   "execution_count": 3,
   "outputs": [
    {
     "data": {
      "text/plain": "array([4., 8., 9., 7.])"
     },
     "execution_count": 3,
     "metadata": {},
     "output_type": "execute_result"
    }
   ],
   "source": [
    "test_array[test_array > 3]"
   ],
   "metadata": {
    "collapsed": false,
    "ExecuteTime": {
     "end_time": "2023-11-30T10:08:22.784719400Z",
     "start_time": "2023-11-30T10:08:22.762409400Z"
    }
   },
   "id": "cd1ae22f5469a5a9"
  },
  {
   "cell_type": "code",
   "execution_count": 4,
   "outputs": [
    {
     "data": {
      "text/plain": "array([1., 0., 2.])"
     },
     "execution_count": 4,
     "metadata": {},
     "output_type": "execute_result"
    }
   ],
   "source": [
    "condition = test_array < 3\n",
    "test_array[condition]"
   ],
   "metadata": {
    "collapsed": false,
    "ExecuteTime": {
     "end_time": "2023-11-30T10:08:39.563130500Z",
     "start_time": "2023-11-30T10:08:39.541670800Z"
    }
   },
   "id": "f14b76c8fb188e2c"
  },
  {
   "cell_type": "code",
   "execution_count": 7,
   "outputs": [
    {
     "data": {
      "text/plain": "array([[1, 1, 1, 1, 0, 1, 1, 1, 1],\n       [1, 1, 1, 0, 0, 0, 1, 1, 1],\n       [1, 1, 1, 0, 1, 0, 1, 1, 1],\n       [1, 1, 0, 0, 1, 0, 0, 1, 1],\n       [1, 1, 0, 1, 1, 1, 0, 1, 1],\n       [1, 0, 0, 1, 1, 1, 0, 0, 1],\n       [1, 0, 1, 1, 1, 1, 1, 0, 1],\n       [1, 0, 1, 1, 1, 1, 1, 0, 1],\n       [1, 0, 1, 1, 1, 1, 1, 0, 1],\n       [1, 0, 0, 0, 0, 0, 0, 0, 1],\n       [1, 0, 1, 1, 1, 1, 1, 0, 1],\n       [1, 0, 1, 1, 1, 1, 1, 0, 1],\n       [1, 0, 1, 1, 1, 1, 1, 0, 1],\n       [1, 0, 1, 1, 1, 1, 1, 0, 1],\n       [1, 0, 1, 1, 1, 1, 1, 0, 1]], dtype=int8)"
     },
     "execution_count": 7,
     "metadata": {},
     "output_type": "execute_result"
    }
   ],
   "source": [
    "A = np.array([\n",
    "    [12, 13, 14, 12, 16, 14, 11, 10,  9],\n",
    "    [11, 14, 12, 15, 15, 16, 10, 12, 11],\n",
    "    [10, 12, 12, 15, 14, 16, 10, 12, 12],\n",
    "    [ 9, 11, 16, 15, 14, 16, 15, 12, 10],\n",
    "    [12, 11, 16, 14, 10, 12, 16, 12, 13],\n",
    "    [10, 15, 16, 14, 14, 14, 16, 15, 12],\n",
    "    [13, 17, 14, 10, 14, 11, 14, 15, 10],\n",
    "    [10, 16, 12, 14, 11, 12, 14, 18, 11],\n",
    "    [10, 19, 12, 14, 11, 12, 14, 18, 10],\n",
    "    [14, 22, 17, 19, 16, 17, 18, 17, 13],\n",
    "    [10, 16, 12, 14, 11, 12, 14, 18, 11],\n",
    "    [10, 16, 12, 14, 11, 12, 14, 18, 11],\n",
    "    [10, 19, 12, 14, 11, 12, 14, 18, 10],\n",
    "    [14, 22, 12, 14, 11, 12, 14, 17, 13],\n",
    "    [10, 16, 12, 14, 11, 12, 14, 18, 11]])\n",
    "\n",
    "B = A < 15\n",
    "B.astype(np.int8)"
   ],
   "metadata": {
    "collapsed": false,
    "ExecuteTime": {
     "end_time": "2023-11-30T10:09:17.864277600Z",
     "start_time": "2023-11-30T10:09:17.853805600Z"
    }
   },
   "id": "f3b0315c7cae48dc"
  },
  {
   "cell_type": "markdown",
   "source": [
    "### fancy index"
   ],
   "metadata": {
    "collapsed": false
   },
   "id": "2a6eef9aae6d18dc"
  },
  {
   "cell_type": "code",
   "execution_count": 8,
   "outputs": [
    {
     "data": {
      "text/plain": "array([ 1.,  4., 16., 16.,  4.])"
     },
     "execution_count": 8,
     "metadata": {},
     "output_type": "execute_result"
    }
   ],
   "source": [
    "a = np.array([[1, 4], [9, 16]], float)\n",
    "b = np.array([0, 0, 1, 1, 0], int)\n",
    "c = np.array([0, 1, 1, 1, 1], int)\n",
    "a[b, c] # b를 row index, c를 column index로 변환하여 표시함"
   ],
   "metadata": {
    "collapsed": false,
    "ExecuteTime": {
     "end_time": "2023-11-30T10:11:07.285251600Z",
     "start_time": "2023-11-30T10:11:07.256899700Z"
    }
   },
   "id": "774bb764c017ce6"
  },
  {
   "cell_type": "code",
   "execution_count": 9,
   "outputs": [
    {
     "data": {
      "text/plain": "array([[ 1.,  4.],\n       [ 1.,  4.],\n       [ 9., 16.],\n       [ 9., 16.],\n       [ 1.,  4.]])"
     },
     "execution_count": 9,
     "metadata": {},
     "output_type": "execute_result"
    }
   ],
   "source": [
    "a = np.array([[1, 4], [9, 16]], float)\n",
    "a[b]"
   ],
   "metadata": {
    "collapsed": false,
    "ExecuteTime": {
     "end_time": "2023-11-30T10:11:40.827167300Z",
     "start_time": "2023-11-30T10:11:40.791097700Z"
    }
   },
   "id": "f31d587e9ceb4ca0"
  },
  {
   "cell_type": "code",
   "execution_count": null,
   "outputs": [],
   "source": [],
   "metadata": {
    "collapsed": false
   },
   "id": "aaa0aebf835d73c4"
  }
 ],
 "metadata": {
  "kernelspec": {
   "display_name": "Python 3",
   "language": "python",
   "name": "python3"
  },
  "language_info": {
   "codemirror_mode": {
    "name": "ipython",
    "version": 2
   },
   "file_extension": ".py",
   "mimetype": "text/x-python",
   "name": "python",
   "nbconvert_exporter": "python",
   "pygments_lexer": "ipython2",
   "version": "2.7.6"
  }
 },
 "nbformat": 4,
 "nbformat_minor": 5
}
