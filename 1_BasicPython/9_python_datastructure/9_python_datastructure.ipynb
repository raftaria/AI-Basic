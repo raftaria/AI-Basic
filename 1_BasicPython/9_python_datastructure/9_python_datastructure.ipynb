{
 "cells": [
  {
   "cell_type": "markdown",
   "source": [
    "### 파이썬 기본 데이터 구조\n",
    "- Stack & Queue\n",
    "- Tuple & Set\n",
    "- Dictionary\n",
    "- Collection Module"
   ],
   "metadata": {
    "collapsed": false
   },
   "id": "b3d07fc92d0a49ab"
  },
  {
   "cell_type": "markdown",
   "source": [
    "### Stack\n",
    "- 나중에 넣은 데이터를 먼저 반환하도록 설계된 메모리 구조\n",
    "- Last In First Out (LIFO)\n",
    "- Data의 입력을 Push, 출력을 Pop이라고 함.\n",
    "\n",
    "- 리스트를 사용하여 스택구조를 구현 가능\n",
    "- push를 append(), pop을 pop() 사용"
   ],
   "metadata": {
    "collapsed": false
   },
   "id": "982f6587368de3fd"
  },
  {
   "cell_type": "code",
   "execution_count": 474,
   "outputs": [
    {
     "data": {
      "text/plain": "[1, 2, 3, 4, 5]"
     },
     "execution_count": 474,
     "metadata": {},
     "output_type": "execute_result"
    }
   ],
   "source": [
    "a = [1, 2, 3, 4, 5]\n",
    "a"
   ],
   "metadata": {
    "collapsed": false,
    "ExecuteTime": {
     "end_time": "2023-09-17T09:15:52.503516Z",
     "start_time": "2023-09-17T09:15:52.294861Z"
    }
   },
   "id": "adaba8fecbdb31bd"
  },
  {
   "cell_type": "code",
   "execution_count": 475,
   "outputs": [
    {
     "name": "stdout",
     "output_type": "stream",
     "text": [
      "[1, 2, 3, 4, 5, 10]\n",
      "[1, 2, 3, 4, 5, 10, 20]\n"
     ]
    }
   ],
   "source": [
    "a.append(10)\n",
    "print(a)\n",
    "a.append(20)\n",
    "print(a)"
   ],
   "metadata": {
    "collapsed": false,
    "ExecuteTime": {
     "end_time": "2023-09-17T09:15:52.503687Z",
     "start_time": "2023-09-17T09:15:52.298842Z"
    }
   },
   "id": "a43ac64e5db483b8"
  },
  {
   "cell_type": "code",
   "execution_count": 476,
   "outputs": [
    {
     "data": {
      "text/plain": "20"
     },
     "execution_count": 476,
     "metadata": {},
     "output_type": "execute_result"
    }
   ],
   "source": [
    "a.pop()"
   ],
   "metadata": {
    "collapsed": false,
    "ExecuteTime": {
     "end_time": "2023-09-17T09:15:52.503775Z",
     "start_time": "2023-09-17T09:15:52.301945Z"
    }
   },
   "id": "89c029ee110bd867"
  },
  {
   "cell_type": "code",
   "execution_count": 477,
   "outputs": [
    {
     "data": {
      "text/plain": "10"
     },
     "execution_count": 477,
     "metadata": {},
     "output_type": "execute_result"
    }
   ],
   "source": [
    "a.pop()"
   ],
   "metadata": {
    "collapsed": false,
    "ExecuteTime": {
     "end_time": "2023-09-17T09:15:52.555845Z",
     "start_time": "2023-09-17T09:15:52.305274Z"
    }
   },
   "id": "9bad090b20e668fa"
  },
  {
   "cell_type": "code",
   "execution_count": 478,
   "outputs": [
    {
     "name": "stdout",
     "output_type": "stream",
     "text": [
      "['C', 'a', 'n', ' ', 'I', ' ', 'g', 'e', 't', ' ', 's', 'o', 'm', 'e', ' ', 'd', 'r', 'i', 'n', 'k', '?']\n",
      "?knird emos teg I naC"
     ]
    }
   ],
   "source": [
    "# 스택 구조를 활용하여 입력된 글자를 역순으로 출력\n",
    "# word = input(\"input a word: \")\n",
    "word = \"Can I get some drink?\"\n",
    "word_list = list(word)\n",
    "print(word_list)\n",
    "\n",
    "for i in range(len(word_list)):\n",
    "    print(word_list.pop(), end=\"\")"
   ],
   "metadata": {
    "collapsed": false,
    "ExecuteTime": {
     "end_time": "2023-09-17T09:15:52.556011Z",
     "start_time": "2023-09-17T09:15:52.309440Z"
    }
   },
   "id": "41c572a7e1e89d17"
  },
  {
   "cell_type": "markdown",
   "source": [
    "---"
   ],
   "metadata": {
    "collapsed": false
   },
   "id": "86891a546198bee8"
  },
  {
   "cell_type": "markdown",
   "source": [
    "### Queue\n",
    "- 먼저 넣은 데이터를 먼저 반환하도록 설계된 메모리 구조\n",
    "- First In First Out (FIFO)\n",
    "- Stack과 반대되는 개념\n",
    "- 파이썬은 리스트를 사용하여 큐 구조를 활용\n",
    "- put을 append(), get을 pop(0)을 사용"
   ],
   "metadata": {
    "collapsed": false
   },
   "id": "56d987dfe12cc3dc"
  },
  {
   "cell_type": "code",
   "execution_count": 479,
   "outputs": [
    {
     "data": {
      "text/plain": "[1, 2, 3, 4, 5]"
     },
     "execution_count": 479,
     "metadata": {},
     "output_type": "execute_result"
    }
   ],
   "source": [
    "a = [1, 2, 3, 4, 5]\n",
    "a"
   ],
   "metadata": {
    "collapsed": false,
    "ExecuteTime": {
     "end_time": "2023-09-17T09:15:52.656626Z",
     "start_time": "2023-09-17T09:15:52.312008Z"
    }
   },
   "id": "16ded17842f76f5b"
  },
  {
   "cell_type": "code",
   "execution_count": 480,
   "outputs": [],
   "source": [
    "a.append(10)\n",
    "a.append(20)"
   ],
   "metadata": {
    "collapsed": false,
    "ExecuteTime": {
     "end_time": "2023-09-17T09:15:52.656840Z",
     "start_time": "2023-09-17T09:15:52.313989Z"
    }
   },
   "id": "32a67a8f04c98810"
  },
  {
   "cell_type": "code",
   "execution_count": 481,
   "outputs": [
    {
     "name": "stdout",
     "output_type": "stream",
     "text": [
      "1\n",
      "[2, 3, 4, 5, 10, 20]\n"
     ]
    }
   ],
   "source": [
    "first = a.pop(0)\n",
    "print(first)\n",
    "print(a)"
   ],
   "metadata": {
    "collapsed": false,
    "ExecuteTime": {
     "end_time": "2023-09-17T09:15:52.697054Z",
     "start_time": "2023-09-17T09:15:52.316515Z"
    }
   },
   "id": "a0ca52d4e748cf1d"
  },
  {
   "cell_type": "code",
   "execution_count": 482,
   "outputs": [
    {
     "data": {
      "text/plain": "2"
     },
     "execution_count": 482,
     "metadata": {},
     "output_type": "execute_result"
    }
   ],
   "source": [
    "a.pop(0)"
   ],
   "metadata": {
    "collapsed": false,
    "ExecuteTime": {
     "end_time": "2023-09-17T09:15:52.697541Z",
     "start_time": "2023-09-17T09:15:52.318829Z"
    }
   },
   "id": "8f9c572e334fbea3"
  },
  {
   "cell_type": "markdown",
   "source": [
    "---"
   ],
   "metadata": {
    "collapsed": false
   },
   "id": "af554bbdbc750fc8"
  },
  {
   "cell_type": "markdown",
   "source": [
    "### Tuple\n",
    "- 값의 변경이 불가능한 리스트\n",
    "- 선언 시 \"[]\"가 아닌 \"()\"를 사용\n",
    "- 리스트의 연산, 인덱싱, 슬라이싱 등을 동일하게 사용\n",
    "\n",
    "<br>\n",
    "\n",
    "#### 왜 쓰나?\n",
    "- 프로그램을 작동하는 동안 변경되지 않은 데이터의 저장 Ex) 학번, 이름, 우편번호 등등\n",
    "- 함수의 반환 값등 사용자의 실수에 의한 에러를 사전에 방지"
   ],
   "metadata": {
    "collapsed": false
   },
   "id": "24d0627040eb5da3"
  },
  {
   "cell_type": "code",
   "execution_count": 483,
   "outputs": [
    {
     "name": "stdout",
     "output_type": "stream",
     "text": [
      "<class 'tuple'>\n",
      "(1, 2, 3, 1, 2, 3)\n",
      "(1, 2, 3, 1, 2, 3)\n",
      "3\n"
     ]
    }
   ],
   "source": [
    "t = (1, 2, 3)\n",
    "print(type(t))\n",
    "print(str(t + t) + \"\\n\" + str(t * 2))\n",
    "print(len(t))\n",
    "\n",
    "# 에러 발생, 튜플은 수정 불가.\n",
    "# t[1] = 5"
   ],
   "metadata": {
    "collapsed": false,
    "ExecuteTime": {
     "end_time": "2023-09-17T09:15:52.697634Z",
     "start_time": "2023-09-17T09:15:52.321918Z"
    }
   },
   "id": "2abd603e4e73fd13"
  },
  {
   "cell_type": "code",
   "execution_count": 484,
   "outputs": [
    {
     "data": {
      "text/plain": "int"
     },
     "execution_count": 484,
     "metadata": {},
     "output_type": "execute_result"
    }
   ],
   "source": [
    "t = (1)     # 일반 정수로 인식\n",
    "type(t)"
   ],
   "metadata": {
    "collapsed": false,
    "ExecuteTime": {
     "end_time": "2023-09-17T09:15:52.697720Z",
     "start_time": "2023-09-17T09:15:52.324325Z"
    }
   },
   "id": "abfa6cde48240c0e"
  },
  {
   "cell_type": "code",
   "execution_count": 485,
   "outputs": [
    {
     "data": {
      "text/plain": "tuple"
     },
     "execution_count": 485,
     "metadata": {},
     "output_type": "execute_result"
    }
   ],
   "source": [
    "t = (1, )   # 값이 하나인 Tuple은 반드시 \",\"를 붙여야 함.\n",
    "type(t)"
   ],
   "metadata": {
    "collapsed": false,
    "ExecuteTime": {
     "end_time": "2023-09-17T09:15:52.753392Z",
     "start_time": "2023-09-17T09:15:52.326549Z"
    }
   },
   "id": "76f2c7219a60c9e6"
  },
  {
   "cell_type": "markdown",
   "source": [
    "---"
   ],
   "metadata": {
    "collapsed": false
   },
   "id": "568ff24c9718246e"
  },
  {
   "cell_type": "markdown",
   "source": [
    "### Set\n",
    "- 값을 순서없이 저장, 중복 불허하는 자료형\n",
    "- set 객체 선언을 이용하여 객체 생성"
   ],
   "metadata": {
    "collapsed": false
   },
   "id": "c33f33aa428ab024"
  },
  {
   "cell_type": "code",
   "execution_count": 486,
   "outputs": [
    {
     "data": {
      "text/plain": "{1, 2, 3}"
     },
     "execution_count": 486,
     "metadata": {},
     "output_type": "execute_result"
    }
   ],
   "source": [
    "# set 함수를 사용하여 1, 2, 3 집합 객체 생성.\n",
    "# a = { 1, 2, 3, 4 ,5 }도 가능\n",
    "s = set([1, 2, 3, 1, 2, 3])\n",
    "s"
   ],
   "metadata": {
    "collapsed": false,
    "ExecuteTime": {
     "end_time": "2023-09-17T09:15:52.814468Z",
     "start_time": "2023-09-17T09:15:52.330250Z"
    }
   },
   "id": "452a2923751e463e"
  },
  {
   "cell_type": "code",
   "execution_count": 487,
   "outputs": [
    {
     "data": {
      "text/plain": "set"
     },
     "execution_count": 487,
     "metadata": {},
     "output_type": "execute_result"
    }
   ],
   "source": [
    "s = {1, 2, 3, 4, 5}\n",
    "type(s)"
   ],
   "metadata": {
    "collapsed": false,
    "ExecuteTime": {
     "end_time": "2023-09-17T09:15:52.814745Z",
     "start_time": "2023-09-17T09:15:52.332653Z"
    }
   },
   "id": "88caeb5b650d5a0a"
  },
  {
   "cell_type": "code",
   "execution_count": 488,
   "outputs": [
    {
     "data": {
      "text/plain": "{2, 3}"
     },
     "execution_count": 488,
     "metadata": {},
     "output_type": "execute_result"
    }
   ],
   "source": [
    "s = {2, 3}\n",
    "s"
   ],
   "metadata": {
    "collapsed": false,
    "ExecuteTime": {
     "end_time": "2023-09-17T09:15:52.814831Z",
     "start_time": "2023-09-17T09:15:52.334591Z"
    }
   },
   "id": "5c1f1d5bcbbcaede"
  },
  {
   "cell_type": "code",
   "execution_count": 489,
   "outputs": [
    {
     "data": {
      "text/plain": "{1, 2, 3}"
     },
     "execution_count": 489,
     "metadata": {},
     "output_type": "execute_result"
    }
   ],
   "source": [
    "# 한 원소 1만 추가.\n",
    "s.add(1)\n",
    "s"
   ],
   "metadata": {
    "collapsed": false,
    "ExecuteTime": {
     "end_time": "2023-09-17T09:15:52.897136Z",
     "start_time": "2023-09-17T09:15:52.337207Z"
    }
   },
   "id": "a7c4f1ffc34e9204"
  },
  {
   "cell_type": "code",
   "execution_count": 490,
   "outputs": [
    {
     "data": {
      "text/plain": "{2, 3}"
     },
     "execution_count": 490,
     "metadata": {},
     "output_type": "execute_result"
    }
   ],
   "source": [
    "# 1 삭제\n",
    "s.remove(1)\n",
    "s"
   ],
   "metadata": {
    "collapsed": false,
    "ExecuteTime": {
     "end_time": "2023-09-17T09:15:52.897368Z",
     "start_time": "2023-09-17T09:15:52.340666Z"
    }
   },
   "id": "6e5cfc9b05ceb5bb"
  },
  {
   "cell_type": "code",
   "execution_count": 491,
   "outputs": [
    {
     "data": {
      "text/plain": "{1, 2, 3, 4, 5, 6, 7}"
     },
     "execution_count": 491,
     "metadata": {},
     "output_type": "execute_result"
    }
   ],
   "source": [
    "# [1, 4, 5, 6, 7] 추가\n",
    "s.update([1, 4, 5, 6, 7])\n",
    "s"
   ],
   "metadata": {
    "collapsed": false,
    "ExecuteTime": {
     "end_time": "2023-09-17T09:15:52.897482Z",
     "start_time": "2023-09-17T09:15:52.343145Z"
    }
   },
   "id": "19a309a32602070b"
  },
  {
   "cell_type": "code",
   "execution_count": 492,
   "outputs": [
    {
     "data": {
      "text/plain": "{1, 2, 4, 5, 6, 7}"
     },
     "execution_count": 492,
     "metadata": {},
     "output_type": "execute_result"
    }
   ],
   "source": [
    "# 3 삭제\n",
    "s.discard(3)\n",
    "s"
   ],
   "metadata": {
    "collapsed": false,
    "ExecuteTime": {
     "end_time": "2023-09-17T09:15:52.897571Z",
     "start_time": "2023-09-17T09:15:52.345361Z"
    }
   },
   "id": "1cf883d044a5b3b9"
  },
  {
   "cell_type": "code",
   "execution_count": 493,
   "outputs": [
    {
     "data": {
      "text/plain": "set()"
     },
     "execution_count": 493,
     "metadata": {},
     "output_type": "execute_result"
    }
   ],
   "source": [
    "# 모든 원소 삭제\n",
    "s.clear()\n",
    "s"
   ],
   "metadata": {
    "collapsed": false,
    "ExecuteTime": {
     "end_time": "2023-09-17T09:15:52.902735Z",
     "start_time": "2023-09-17T09:15:52.347882Z"
    }
   },
   "id": "cf8591704291c8be"
  },
  {
   "cell_type": "code",
   "execution_count": 494,
   "outputs": [],
   "source": [
    "# s1과 s2의 합집합\n",
    "s1 = set( [1, 2, 3, 4, 5] )\n",
    "s2 = set( [3, 4, 5, 6, 7] )"
   ],
   "metadata": {
    "collapsed": false,
    "ExecuteTime": {
     "end_time": "2023-09-17T09:15:52.902791Z",
     "start_time": "2023-09-17T09:15:52.349828Z"
    }
   },
   "id": "461018a1574f3797"
  },
  {
   "cell_type": "code",
   "execution_count": 495,
   "outputs": [
    {
     "name": "stdout",
     "output_type": "stream",
     "text": [
      "{1, 2, 3, 4, 5, 6, 7}\n",
      "{1, 2, 3, 4, 5, 6, 7}\n"
     ]
    }
   ],
   "source": [
    "# s1과 s2의 합집합\n",
    "print(s1.union(s2))\n",
    "print(s1 | s2)"
   ],
   "metadata": {
    "collapsed": false,
    "ExecuteTime": {
     "end_time": "2023-09-17T09:15:52.902882Z",
     "start_time": "2023-09-17T09:15:52.352187Z"
    }
   },
   "id": "33bbf5c19efe8032"
  },
  {
   "cell_type": "code",
   "execution_count": 496,
   "outputs": [
    {
     "name": "stdout",
     "output_type": "stream",
     "text": [
      "{3, 4, 5}\n",
      "{3, 4, 5}\n"
     ]
    }
   ],
   "source": [
    "# s1과 s2의 교집합\n",
    "print(s1.intersection(s2))\n",
    "print(s1 & s2)"
   ],
   "metadata": {
    "collapsed": false,
    "ExecuteTime": {
     "end_time": "2023-09-17T09:15:52.902967Z",
     "start_time": "2023-09-17T09:15:52.353995Z"
    }
   },
   "id": "b35e1b2472a36fbe"
  },
  {
   "cell_type": "code",
   "execution_count": 497,
   "outputs": [
    {
     "name": "stdout",
     "output_type": "stream",
     "text": [
      "{1, 2}\n",
      "{1, 2}\n"
     ]
    }
   ],
   "source": [
    "# s1과 s2의 차집합\n",
    "print(s1.difference(s2))\n",
    "print(s1 - s2)"
   ],
   "metadata": {
    "collapsed": false,
    "ExecuteTime": {
     "end_time": "2023-09-17T09:15:52.903048Z",
     "start_time": "2023-09-17T09:15:52.355879Z"
    }
   },
   "id": "4051b8fdf7de3e9a"
  },
  {
   "cell_type": "markdown",
   "source": [
    "---"
   ],
   "metadata": {
    "collapsed": false
   },
   "id": "441943b66aaa8030"
  },
  {
   "cell_type": "markdown",
   "source": [
    "### Dictionary\n",
    "- 데이터를 저장할 때는 구분 지을 수 있는 값을 함께 저장 Ex) 주민 등록 번호, 제품 모델 번호\n",
    "- 구분을 위한 데이터 고유 값을 Identifier 또는 Key 라고 함.\n",
    "- Key 값을 활용하여, 데이터 값(Value)를 관리함.\n",
    "- key와 value를 매칭하여 key로 value를 검색\n",
    "- 다른 언어에서는 Hash Table이라는 용어를 사용\n",
    "- **{ Key1 : Value1, Key2 : Value2, ...}** 의 형태"
   ],
   "metadata": {
    "collapsed": false
   },
   "id": "85dd8aabf126d62c"
  },
  {
   "cell_type": "code",
   "execution_count": 498,
   "outputs": [
    {
     "data": {
      "text/plain": "{20140012: 'Ga Hyeon',\n 20140059: 'So Yeong',\n 20140058: 'Jea Hong',\n 20140039: 'Ho Hyeon'}"
     },
     "execution_count": 498,
     "metadata": {},
     "output_type": "execute_result"
    }
   ],
   "source": [
    "student_info = { 20140012 : \"Sang Hyeon\", 20140059 : \"So Yeong\", 20140058 : \"Jea Hong\" }\n",
    "\n",
    "student_info[20140012]\n",
    "student_info[20140012] = \"Ga Hyeon\"\n",
    "student_info[20140012]\n",
    "student_info[20140039] = \"Ho Hyeon\"\n",
    "student_info"
   ],
   "metadata": {
    "collapsed": false,
    "ExecuteTime": {
     "end_time": "2023-09-17T09:15:52.903189Z",
     "start_time": "2023-09-17T09:15:52.357983Z"
    }
   },
   "id": "263385f2c4c68cad"
  },
  {
   "cell_type": "code",
   "execution_count": 499,
   "outputs": [
    {
     "data": {
      "text/plain": "{'America': 1, 'Korea': 82, 'Japan': 81}"
     },
     "execution_count": 499,
     "metadata": {},
     "output_type": "execute_result"
    }
   ],
   "source": [
    "country_code = {}\n",
    "country_code = { \"America\" : 1, \"Korea\" : 82, \"Japan\" : 81}\n",
    "country_code"
   ],
   "metadata": {
    "collapsed": false,
    "ExecuteTime": {
     "end_time": "2023-09-17T09:15:52.903276Z",
     "start_time": "2023-09-17T09:15:52.361777Z"
    }
   },
   "id": "df45c90228e6345e"
  },
  {
   "cell_type": "code",
   "execution_count": 500,
   "outputs": [
    {
     "data": {
      "text/plain": "dict_items([('America', 1), ('Korea', 82), ('Japan', 81)])"
     },
     "execution_count": 500,
     "metadata": {},
     "output_type": "execute_result"
    }
   ],
   "source": [
    "country_code.items()    # Dict 데이터 출력"
   ],
   "metadata": {
    "collapsed": false,
    "ExecuteTime": {
     "end_time": "2023-09-17T09:15:52.903364Z",
     "start_time": "2023-09-17T09:15:52.363937Z"
    }
   },
   "id": "7d700d068d7b7e9"
  },
  {
   "cell_type": "code",
   "execution_count": 501,
   "outputs": [
    {
     "data": {
      "text/plain": "dict_keys(['America', 'Korea', 'Japan'])"
     },
     "execution_count": 501,
     "metadata": {},
     "output_type": "execute_result"
    }
   ],
   "source": [
    "country_code.keys()     # Dict 키 값만 출력"
   ],
   "metadata": {
    "collapsed": false,
    "ExecuteTime": {
     "end_time": "2023-09-17T09:15:52.989409Z",
     "start_time": "2023-09-17T09:15:52.366045Z"
    }
   },
   "id": "bd4bb941bc495d48"
  },
  {
   "cell_type": "code",
   "execution_count": 502,
   "outputs": [
    {
     "data": {
      "text/plain": "dict_values([1, 82, 81])"
     },
     "execution_count": 502,
     "metadata": {},
     "output_type": "execute_result"
    }
   ],
   "source": [
    "country_code.values()   # Dict value 값만 출력"
   ],
   "metadata": {
    "collapsed": false,
    "ExecuteTime": {
     "end_time": "2023-09-17T09:15:52.989564Z",
     "start_time": "2023-09-17T09:15:52.368783Z"
    }
   },
   "id": "77c1d891697927c1"
  },
  {
   "cell_type": "code",
   "execution_count": 503,
   "outputs": [
    {
     "data": {
      "text/plain": "{'America': 1, 'Korea': 82, 'Japan': 81, 'German': 49}"
     },
     "execution_count": 503,
     "metadata": {},
     "output_type": "execute_result"
    }
   ],
   "source": [
    "country_code[\"German\"] = 49 # Dict 추가\n",
    "country_code"
   ],
   "metadata": {
    "collapsed": false,
    "ExecuteTime": {
     "end_time": "2023-09-17T09:15:53.036310Z",
     "start_time": "2023-09-17T09:15:52.370601Z"
    }
   },
   "id": "c0a1ea5173335022"
  },
  {
   "cell_type": "code",
   "execution_count": 504,
   "outputs": [
    {
     "name": "stdout",
     "output_type": "stream",
     "text": [
      "Key: 1, Value: America\n",
      "Key: 82, Value: Korea\n",
      "Key: 81, Value: Japan\n",
      "Key: 49, Value: German\n"
     ]
    }
   ],
   "source": [
    "for v, k in country_code.items():\n",
    "    print(\"Key:\", k, end=\", \")\n",
    "    print(\"Value:\", v)\n"
   ],
   "metadata": {
    "collapsed": false,
    "ExecuteTime": {
     "end_time": "2023-09-17T09:15:53.036542Z",
     "start_time": "2023-09-17T09:15:52.372832Z"
    }
   },
   "id": "343ada4c57994c42"
  },
  {
   "cell_type": "code",
   "execution_count": 505,
   "outputs": [
    {
     "data": {
      "text/plain": "True"
     },
     "execution_count": 505,
     "metadata": {},
     "output_type": "execute_result"
    }
   ],
   "source": [
    "# Key값에 \"Korea\"가 있는 지 확인\n",
    "\"Korea\" in country_code.keys()"
   ],
   "metadata": {
    "collapsed": false,
    "ExecuteTime": {
     "end_time": "2023-09-17T09:15:53.036645Z",
     "start_time": "2023-09-17T09:15:52.375098Z"
    }
   },
   "id": "82b2c6d8ca11e877"
  },
  {
   "cell_type": "code",
   "execution_count": 506,
   "outputs": [
    {
     "data": {
      "text/plain": "True"
     },
     "execution_count": 506,
     "metadata": {},
     "output_type": "execute_result"
    }
   ],
   "source": [
    "# Value값에 \"Korea\"가 있는 지 확인\n",
    "82 in country_code.values()"
   ],
   "metadata": {
    "collapsed": false,
    "ExecuteTime": {
     "end_time": "2023-09-17T09:15:53.036736Z",
     "start_time": "2023-09-17T09:15:52.377157Z"
    }
   },
   "id": "30e2a8f7b624b193"
  },
  {
   "cell_type": "markdown",
   "source": [
    "---"
   ],
   "metadata": {
    "collapsed": false
   },
   "id": "c3831957dd793974"
  },
  {
   "cell_type": "markdown",
   "source": [
    "### Lab-dict "
   ],
   "metadata": {
    "collapsed": false
   },
   "id": "2c0c44aaaff7fad5"
  },
  {
   "cell_type": "code",
   "execution_count": 507,
   "outputs": [
    {
     "name": "stdout",
     "output_type": "stream",
     "text": [
      "{'id': 1, 'source': 1, 'tiana': 167, 'white_rabbit': 237, 'flo': 324, 'chum': 311, 'rocket_raccoon': 473, 'faline': 3115, 'kristoff': 4934, 'tinker_bell': 696, 'crush': 231, 'flik': 424, 'claire_wheeler': 2777, 'meg': 3098, 'fillmore': 7394, 'tarzan': 4193, 'bomb_voyage': 337, 'prince_naveen': 425, 'disgust': 305, 'bo_peep': 407, 'francis': 5978, 'aladdin': 402, 'eve': 239, 'bookworm': 8500, 'cheshire_cat': 200, 'anna': 304, 'emperor_zurg': 4470, 'the_dodo': 1364, 'finn_mcmissile': 319, 'barricade': 5, 'fear': 2968, 'marlon_the_alligator': 3203, 'don_carlton': 2773, 'alice': 123, 'carrie_williams': 223, 'boo': 304, 'bing_bong': 311, 'charlie': 363, 'snow_white': 115, 'elsa': 7500, 'emile': 168, 'django': 371, 'fred': 244, 'bambi': 275, 'fa_zhou': 299, 'fritz': 94, 'duke_of_weselton': 264, 'nani_pelekai': 319, 'the_magic_mirror': 116, 'mulan': 188, 'thor': 98, 'flynn_rider': 1996, 'lilo_pelekai': 190, 'anton_ego': 5819, 'queen_grimhilde': 5000, 'tiger_lily': 1846, 'mungo': 237, 'tigger': 884, 'guido': 2541, 'stitch': 3742, 'mama_odie': 1883, 'shell_history': 60, 'flora': 247, 'chick_hicks': 1678, 'francesco_bernoulli': 292, 'darla_sherman': 1861, 'brent_mustangburger': 4838, 'charlotte_la_bouff': 472, 'riley_anderson': 330, 'joy': 258, 'sadness': 133, 'prince_hans': 275, 'chatter_telephone': 372, 'rapunzel': 219, 'peter_pig': 500, 'dory': 410, 'jane_porter': 852, 'chunk': 126, 'louis_the_alligator': 1374, 'brock_pearson': 242, 'coral': 186, 'darrell_cartrip': 146, 'maximus': 172, 'ray_the_firefly': 998, 'bumblebee': 260, 'kocoum': 438, 'al_mcwhiggin': 777, 'auguste_gusteau': 153, 'auto': 458, 'roo': 2782, 'roger_rabbit': 211, 'captain_hook': 403, 'collette_tatou': 206, 'eudora': 191, 'storm': 19, 'dim': 240, 'dolly': 254, 'aurora': 267, 'pocahontas': 312, 'genie': 61, 'splunk_teamlab': 115, 'pascal': 224, 'peter_pan': 463, 'merryweather': 219, 'wendy_darling': 218, 'nakoma': 133, 'hadoop_teamlab': 53, 'abominable_snowman': 1, 'silver_surfer': 1, 'sven': 1, 'clayton': 1, 'tootles': 1, 'bullseye': 1, 'acer': 1, 'oaken': 1, 'alfredo_linguini': 1}\n"
     ]
    }
   ],
   "source": [
    "import csv\n",
    "\n",
    "# 정렬을 위한 함수\n",
    "def getKey(item):\n",
    "    return item[1]\n",
    "\n",
    "# 파일 읽어오기\n",
    "command_data = []\n",
    "with open(\"command_data.csv\", \"r\", encoding=\"utf8\") as cvsfile:\n",
    "    spamreader = csv.reader(cvsfile, delimiter=\",\", quotechar='\"')\n",
    "    for row in spamreader:\n",
    "        command_data.append(row)\n",
    "\n",
    "# dict 생성, ID를 key값, 입력줄 수를 value값. \n",
    "command_counter = {}\n",
    "# list 데이터를 dict로 변경\n",
    "for data in command_data:\n",
    "    # ID가 이미 key값으로 변경되었을 때\n",
    "    if data[1] in command_counter.keys():\n",
    "        # 기존 출현한 ID\n",
    "        command_counter[data[1]] += 1\n",
    "    else:\n",
    "        # 처음 나온 ID\n",
    "        command_counter[data[1]] = 1\n",
    "\n",
    "print(command_counter)\n",
    "        \n",
    "# dictlist = []\n",
    "# for key, value in command_counter.items():\n",
    "#     temp = [key, value]\n",
    "#     dictlist.append(temp)\n",
    "# \n",
    "# # list를 입력 줄 수로 정렬\n",
    "# sorted_dict = sorted(dictlist, key=getKey, reverse=True)\n",
    "# # list의 상위 100개 값만 출력\n",
    "# print(sorted_dict[:100])"
   ],
   "metadata": {
    "collapsed": false,
    "ExecuteTime": {
     "end_time": "2023-09-17T09:15:53.268031Z",
     "start_time": "2023-09-17T09:15:52.383630Z"
    }
   },
   "id": "33e6a845b23ca138"
  },
  {
   "cell_type": "markdown",
   "source": [
    "---"
   ],
   "metadata": {
    "collapsed": false
   },
   "id": "52660395669f0ef3"
  },
  {
   "cell_type": "markdown",
   "source": [
    "### Collection\n",
    "- List, Tuple, Dict에 대한 python Built-in 확장 자료 구조 (모듈)\n",
    "- 편의성, 실행 효율 등을 사용자에게 제공함\n",
    "- 아래의 모듈이 존재함\n",
    "    - from collections import deque\n",
    "    - from collections import Counter\n",
    "    - from collections import OrderedDict\n",
    "    - from collections import defaultdict\n",
    "    - from collections import namedtuple"
   ],
   "metadata": {
    "collapsed": false
   },
   "id": "f8bb3710a1deeb38"
  },
  {
   "cell_type": "markdown",
   "source": [
    "---"
   ],
   "metadata": {
    "collapsed": false
   },
   "id": "c54bb1b3288f5807"
  },
  {
   "cell_type": "markdown",
   "source": [
    "### Deque\n",
    "- Stack과 Queue를 지원하는 모듈\n",
    "- List에 비해 빠르고 효율적인 자료 저장 방식을 지원함\n",
    "- rotate, reverse 등 Linked List의 특성을 지원함\n",
    "- 기존 list 형태의 함수 모두 지원함 "
   ],
   "metadata": {
    "collapsed": false
   },
   "id": "f9429c360f72195b"
  },
  {
   "cell_type": "code",
   "execution_count": 508,
   "outputs": [],
   "source": [
    "from collections import deque"
   ],
   "metadata": {
    "collapsed": false,
    "ExecuteTime": {
     "end_time": "2023-09-17T09:15:53.268139Z",
     "start_time": "2023-09-17T09:15:52.501791Z"
    }
   },
   "id": "9ab66f5ba0aee971"
  },
  {
   "cell_type": "code",
   "execution_count": 509,
   "outputs": [
    {
     "data": {
      "text/plain": "deque([10, 0, 1, 2, 3, 4])"
     },
     "execution_count": 509,
     "metadata": {},
     "output_type": "execute_result"
    }
   ],
   "source": [
    "deque_list = deque()\n",
    "\n",
    "for i in range(5):\n",
    "    deque_list.append(i)\n",
    "    \n",
    "deque_list.appendleft(10)\n",
    "deque_list"
   ],
   "metadata": {
    "collapsed": false,
    "ExecuteTime": {
     "end_time": "2023-09-17T09:15:53.300008Z",
     "start_time": "2023-09-17T09:15:52.504344Z"
    }
   },
   "id": "e9ec27932585e079"
  },
  {
   "cell_type": "code",
   "execution_count": 510,
   "outputs": [
    {
     "data": {
      "text/plain": "deque([4, 10, 0, 1, 2, 3])"
     },
     "execution_count": 510,
     "metadata": {},
     "output_type": "execute_result"
    }
   ],
   "source": [
    "deque_list.rotate(1)\n",
    "deque_list"
   ],
   "metadata": {
    "collapsed": false,
    "ExecuteTime": {
     "end_time": "2023-09-17T09:15:53.300154Z",
     "start_time": "2023-09-17T09:15:52.506919Z"
    }
   },
   "id": "5ba2328e3a90c966"
  },
  {
   "cell_type": "code",
   "execution_count": 511,
   "outputs": [
    {
     "data": {
      "text/plain": "deque([2, 3, 4, 10, 0, 1])"
     },
     "execution_count": 511,
     "metadata": {},
     "output_type": "execute_result"
    }
   ],
   "source": [
    "deque_list.rotate(2)\n",
    "deque_list"
   ],
   "metadata": {
    "collapsed": false,
    "ExecuteTime": {
     "end_time": "2023-09-17T09:15:53.300239Z",
     "start_time": "2023-09-17T09:15:52.509761Z"
    }
   },
   "id": "462715d6836de21e"
  },
  {
   "cell_type": "code",
   "execution_count": 512,
   "outputs": [
    {
     "data": {
      "text/plain": "deque([2, 3, 4, 10, 0, 1, 5, 6, 7])"
     },
     "execution_count": 512,
     "metadata": {},
     "output_type": "execute_result"
    }
   ],
   "source": [
    "deque_list.extend([5, 6, 7])\n",
    "deque_list"
   ],
   "metadata": {
    "collapsed": false,
    "ExecuteTime": {
     "end_time": "2023-09-17T09:15:53.300324Z",
     "start_time": "2023-09-17T09:15:52.512052Z"
    }
   },
   "id": "dee158a3226ad9da"
  },
  {
   "cell_type": "code",
   "execution_count": 513,
   "outputs": [
    {
     "data": {
      "text/plain": "deque([7, 6, 5, 2, 3, 4, 10, 0, 1, 5, 6, 7])"
     },
     "execution_count": 513,
     "metadata": {},
     "output_type": "execute_result"
    }
   ],
   "source": [
    "deque_list.extendleft([5, 6, 7])\n",
    "deque_list"
   ],
   "metadata": {
    "collapsed": false,
    "ExecuteTime": {
     "end_time": "2023-09-17T09:15:53.300405Z",
     "start_time": "2023-09-17T09:15:52.514418Z"
    }
   },
   "id": "e7c5a78789f93431"
  },
  {
   "cell_type": "code",
   "execution_count": 514,
   "outputs": [],
   "source": [
    "import time"
   ],
   "metadata": {
    "collapsed": false,
    "ExecuteTime": {
     "end_time": "2023-09-17T09:15:53.300445Z",
     "start_time": "2023-09-17T09:15:52.516700Z"
    }
   },
   "id": "d128a33e15e1e563"
  },
  {
   "cell_type": "code",
   "execution_count": 515,
   "outputs": [
    {
     "name": "stdout",
     "output_type": "stream",
     "text": [
      "693 µs ± 6.36 µs per loop (mean ± std. dev. of 7 runs, 1,000 loops each)\n"
     ]
    }
   ],
   "source": [
    "# 일반적인 리스트\n",
    "def general_list():\n",
    "    just_list = []\n",
    "    for i in range(100):\n",
    "        for i in range(100):\n",
    "            just_list.append(i)\n",
    "            just_list.pop()\n",
    "            \n",
    "%timeit general_list()"
   ],
   "metadata": {
    "collapsed": false,
    "ExecuteTime": {
     "end_time": "2023-09-17T09:15:58.168110Z",
     "start_time": "2023-09-17T09:15:52.550317Z"
    }
   },
   "id": "b876d55eafbfcc9a"
  },
  {
   "cell_type": "code",
   "execution_count": 516,
   "outputs": [
    {
     "name": "stdout",
     "output_type": "stream",
     "text": [
      "238 µs ± 795 ns per loop (mean ± std. dev. of 7 runs, 1,000 loops each)\n"
     ]
    }
   ],
   "source": [
    "# Deque\n",
    "def deque_list():\n",
    "    deque_list = deque()\n",
    "    \n",
    "    for i in range(100):\n",
    "        for i in range(100):\n",
    "            deque_list.append(i)\n",
    "            deque_list.pop()\n",
    "            \n",
    "%timeit deque_list()"
   ],
   "metadata": {
    "collapsed": false,
    "ExecuteTime": {
     "end_time": "2023-09-17T09:16:00.105907Z",
     "start_time": "2023-09-17T09:15:58.227641Z"
    }
   },
   "id": "eda0bfdc98434177"
  },
  {
   "cell_type": "markdown",
   "source": [
    "### Ordered Dict\n",
    "- Dict와 달리 데이터를 입력한 순서대로 dict에 반환함\n",
    "- 그러나 dict도 python 3.6부터 입력한 순서를 보장하여 출력함"
   ],
   "metadata": {
    "collapsed": false
   },
   "id": "b6d80c0e5d7cc99e"
  },
  {
   "cell_type": "code",
   "execution_count": 517,
   "outputs": [],
   "source": [
    "from collections import OrderedDict"
   ],
   "metadata": {
    "collapsed": false,
    "ExecuteTime": {
     "end_time": "2023-09-17T09:16:00.106768Z",
     "start_time": "2023-09-17T09:16:00.104741Z"
    }
   },
   "id": "5dca444cb40596f0"
  },
  {
   "cell_type": "code",
   "execution_count": 518,
   "outputs": [
    {
     "name": "stdout",
     "output_type": "stream",
     "text": [
      "x 100\n",
      "z 300\n",
      "y 200\n",
      "l 500\n"
     ]
    }
   ],
   "source": [
    "d = {}\n",
    "d['x'] = 100\n",
    "d['z'] = 300\n",
    "d['y'] = 200\n",
    "d['l'] = 500\n",
    "\n",
    "for k, v in d.items():\n",
    "    print(k, v)"
   ],
   "metadata": {
    "collapsed": false,
    "ExecuteTime": {
     "end_time": "2023-09-17T09:16:00.110802Z",
     "start_time": "2023-09-17T09:16:00.107215Z"
    }
   },
   "id": "ea9407522a782054"
  },
  {
   "cell_type": "code",
   "execution_count": 519,
   "outputs": [],
   "source": [
    "def get_key():\n",
    "    return x[0]"
   ],
   "metadata": {
    "collapsed": false,
    "ExecuteTime": {
     "end_time": "2023-09-17T09:16:00.111105Z",
     "start_time": "2023-09-17T09:16:00.108991Z"
    }
   },
   "id": "71bb27668b2b4771"
  },
  {
   "cell_type": "code",
   "execution_count": 520,
   "outputs": [
    {
     "data": {
      "text/plain": "[('l', 500), ('x', 100), ('y', 200), ('z', 300)]"
     },
     "execution_count": 520,
     "metadata": {},
     "output_type": "execute_result"
    }
   ],
   "source": [
    "sorted(d.items(), key=lambda t : t[0])"
   ],
   "metadata": {
    "collapsed": false,
    "ExecuteTime": {
     "end_time": "2023-09-17T09:16:00.130541Z",
     "start_time": "2023-09-17T09:16:00.111215Z"
    }
   },
   "id": "c83a6250b9ad4b98"
  },
  {
   "cell_type": "code",
   "execution_count": 521,
   "outputs": [
    {
     "name": "stdout",
     "output_type": "stream",
     "text": [
      "l 500\n",
      "x 100\n",
      "y 200\n",
      "z 300\n"
     ]
    }
   ],
   "source": [
    "for k, v in OrderedDict(sorted(d.items(), key=lambda t : t[0])).items():\n",
    "    print(k, v)"
   ],
   "metadata": {
    "collapsed": false,
    "ExecuteTime": {
     "end_time": "2023-09-17T09:16:00.130680Z",
     "start_time": "2023-09-17T09:16:00.117990Z"
    }
   },
   "id": "e64cee442aaa8829"
  },
  {
   "cell_type": "markdown",
   "source": [
    "---"
   ],
   "metadata": {
    "collapsed": false
   },
   "id": "c93fdd4b0a9c9e1a"
  },
  {
   "cell_type": "markdown",
   "source": [
    "### default Dict\n",
    "- Dict type의 값에 기본 값을 지정, 신규 값 생성시 사용하는 방법"
   ],
   "metadata": {
    "collapsed": false
   },
   "id": "e454e7e2fc8455a"
  },
  {
   "cell_type": "code",
   "execution_count": 522,
   "outputs": [],
   "source": [
    "def default_value():\n",
    "    return 10"
   ],
   "metadata": {
    "collapsed": false,
    "ExecuteTime": {
     "end_time": "2023-09-17T09:16:00.130730Z",
     "start_time": "2023-09-17T09:16:00.119251Z"
    }
   },
   "id": "596e4633d5162baf"
  },
  {
   "cell_type": "code",
   "execution_count": 523,
   "outputs": [
    {
     "data": {
      "text/plain": "defaultdict(<function __main__.default_value()>, {})"
     },
     "execution_count": 523,
     "metadata": {},
     "output_type": "execute_result"
    }
   ],
   "source": [
    "from collections import defaultdict\n",
    "\n",
    "# 함수 형태로 넣어줘야 함.\n",
    "d = defaultdict(default_value)\n",
    "d"
   ],
   "metadata": {
    "collapsed": false,
    "ExecuteTime": {
     "end_time": "2023-09-17T09:16:00.130820Z",
     "start_time": "2023-09-17T09:16:00.121487Z"
    }
   },
   "id": "ef7e51d0a6a811fc"
  },
  {
   "cell_type": "code",
   "execution_count": 524,
   "outputs": [
    {
     "data": {
      "text/plain": "10"
     },
     "execution_count": 524,
     "metadata": {},
     "output_type": "execute_result"
    }
   ],
   "source": [
    "d['first']"
   ],
   "metadata": {
    "collapsed": false,
    "ExecuteTime": {
     "end_time": "2023-09-17T09:16:00.170925Z",
     "start_time": "2023-09-17T09:16:00.124572Z"
    }
   },
   "id": "9a0460875a34954f"
  },
  {
   "cell_type": "code",
   "execution_count": 525,
   "outputs": [],
   "source": [
    "# 하나의 지문에 각 단어들이 몇 개나 있는지 세고 싶을 경우?\n",
    "# Text-mining 접근법 - Vector Space Model\n",
    "\n",
    "text = \"\"\"In order to make the corpora more useful for doing linguistic research, they are often subjected to a process known as annotation. An example of annotating a corpus is part-of-speech tagging, or POS-tagging, in which information about each word's part of speech (verb, noun, adjective, etc.) is added to the corpus in the form of tags. Another example is indicating the lemma (base) form of each word. When the language of the corpus is not a working language of the researchers who use it, interlinear glossing is used to make the annotation bilingual.\"\"\".lower().split()"
   ],
   "metadata": {
    "collapsed": false,
    "ExecuteTime": {
     "end_time": "2023-09-17T09:16:00.171015Z",
     "start_time": "2023-09-17T09:16:00.127480Z"
    }
   },
   "id": "c2bef1371225ea67"
  },
  {
   "cell_type": "code",
   "execution_count": 526,
   "outputs": [],
   "source": [
    "def get_key(x):\n",
    "    return x[1]"
   ],
   "metadata": {
    "collapsed": false,
    "ExecuteTime": {
     "end_time": "2023-09-17T09:16:00.204138Z",
     "start_time": "2023-09-17T09:16:00.129902Z"
    }
   },
   "id": "f3820313c28a8af8"
  },
  {
   "cell_type": "code",
   "execution_count": 527,
   "outputs": [
    {
     "data": {
      "text/plain": "['in',\n 'order',\n 'to',\n 'make',\n 'the',\n 'corpora',\n 'more',\n 'useful',\n 'for',\n 'doing',\n 'linguistic',\n 'research,',\n 'they',\n 'are',\n 'often',\n 'subjected',\n 'to',\n 'a',\n 'process',\n 'known',\n 'as',\n 'annotation.',\n 'an',\n 'example',\n 'of',\n 'annotating',\n 'a',\n 'corpus',\n 'is',\n 'part-of-speech',\n 'tagging,',\n 'or',\n 'pos-tagging,',\n 'in',\n 'which',\n 'information',\n 'about',\n 'each',\n \"word's\",\n 'part',\n 'of',\n 'speech',\n '(verb,',\n 'noun,',\n 'adjective,',\n 'etc.)',\n 'is',\n 'added',\n 'to',\n 'the',\n 'corpus',\n 'in',\n 'the',\n 'form',\n 'of',\n 'tags.',\n 'another',\n 'example',\n 'is',\n 'indicating',\n 'the',\n 'lemma',\n '(base)',\n 'form',\n 'of',\n 'each',\n 'word.',\n 'when',\n 'the',\n 'language',\n 'of',\n 'the',\n 'corpus',\n 'is',\n 'not',\n 'a',\n 'working',\n 'language',\n 'of',\n 'the',\n 'researchers',\n 'who',\n 'use',\n 'it,',\n 'interlinear',\n 'glossing',\n 'is',\n 'used',\n 'to',\n 'make',\n 'the',\n 'annotation',\n 'bilingual.']"
     },
     "execution_count": 527,
     "metadata": {},
     "output_type": "execute_result"
    }
   ],
   "source": [
    "text"
   ],
   "metadata": {
    "collapsed": false,
    "ExecuteTime": {
     "end_time": "2023-09-17T09:16:00.204701Z",
     "start_time": "2023-09-17T09:16:00.131896Z"
    }
   },
   "id": "bb2409e86508e3cb"
  },
  {
   "cell_type": "code",
   "execution_count": 528,
   "outputs": [
    {
     "data": {
      "text/plain": "defaultdict(<function __main__.<lambda>()>,\n            {'in': 3,\n             'order': 1,\n             'to': 4,\n             'make': 2,\n             'the': 8,\n             'corpora': 1,\n             'more': 1,\n             'useful': 1,\n             'for': 1,\n             'doing': 1,\n             'linguistic': 1,\n             'research,': 1,\n             'they': 1,\n             'are': 1,\n             'often': 1,\n             'subjected': 1,\n             'a': 3,\n             'process': 1,\n             'known': 1,\n             'as': 1,\n             'annotation.': 1,\n             'an': 1,\n             'example': 2,\n             'of': 6,\n             'annotating': 1,\n             'corpus': 3,\n             'is': 5,\n             'part-of-speech': 1,\n             'tagging,': 1,\n             'or': 1,\n             'pos-tagging,': 1,\n             'which': 1,\n             'information': 1,\n             'about': 1,\n             'each': 2,\n             \"word's\": 1,\n             'part': 1,\n             'speech': 1,\n             '(verb,': 1,\n             'noun,': 1,\n             'adjective,': 1,\n             'etc.)': 1,\n             'added': 1,\n             'form': 2,\n             'tags.': 1,\n             'another': 1,\n             'indicating': 1,\n             'lemma': 1,\n             '(base)': 1,\n             'word.': 1,\n             'when': 1,\n             'language': 2,\n             'not': 1,\n             'working': 1,\n             'researchers': 1,\n             'who': 1,\n             'use': 1,\n             'it,': 1,\n             'interlinear': 1,\n             'glossing': 1,\n             'used': 1,\n             'annotation': 1,\n             'bilingual.': 1})"
     },
     "execution_count": 528,
     "metadata": {},
     "output_type": "execute_result"
    }
   ],
   "source": [
    "d = defaultdict(lambda : 0)\n",
    "\n",
    "for word in text:\n",
    "    d[word] += 1\n",
    "\n",
    "d"
   ],
   "metadata": {
    "collapsed": false,
    "ExecuteTime": {
     "end_time": "2023-09-17T09:16:00.205237Z",
     "start_time": "2023-09-17T09:16:00.134093Z"
    }
   },
   "id": "4b21f3b471e059d9"
  },
  {
   "cell_type": "code",
   "execution_count": 529,
   "outputs": [
    {
     "name": "stdout",
     "output_type": "stream",
     "text": [
      "OrderedDict([('the', 8), ('of', 6), ('is', 5), ('to', 4), ('in', 3), ('a', 3), ('corpus', 3), ('make', 2), ('example', 2), ('each', 2), ('form', 2), ('language', 2), ('order', 1), ('corpora', 1), ('more', 1), ('useful', 1), ('for', 1), ('doing', 1), ('linguistic', 1), ('research,', 1), ('they', 1), ('are', 1), ('often', 1), ('subjected', 1), ('process', 1), ('known', 1), ('as', 1), ('annotation.', 1), ('an', 1), ('annotating', 1), ('part-of-speech', 1), ('tagging,', 1), ('or', 1), ('pos-tagging,', 1), ('which', 1), ('information', 1), ('about', 1), (\"word's\", 1), ('part', 1), ('speech', 1), ('(verb,', 1), ('noun,', 1), ('adjective,', 1), ('etc.)', 1), ('added', 1), ('tags.', 1), ('another', 1), ('indicating', 1), ('lemma', 1), ('(base)', 1), ('word.', 1), ('when', 1), ('not', 1), ('working', 1), ('researchers', 1), ('who', 1), ('use', 1), ('it,', 1), ('interlinear', 1), ('glossing', 1), ('used', 1), ('annotation', 1), ('bilingual.', 1)])\n"
     ]
    },
    {
     "data": {
      "text/plain": "5"
     },
     "execution_count": 529,
     "metadata": {},
     "output_type": "execute_result"
    }
   ],
   "source": [
    "sorted_dict = OrderedDict()\n",
    "for i, v in sorted(d.items(), key=get_key, reverse=True):\n",
    "    sorted_dict[i] = v\n",
    "\n",
    "print(sorted_dict)\n",
    "\n",
    "sorted_dict[\"is\"]"
   ],
   "metadata": {
    "collapsed": false,
    "ExecuteTime": {
     "end_time": "2023-09-17T09:16:00.205372Z",
     "start_time": "2023-09-17T09:16:00.138154Z"
    }
   },
   "id": "832e861a543f30bc"
  },
  {
   "cell_type": "markdown",
   "source": [
    "---"
   ],
   "metadata": {
    "collapsed": false
   },
   "id": "250fbe5986cf17ab"
  },
  {
   "cell_type": "markdown",
   "source": [
    "### Counter\n",
    "- Sequence type의 data element들의 개수를 dict 형태로 반환\n",
    "- Dict type, keyword parameter 등도 모두 처리 가능\n",
    "- Set의 연산을 지원함"
   ],
   "metadata": {
    "collapsed": false
   },
   "id": "5a3ef2a5eed9cac5"
  },
  {
   "cell_type": "code",
   "execution_count": 530,
   "outputs": [],
   "source": [
    "from collections import Counter"
   ],
   "metadata": {
    "collapsed": false,
    "ExecuteTime": {
     "end_time": "2023-09-17T09:16:00.205419Z",
     "start_time": "2023-09-17T09:16:00.140280Z"
    }
   },
   "id": "844798342dd07cfc"
  },
  {
   "cell_type": "code",
   "execution_count": 531,
   "outputs": [
    {
     "name": "stdout",
     "output_type": "stream",
     "text": [
      "Counter({'S': 4, 'B': 3})\n"
     ]
    },
    {
     "data": {
      "text/plain": "7"
     },
     "execution_count": 531,
     "metadata": {},
     "output_type": "execute_result"
    }
   ],
   "source": [
    "c = Counter([\"B\", \"S\", \"S\", \"S\", \"S\", \"B\", \"B\"])\n",
    "print(c)\n",
    "\n",
    "len([\"B\", \"S\", \"S\", \"S\",\"S\", \"B\", \"B\"])"
   ],
   "metadata": {
    "collapsed": false,
    "ExecuteTime": {
     "end_time": "2023-09-17T09:16:00.205615Z",
     "start_time": "2023-09-17T09:16:00.142697Z"
    }
   },
   "id": "f25c3b9bfcdc1ac7"
  },
  {
   "cell_type": "code",
   "execution_count": 532,
   "outputs": [
    {
     "name": "stdout",
     "output_type": "stream",
     "text": [
      "['red', 'red', 'red', 'red', 'blue', 'blue']\n"
     ]
    }
   ],
   "source": [
    "c  = Counter({'red' : 4, 'blue' : 2})\n",
    "print(list(c.elements()))"
   ],
   "metadata": {
    "collapsed": false,
    "ExecuteTime": {
     "end_time": "2023-09-17T09:16:00.205795Z",
     "start_time": "2023-09-17T09:16:00.148876Z"
    }
   },
   "id": "374ac78cae58d337"
  },
  {
   "cell_type": "code",
   "execution_count": 533,
   "outputs": [
    {
     "name": "stdout",
     "output_type": "stream",
     "text": [
      "['cats', 'cats', 'cats', 'cats', 'dogs', 'dogs', 'dogs', 'dogs', 'dogs', 'dogs', 'dogs', 'dogs']\n"
     ]
    }
   ],
   "source": [
    "c = Counter(cats=4, dogs=8)\n",
    "print(list(c.elements()))"
   ],
   "metadata": {
    "collapsed": false,
    "ExecuteTime": {
     "end_time": "2023-09-17T09:16:00.205930Z",
     "start_time": "2023-09-17T09:16:00.150667Z"
    }
   },
   "id": "70bbceff5b2f0a55"
  },
  {
   "cell_type": "code",
   "execution_count": 534,
   "outputs": [
    {
     "name": "stdout",
     "output_type": "stream",
     "text": [
      "Counter({'a': 4, 'b': 2, 'c': 0, 'd': -2})\n",
      "Counter({'d': 4, 'c': 3, 'b': 2, 'a': 1})\n",
      "Counter({'a': 4, 'd': 4, 'c': 3, 'b': 2})\n"
     ]
    }
   ],
   "source": [
    "c = Counter(a=4, b=2, c=0, d=-2)\n",
    "d = Counter(a=1, b=2, c=3, d=4)\n",
    "\n",
    "print(c)\n",
    "print(d)\n",
    "\n",
    "print(c|d)"
   ],
   "metadata": {
    "collapsed": false,
    "ExecuteTime": {
     "end_time": "2023-09-17T09:16:00.215465Z",
     "start_time": "2023-09-17T09:16:00.153034Z"
    }
   },
   "id": "d06eab2cf1a1638c"
  },
  {
   "cell_type": "code",
   "execution_count": 535,
   "outputs": [
    {
     "data": {
      "text/plain": "[('the', 8),\n ('of', 6),\n ('is', 5),\n ('to', 4),\n ('in', 3),\n ('a', 3),\n ('corpus', 3),\n ('make', 2),\n ('example', 2),\n ('each', 2),\n ('form', 2),\n ('language', 2),\n ('order', 1),\n ('corpora', 1),\n ('more', 1),\n ('useful', 1),\n ('for', 1),\n ('doing', 1),\n ('linguistic', 1),\n ('research,', 1),\n ('they', 1),\n ('are', 1),\n ('often', 1),\n ('subjected', 1),\n ('process', 1),\n ('known', 1),\n ('as', 1),\n ('annotation.', 1),\n ('an', 1),\n ('annotating', 1),\n ('part-of-speech', 1),\n ('tagging,', 1),\n ('or', 1),\n ('pos-tagging,', 1),\n ('which', 1),\n ('information', 1),\n ('about', 1),\n (\"word's\", 1),\n ('part', 1),\n ('speech', 1),\n ('(verb,', 1),\n ('noun,', 1),\n ('adjective,', 1),\n ('etc.)', 1),\n ('added', 1),\n ('tags.', 1),\n ('another', 1),\n ('indicating', 1),\n ('lemma', 1),\n ('(base)', 1),\n ('word.', 1),\n ('when', 1),\n ('not', 1),\n ('working', 1),\n ('researchers', 1),\n ('who', 1),\n ('use', 1),\n ('it,', 1),\n ('interlinear', 1),\n ('glossing', 1),\n ('used', 1),\n ('annotation', 1),\n ('bilingual.', 1)]"
     },
     "execution_count": 535,
     "metadata": {},
     "output_type": "execute_result"
    }
   ],
   "source": [
    "sorted(Counter(text).items(), key=lambda t : t[1], reverse=True)"
   ],
   "metadata": {
    "collapsed": false,
    "ExecuteTime": {
     "end_time": "2023-09-17T09:16:00.215729Z",
     "start_time": "2023-09-17T09:16:00.156022Z"
    }
   },
   "id": "bafe86adea459b09"
  },
  {
   "cell_type": "code",
   "execution_count": 536,
   "outputs": [
    {
     "name": "stdout",
     "output_type": "stream",
     "text": [
      "3\n"
     ]
    }
   ],
   "source": [
    "print(Counter(text)[\"a\"])"
   ],
   "metadata": {
    "collapsed": false,
    "ExecuteTime": {
     "end_time": "2023-09-17T09:16:00.215846Z",
     "start_time": "2023-09-17T09:16:00.158489Z"
    }
   },
   "id": "483450f0d64e80c1"
  },
  {
   "cell_type": "markdown",
   "source": [
    "---"
   ],
   "metadata": {
    "collapsed": false
   },
   "id": "5b6faae6f747a31a"
  },
  {
   "cell_type": "markdown",
   "source": [
    "### named Tuple\n",
    "- Tuple 형태로 data 구조체를 저장하는 방법\n",
    "- 저장되는 data의 variable을 사전에 지정해서 저장함"
   ],
   "metadata": {
    "collapsed": false
   },
   "id": "73d8a2020eac5891"
  },
  {
   "cell_type": "code",
   "execution_count": 537,
   "outputs": [],
   "source": [
    "from collections import namedtuple\n",
    "\n",
    "# Basic Example\n",
    "Point = namedtuple('Point', ['x', 'y'])"
   ],
   "metadata": {
    "collapsed": false,
    "ExecuteTime": {
     "end_time": "2023-09-17T09:16:00.216101Z",
     "start_time": "2023-09-17T09:16:00.160351Z"
    }
   },
   "id": "16eeea21b86993e6"
  },
  {
   "cell_type": "code",
   "execution_count": 538,
   "outputs": [
    {
     "data": {
      "text/plain": "__main__.Point"
     },
     "execution_count": 538,
     "metadata": {},
     "output_type": "execute_result"
    }
   ],
   "source": [
    "Point"
   ],
   "metadata": {
    "collapsed": false,
    "ExecuteTime": {
     "end_time": "2023-09-17T09:16:00.216211Z",
     "start_time": "2023-09-17T09:16:00.162421Z"
    }
   },
   "id": "332da4b0f780c922"
  },
  {
   "cell_type": "code",
   "execution_count": 539,
   "outputs": [
    {
     "data": {
      "text/plain": "(11, 22)"
     },
     "execution_count": 539,
     "metadata": {},
     "output_type": "execute_result"
    }
   ],
   "source": [
    "p = Point(11, y=22)\n",
    "p[0], p[1]"
   ],
   "metadata": {
    "collapsed": false,
    "ExecuteTime": {
     "end_time": "2023-09-17T09:16:00.216292Z",
     "start_time": "2023-09-17T09:16:00.164836Z"
    }
   },
   "id": "5e01b325e9f84ce1"
  },
  {
   "cell_type": "code",
   "execution_count": 540,
   "outputs": [
    {
     "name": "stdout",
     "output_type": "stream",
     "text": [
      "11 22\n",
      "33\n",
      "Point(x=11, y=22)\n"
     ]
    }
   ],
   "source": [
    "x, y = p\n",
    "print(x, y)\n",
    "print(p.x + p.y)\n",
    "print(Point(x=11, y=22))"
   ],
   "metadata": {
    "collapsed": false,
    "ExecuteTime": {
     "end_time": "2023-09-17T09:16:00.216367Z",
     "start_time": "2023-09-17T09:16:00.166813Z"
    }
   },
   "id": "e1f03929fac2bf03"
  },
  {
   "cell_type": "markdown",
   "source": [
    "---"
   ],
   "metadata": {
    "collapsed": false
   },
   "id": "30d5d4188ebbebb9"
  },
  {
   "cell_type": "code",
   "execution_count": 541,
   "outputs": [
    {
     "ename": "FileNotFoundError",
     "evalue": "[Errno 2] No such file or directory: 'users.cvs'",
     "output_type": "error",
     "traceback": [
      "\u001B[0;31m---------------------------------------------------------------------------\u001B[0m",
      "\u001B[0;31mFileNotFoundError\u001B[0m                         Traceback (most recent call last)",
      "Cell \u001B[0;32mIn[541], line 1\u001B[0m\n\u001B[0;32m----> 1\u001B[0m f \u001B[38;5;241m=\u001B[39m \u001B[38;5;28mopen\u001B[39m(\u001B[38;5;124m\"\u001B[39m\u001B[38;5;124musers.cvs\u001B[39m\u001B[38;5;124m\"\u001B[39m, \u001B[38;5;124m'\u001B[39m\u001B[38;5;124mr\u001B[39m\u001B[38;5;124m'\u001B[39m)\n\u001B[1;32m      2\u001B[0m \u001B[38;5;28mnext\u001B[39m(f)\n\u001B[1;32m      4\u001B[0m reader \u001B[38;5;241m=\u001B[39m csv\u001B[38;5;241m.\u001B[39mreader(f)\n",
      "File \u001B[0;32m~/anaconda3/lib/python3.11/site-packages/IPython/core/interactiveshell.py:284\u001B[0m, in \u001B[0;36m_modified_open\u001B[0;34m(file, *args, **kwargs)\u001B[0m\n\u001B[1;32m    277\u001B[0m \u001B[38;5;28;01mif\u001B[39;00m file \u001B[38;5;129;01min\u001B[39;00m {\u001B[38;5;241m0\u001B[39m, \u001B[38;5;241m1\u001B[39m, \u001B[38;5;241m2\u001B[39m}:\n\u001B[1;32m    278\u001B[0m     \u001B[38;5;28;01mraise\u001B[39;00m \u001B[38;5;167;01mValueError\u001B[39;00m(\n\u001B[1;32m    279\u001B[0m         \u001B[38;5;124mf\u001B[39m\u001B[38;5;124m\"\u001B[39m\u001B[38;5;124mIPython won\u001B[39m\u001B[38;5;124m'\u001B[39m\u001B[38;5;124mt let you open fd=\u001B[39m\u001B[38;5;132;01m{\u001B[39;00mfile\u001B[38;5;132;01m}\u001B[39;00m\u001B[38;5;124m by default \u001B[39m\u001B[38;5;124m\"\u001B[39m\n\u001B[1;32m    280\u001B[0m         \u001B[38;5;124m\"\u001B[39m\u001B[38;5;124mas it is likely to crash IPython. If you know what you are doing, \u001B[39m\u001B[38;5;124m\"\u001B[39m\n\u001B[1;32m    281\u001B[0m         \u001B[38;5;124m\"\u001B[39m\u001B[38;5;124myou can use builtins\u001B[39m\u001B[38;5;124m'\u001B[39m\u001B[38;5;124m open.\u001B[39m\u001B[38;5;124m\"\u001B[39m\n\u001B[1;32m    282\u001B[0m     )\n\u001B[0;32m--> 284\u001B[0m \u001B[38;5;28;01mreturn\u001B[39;00m io_open(file, \u001B[38;5;241m*\u001B[39margs, \u001B[38;5;241m*\u001B[39m\u001B[38;5;241m*\u001B[39mkwargs)\n",
      "\u001B[0;31mFileNotFoundError\u001B[0m: [Errno 2] No such file or directory: 'users.cvs'"
     ]
    }
   ],
   "source": [
    "f = open(\"users.cvs\", 'r')\n",
    "next(f)\n",
    "\n",
    "reader = csv.reader(f)\n",
    "student_list = []\n",
    "\n",
    "for row in reader:\n",
    "    student_list.append(row)"
   ],
   "metadata": {
    "collapsed": false,
    "ExecuteTime": {
     "end_time": "2023-09-17T09:16:00.230054Z",
     "start_time": "2023-09-17T09:16:00.170247Z"
    }
   },
   "id": "c6b95de6a368ab5f"
  },
  {
   "cell_type": "code",
   "execution_count": null,
   "outputs": [],
   "source": [
    "print(student_list)"
   ],
   "metadata": {
    "collapsed": false,
    "ExecuteTime": {
     "start_time": "2023-09-17T09:16:00.179365Z"
    }
   },
   "id": "505691d64683709f"
  },
  {
   "cell_type": "code",
   "execution_count": null,
   "outputs": [],
   "source": [
    "coloumns = [\"user_id\", 'integration_id', 'login_id', 'password', 'first_name', 'last_name',\n",
    "            'full_name', 'sortable_name', 'short_name', 'email', 'status']"
   ],
   "metadata": {
    "collapsed": false,
    "ExecuteTime": {
     "start_time": "2023-09-17T09:16:00.179997Z"
    }
   },
   "id": "70578d97c88db424"
  },
  {
   "cell_type": "code",
   "execution_count": null,
   "outputs": [],
   "source": [
    "Student = namedtuple('Student', \" \".join(coloumns))\n",
    "student_namedtuple_list = []\n",
    "for row in student_list:\n",
    "    student = Student(*row)\n",
    "    student_namedtuple_list.append(student)"
   ],
   "metadata": {
    "collapsed": false,
    "ExecuteTime": {
     "start_time": "2023-09-17T09:16:00.180599Z"
    }
   },
   "id": "3ae166c001f52964"
  },
  {
   "cell_type": "code",
   "execution_count": null,
   "outputs": [],
   "source": [
    "print(student_namedtuple_list)\n",
    "print(student_namedtuple_list[0].full_name)"
   ],
   "metadata": {
    "collapsed": false,
    "ExecuteTime": {
     "start_time": "2023-09-17T09:16:00.181147Z"
    }
   },
   "id": "3620da7420cbe2bf"
  }
 ],
 "metadata": {
  "kernelspec": {
   "display_name": "Python 3",
   "language": "python",
   "name": "python3"
  },
  "language_info": {
   "codemirror_mode": {
    "name": "ipython",
    "version": 2
   },
   "file_extension": ".py",
   "mimetype": "text/x-python",
   "name": "python",
   "nbconvert_exporter": "python",
   "pygments_lexer": "ipython2",
   "version": "2.7.6"
  }
 },
 "nbformat": 4,
 "nbformat_minor": 5
}
