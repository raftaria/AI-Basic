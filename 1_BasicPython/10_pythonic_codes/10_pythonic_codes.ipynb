{
 "cells": [
  {
   "cell_type": "markdown",
   "metadata": {},
   "source": [
    "### Split\n",
    "- String type의 값을 **기준값**으로 나눠서 list 형태로 변환"
   ]
  },
  {
   "cell_type": "code",
   "execution_count": 109,
   "metadata": {
    "collapsed": true,
    "ExecuteTime": {
     "end_time": "2023-09-15T14:21:38.938531Z",
     "start_time": "2023-09-15T14:21:38.782935Z"
    }
   },
   "outputs": [
    {
     "name": "stdout",
     "output_type": "stream",
     "text": [
      "['zero', 'one', 'two', 'three']\n"
     ]
    }
   ],
   "source": [
    "items = 'zero one two three'.split()\n",
    "print(items)"
   ]
  },
  {
   "cell_type": "code",
   "execution_count": 110,
   "metadata": {
    "collapsed": false,
    "ExecuteTime": {
     "end_time": "2023-09-15T14:21:38.951148Z",
     "start_time": "2023-09-15T14:21:38.787538Z"
    }
   },
   "outputs": [
    {
     "data": {
      "text/plain": "['python', 'java', 'javascript']"
     },
     "execution_count": 110,
     "metadata": {},
     "output_type": "execute_result"
    }
   ],
   "source": [
    "example = 'python,java,javascript'\n",
    "example.split(',')"
   ]
  },
  {
   "cell_type": "code",
   "execution_count": 111,
   "metadata": {
    "collapsed": false,
    "ExecuteTime": {
     "end_time": "2023-09-15T14:21:38.951291Z",
     "start_time": "2023-09-15T14:21:38.790588Z"
    }
   },
   "outputs": [],
   "source": [
    "example = 'teamlab.technology.io'\n",
    "subdomain, domain, tld = example.split('.')"
   ]
  },
  {
   "cell_type": "markdown",
   "metadata": {},
   "source": [
    "### Join\n",
    "- String으로 구성된 list를 합쳐 하나의 String으로 반환"
   ]
  },
  {
   "cell_type": "code",
   "execution_count": 112,
   "metadata": {
    "ExecuteTime": {
     "end_time": "2023-09-15T14:21:38.960447Z",
     "start_time": "2023-09-15T14:21:38.794159Z"
    }
   },
   "outputs": [
    {
     "data": {
      "text/plain": "'red-blue-green-yellow'"
     },
     "execution_count": 112,
     "metadata": {},
     "output_type": "execute_result"
    }
   ],
   "source": [
    "colors = [\"red\", 'blue', 'green', 'yellow']\n",
    "'-'.join(colors)"
   ]
  },
  {
   "cell_type": "markdown",
   "metadata": {},
   "source": [
    "### List Comprihension\n",
    "- 기존 list를 사용하여 간단히 다른 list를 만드는 기법\n",
    "- 포괄적인 list, 포함되는 리스트라는 의미로 사용됨\n",
    "- 파이썬에서 가장 많이 사용되는 기법 중 하나\n",
    "- 일반적으로 **for + append** 보다 속도가 빠름"
   ]
  },
  {
   "cell_type": "code",
   "execution_count": 113,
   "metadata": {
    "ExecuteTime": {
     "end_time": "2023-09-15T14:21:38.960651Z",
     "start_time": "2023-09-15T14:21:38.798153Z"
    }
   },
   "outputs": [
    {
     "name": "stdout",
     "output_type": "stream",
     "text": [
      "[0, 1, 2, 3, 4, 5, 6, 7, 8, 9]\n",
      "[0, 1, 2, 3, 4, 5, 6, 7, 8, 9]\n"
     ]
    }
   ],
   "source": [
    "# 기존\n",
    "result = []\n",
    "for i in range(10):\n",
    "    result.append(i)\n",
    "print(result)\n",
    "\n",
    "# List Comprehension\n",
    "result = [i for i in range(10)]\n",
    "print(result)"
   ]
  },
  {
   "cell_type": "code",
   "execution_count": 114,
   "metadata": {
    "ExecuteTime": {
     "end_time": "2023-09-15T14:21:39.067530Z",
     "start_time": "2023-09-15T14:21:38.801262Z"
    }
   },
   "outputs": [
    {
     "name": "stdout",
     "output_type": "stream",
     "text": [
      "['HW', 'Ho', 'Hr', 'Hl', 'Hd', 'eW', 'eo', 'er', 'el', 'ed', 'lW', 'lo', 'lr', 'll', 'ld', 'lW', 'lo', 'lr', 'll', 'ld', 'oW', 'oo', 'or', 'ol', 'od']\n",
      "['HW',\n",
      " 'Ho',\n",
      " 'Hr',\n",
      " 'Hl',\n",
      " 'Hd',\n",
      " 'eW',\n",
      " 'eo',\n",
      " 'er',\n",
      " 'el',\n",
      " 'ed',\n",
      " 'lW',\n",
      " 'lo',\n",
      " 'lr',\n",
      " 'll',\n",
      " 'ld',\n",
      " 'lW',\n",
      " 'lo',\n",
      " 'lr',\n",
      " 'll',\n",
      " 'ld',\n",
      " 'oW',\n",
      " 'oo',\n",
      " 'or',\n",
      " 'ol',\n",
      " 'od']\n"
     ]
    }
   ],
   "source": [
    "word_1 = \"Hello\"\n",
    "word_2 = \"World\"\n",
    "result = [i + j for i in word_1 for j in word_2]\n",
    "print(result)\n",
    "\n",
    "# 이중 for문\n",
    "# for i in word_1:\n",
    "#     for j in word_2:\n",
    "#         result.append(i + j)\n",
    "\n",
    "# Nested Loop\n",
    "import pprint\n",
    "pprint.pprint(result)"
   ]
  },
  {
   "cell_type": "markdown",
   "source": [
    "### Filter"
   ],
   "metadata": {
    "collapsed": false
   }
  },
  {
   "cell_type": "code",
   "execution_count": 115,
   "metadata": {
    "ExecuteTime": {
     "end_time": "2023-09-15T14:21:39.067702Z",
     "start_time": "2023-09-15T14:21:38.805311Z"
    }
   },
   "outputs": [
    {
     "name": "stdout",
     "output_type": "stream",
     "text": [
      "['AD', 'AE', 'AA', 'BD', 'BE', 'BA', 'CD', 'CE', 'CA']\n",
      "['AD', 'AE', 'BD', 'BE', 'BA', 'CD', 'CE', 'CA']\n",
      "['AD', 'AE', 'BA', 'BD', 'BE', 'CA', 'CD', 'CE']\n"
     ]
    }
   ],
   "source": [
    "case1 = [\"A\", \"B\", \"C\"]\n",
    "case2 = ['D', 'E', 'A']\n",
    "result = [i + j for i in case1 for j in case2]\n",
    "print(result)\n",
    "\n",
    "# Filter\n",
    "result = [i + j for i in case1 for j in case2 if not(i==j)]\n",
    "print(result)\n",
    "\n",
    "result.sort()\n",
    "print(result)"
   ]
  },
  {
   "cell_type": "markdown",
   "source": [
    "### Two Dimentional List"
   ],
   "metadata": {
    "collapsed": false
   }
  },
  {
   "cell_type": "code",
   "execution_count": 116,
   "metadata": {
    "ExecuteTime": {
     "end_time": "2023-09-15T14:21:39.083274Z",
     "start_time": "2023-09-15T14:21:38.810311Z"
    }
   },
   "outputs": [
    {
     "name": "stdout",
     "output_type": "stream",
     "text": [
      "['The', 'quick', 'brown', 'fox', 'jumps', 'over', 'the', 'lazy', 'dog']\n",
      "[['THE', 'the', 3],\n",
      " ['QUICK', 'quick', 5],\n",
      " ['BROWN', 'brown', 5],\n",
      " ['FOX', 'fox', 3],\n",
      " ['JUMPS', 'jumps', 5],\n",
      " ['OVER', 'over', 4],\n",
      " ['THE', 'the', 3],\n",
      " ['LAZY', 'lazy', 4],\n",
      " ['DOG', 'dog', 3]]\n"
     ]
    }
   ],
   "source": [
    "words = \"The quick brown fox jumps over the lazy dog\".split()\n",
    "print(words)\n",
    "\n",
    "# 아래와 같은 출력결과\n",
    "pprint.pprint([[ w.upper(), w.lower(), len(w)] for w in words])\n",
    "\n",
    "# stuff = [[w.upper(), w.lower(), len(w)] for w in words]\n",
    "# \n",
    "# for i in stuff:\n",
    "#     print(i)"
   ]
  },
  {
   "cell_type": "code",
   "execution_count": 117,
   "metadata": {
    "ExecuteTime": {
     "end_time": "2023-09-15T14:21:39.088418Z",
     "start_time": "2023-09-15T14:21:38.814152Z"
    }
   },
   "outputs": [
    {
     "name": "stdout",
     "output_type": "stream",
     "text": [
      "['AD', 'AE', 'AA', 'BD', 'BE', 'BA', 'CD', 'CE', 'CA']\n",
      "[['AD', 'BD', 'CD'], ['AE', 'BE', 'CE'], ['AA', 'BA', 'CA']]\n"
     ]
    }
   ],
   "source": [
    "case1 = ['A', 'B', 'C']\n",
    "case2 = ['D', 'E', 'A']\n",
    "\n",
    "result1 = [i + j for i in case1 for j in case2]\n",
    "print(result1)\n",
    "\n",
    "result2 = [[i + j for i in case1] for j in case2]\n",
    "print(result2)"
   ]
  },
  {
   "cell_type": "markdown",
   "metadata": {},
   "source": [
    "### enumerate\n",
    "- enumerate: list의 element를 추출할 때 번호를 붙여서 추출"
   ]
  },
  {
   "cell_type": "code",
   "execution_count": 118,
   "metadata": {
    "ExecuteTime": {
     "end_time": "2023-09-15T14:21:39.110143Z",
     "start_time": "2023-09-15T14:21:38.817261Z"
    }
   },
   "outputs": [
    {
     "name": "stdout",
     "output_type": "stream",
     "text": [
      "0  tic\n",
      "1  tac\n",
      "2  toe\n"
     ]
    },
    {
     "data": {
      "text/plain": "{'A': 0, 'B': 1, 'C': 2, 'D': 3}"
     },
     "execution_count": 118,
     "metadata": {},
     "output_type": "execute_result"
    }
   ],
   "source": [
    "for i, v in enumerate(['tic', 'tac', 'toe']):\n",
    "    print(\"{0}  {1}\".format(i, v))\n",
    "\n",
    "my_str = \"ABCD\"\n",
    "{v : i for i, v in enumerate(my_str)}"
   ]
  },
  {
   "cell_type": "code",
   "execution_count": 119,
   "outputs": [
    {
     "data": {
      "text/plain": "{0: 'intelligence',\n 1: 'is',\n 2: 'displayed',\n 3: 'demonstrated',\n 4: 'unlike',\n 5: 'humans',\n 6: 'artificial',\n 7: '(ai),',\n 8: 'natural',\n 9: 'by',\n 10: 'animals.',\n 11: 'and',\n 12: 'machines,',\n 13: 'the'}"
     },
     "execution_count": 119,
     "metadata": {},
     "output_type": "execute_result"
    }
   ],
   "source": [
    "text = 'Artificial intelligence (AI), is intelligence demonstrated by machines, unlike the natural intelligence displayed by humans and animals.'\n",
    "set_text = list(set(text.split()))      # set(): 중복된 값 제거\n",
    "\n",
    "{i:j.lower() for i, j in enumerate(set_text)}"
   ],
   "metadata": {
    "collapsed": false,
    "ExecuteTime": {
     "end_time": "2023-09-15T14:21:39.110391Z",
     "start_time": "2023-09-15T14:21:38.821560Z"
    }
   }
  },
  {
   "cell_type": "markdown",
   "source": [
    "### zip\n",
    "- 두 개의 list의 값을 병렬적으로 추출함."
   ],
   "metadata": {
    "collapsed": false
   }
  },
  {
   "cell_type": "code",
   "execution_count": 120,
   "metadata": {
    "ExecuteTime": {
     "end_time": "2023-09-15T14:21:39.125313Z",
     "start_time": "2023-09-15T14:21:38.825790Z"
    }
   },
   "outputs": [
    {
     "name": "stdout",
     "output_type": "stream",
     "text": [
      "a1 b1\n",
      "a2 b2\n",
      "a3 b3\n",
      "\n",
      "[('a1', 'b1'), ('a2', 'b2'), ('a3', 'b3')] \n",
      "\n",
      "(1, 10, 100) (2, 20, 200) (3, 30, 300)\n"
     ]
    },
    {
     "data": {
      "text/plain": "[111, 222, 333]"
     },
     "execution_count": 120,
     "metadata": {},
     "output_type": "execute_result"
    }
   ],
   "source": [
    "alist = ['a1', 'a2', 'a3']\n",
    "blist = ['b1', 'b2', 'b3']\n",
    "\n",
    "# 튜플 타입으로 묶음.\n",
    "for a, b in zip(alist, blist):\n",
    "    print(a, b)\n",
    "print()\n",
    "\n",
    "print([c for c in zip(alist, blist)], '\\n')\n",
    "\n",
    "a, b, c = zip((1, 2, 3), (10, 20, 30), (100, 200, 300))\n",
    "print(a, b, c)\n",
    "\n",
    "[sum(x) for x in zip((1, 2, 3), (10, 20, 30), (100, 200, 300))]"
   ]
  },
  {
   "cell_type": "code",
   "execution_count": 121,
   "metadata": {
    "ExecuteTime": {
     "end_time": "2023-09-15T14:21:39.134739Z",
     "start_time": "2023-09-15T14:21:38.828638Z"
    }
   },
   "outputs": [
    {
     "name": "stdout",
     "output_type": "stream",
     "text": [
      "0 a1 b1\n",
      "1 a2 b2\n",
      "2 a3 b3\n"
     ]
    }
   ],
   "source": [
    "alist = ['a1', 'a2', 'a3']\n",
    "blist = ['b1', 'b2', 'b3']\n",
    "\n",
    "for i, (a, b) in enumerate(zip(alist, blist)):\n",
    "    print(i, a, b)"
   ]
  },
  {
   "cell_type": "code",
   "execution_count": 122,
   "metadata": {
    "ExecuteTime": {
     "end_time": "2023-09-15T14:21:39.137504Z",
     "start_time": "2023-09-15T14:21:38.831394Z"
    }
   },
   "outputs": [
    {
     "data": {
      "text/plain": "[93.33333333333333, 86.66666666666667, 73.33333333333333]"
     },
     "execution_count": 122,
     "metadata": {},
     "output_type": "execute_result"
    }
   ],
   "source": [
    "math = (100, 90, 80)\n",
    "kor = (90, 90, 70)\n",
    "eng = (90, 80, 70)\n",
    "\n",
    "[sum(value) / 3 for value in zip(math, kor, eng)]"
   ]
  },
  {
   "cell_type": "code",
   "execution_count": 123,
   "metadata": {
    "ExecuteTime": {
     "end_time": "2023-09-15T14:21:39.137687Z",
     "start_time": "2023-09-15T14:21:38.833807Z"
    }
   },
   "outputs": [
    {
     "data": {
      "text/plain": "[(0, ('a1', 'b1')), (1, ('a2', 'b2')), (2, ('a3', 'b3'))]"
     },
     "execution_count": 123,
     "metadata": {},
     "output_type": "execute_result"
    }
   ],
   "source": [
    "list(enumerate(zip(alist, blist)))"
   ]
  },
  {
   "cell_type": "markdown",
   "metadata": {},
   "source": [
    "### Lambda\n",
    "\n",
    "- 함수 이름 없이, 함수처럼 쓸 수 있는 익명함수\n",
    "- 수학의 람다 대수에서 유래함\n",
    "- 자주 사용되었지만 py3 부터는 권장하지 않음\n",
    "\n",
    "    - 어려운 문법, 테스트의 어려움\n",
    "    - 문서화 docstring 지원 마비\n",
    "    - 코드 해석의 어려움\n",
    "    - 이름이 존재하지 않는 함수의 출현\n",
    "    - 그래도 많이 씀.."
   ]
  },
  {
   "cell_type": "code",
   "execution_count": 124,
   "metadata": {
    "ExecuteTime": {
     "end_time": "2023-09-15T14:21:39.137784Z",
     "start_time": "2023-09-15T14:21:38.837031Z"
    }
   },
   "outputs": [
    {
     "name": "stdout",
     "output_type": "stream",
     "text": [
      "5\n",
      "5\n"
     ]
    }
   ],
   "source": [
    "def f(x, y):\n",
    "    return x + y\n",
    "\n",
    "print(f(1, 4))\n",
    "\n",
    "f = lambda x, y: x + y\n",
    "print(f(1, 4))"
   ]
  },
  {
   "cell_type": "code",
   "execution_count": 125,
   "metadata": {
    "ExecuteTime": {
     "end_time": "2023-09-15T14:21:39.137878Z",
     "start_time": "2023-09-15T14:21:38.838993Z"
    }
   },
   "outputs": [
    {
     "data": {
      "text/plain": "60"
     },
     "execution_count": 125,
     "metadata": {},
     "output_type": "execute_result"
    }
   ],
   "source": [
    "(lambda x, y: x + y)(10, 50)"
   ]
  },
  {
   "cell_type": "code",
   "execution_count": 126,
   "outputs": [
    {
     "data": {
      "text/plain": "'My-Happy'"
     },
     "execution_count": 126,
     "metadata": {},
     "output_type": "execute_result"
    }
   ],
   "source": [
    "up_low1 = lambda x : \"-\".join(x.split())\n",
    "up_low1(\"My Happy\")"
   ],
   "metadata": {
    "collapsed": false,
    "ExecuteTime": {
     "end_time": "2023-09-15T14:21:39.146988Z",
     "start_time": "2023-09-15T14:21:38.841738Z"
    }
   }
  },
  {
   "cell_type": "code",
   "execution_count": 127,
   "metadata": {
    "ExecuteTime": {
     "end_time": "2023-09-15T14:21:39.173651Z",
     "start_time": "2023-09-15T14:21:38.844260Z"
    }
   },
   "outputs": [
    {
     "data": {
      "text/plain": "'MY HAPPY, my happy'"
     },
     "execution_count": 127,
     "metadata": {},
     "output_type": "execute_result"
    }
   ],
   "source": [
    "up_low2 = lambda x : x.upper() + \", \" + x.lower()\n",
    "\n",
    "up_low2('My Happy')"
   ]
  },
  {
   "cell_type": "markdown",
   "metadata": {},
   "source": [
    "### map\n",
    "- 두 개 이상의 list에도 적용 가능함. if filter도 사용 가능"
   ]
  },
  {
   "cell_type": "code",
   "execution_count": 128,
   "metadata": {
    "ExecuteTime": {
     "end_time": "2023-09-15T14:21:39.173893Z",
     "start_time": "2023-09-15T14:21:38.846829Z"
    }
   },
   "outputs": [
    {
     "name": "stdout",
     "output_type": "stream",
     "text": [
      "[2, 4, 6, 8, 10]\n",
      "list a: [1, 4, 3, 16, 5]\n",
      "list b: [1, 4, 3, 16, 5]\n"
     ]
    }
   ],
   "source": [
    "ex = [1, 2, 3, 4, 5]\n",
    "f = lambda x, y : x + y\n",
    "print(list(map(f, ex, ex)))\n",
    "\n",
    "a = list( map(lambda x : x ** 2 if x % 2 == 0 else x, ex) )\n",
    "\n",
    "b = [ value ** 2 if value % 2 == 0 else value for value in ex ]\n",
    "\n",
    "print(\"list a:\", a)\n",
    "print(\"list b:\", b)"
   ]
  },
  {
   "cell_type": "code",
   "execution_count": 129,
   "metadata": {
    "ExecuteTime": {
     "end_time": "2023-09-15T14:21:39.198853Z",
     "start_time": "2023-09-15T14:21:38.850208Z"
    }
   },
   "outputs": [
    {
     "name": "stdout",
     "output_type": "stream",
     "text": [
      "[2, 4, 6, 8, 10]\n",
      "<map object at 0x1072d06d0>\n",
      "<map object at 0x1072d0ac0>\n",
      "1\n",
      "4\n",
      "9\n",
      "16\n",
      "25\n"
     ]
    }
   ],
   "source": [
    "# python3 는 iteration을 생성 -> list를 붙여줘야 list 사용 가능\n",
    "# 실행 시점의 값을 생성, 메모리 효율적\n",
    "\n",
    "ex = [1, 2, 3, 4, 5]\n",
    "print(list(map(lambda x : x + x, ex)))\n",
    "print(map(lambda x : x + x, ex))\n",
    "\n",
    "f = lambda x : x ** 2\n",
    "print(map(f, ex))\n",
    "\n",
    "for i in map(f, ex):\n",
    "    print(i)"
   ]
  },
  {
   "cell_type": "markdown",
   "metadata": {},
   "source": [
    "### reduce\n",
    "- map function과 달리 list에 똑같은 함수를 적용해서 통합"
   ]
  },
  {
   "cell_type": "code",
   "execution_count": 130,
   "metadata": {
    "ExecuteTime": {
     "end_time": "2023-09-15T14:21:39.199016Z",
     "start_time": "2023-09-15T14:21:38.852234Z"
    }
   },
   "outputs": [
    {
     "name": "stdout",
     "output_type": "stream",
     "text": [
      "15\n"
     ]
    }
   ],
   "source": [
    "from functools import reduce\n",
    "\n",
    "print(reduce(lambda x, y : x + y, [1, 2, 3, 4, 5]))"
   ]
  },
  {
   "cell_type": "markdown",
   "source": [
    "### Summary\n",
    "- Lambda, map, reduce는 간단한 코드로 다양한 기능을 제공\n",
    "- 그러나 코드의 직관성이 떨어져서 lambda나 reduce는 **python3에서 사용을 권장하지 않음**\n",
    "- Legacy library나 다양한 머신러닝 코드에서 여전히 사용중"
   ],
   "metadata": {
    "collapsed": false
   }
  },
  {
   "cell_type": "markdown",
   "source": [
    "### iterable object\n",
    "- Sequence형 자료형에서 데이터를 순서대로 추출하는 object"
   ],
   "metadata": {
    "collapsed": false
   }
  },
  {
   "cell_type": "code",
   "execution_count": 131,
   "outputs": [
    {
     "name": "stdout",
     "output_type": "stream",
     "text": [
      "Seoul\tBusan\tPohang\tPython\tC\tJava\tP y t h o n   i s   e a s y "
     ]
    }
   ],
   "source": [
    "for city in [\"Seoul\", \"Busan\", \"Pohang\"]:\n",
    "    print(city, end=\"\\t\")\n",
    "for language in (\"Python\", \"C\", \"Java\"):\n",
    "    print(language, end='\\t')\n",
    "for char in \"Python is easy\":\n",
    "    print(char, end=\" \")"
   ],
   "metadata": {
    "collapsed": false,
    "ExecuteTime": {
     "end_time": "2023-09-15T14:21:39.199101Z",
     "start_time": "2023-09-15T14:21:38.855743Z"
    }
   }
  },
  {
   "cell_type": "code",
   "execution_count": 132,
   "outputs": [
    {
     "name": "stdout",
     "output_type": "stream",
     "text": [
      "['Seoul', 'Busan', 'Jeju']\n",
      "<list_iterator object at 0x1072d0760>\n",
      "Seoul\n",
      "Busan\n",
      "Jeju\n"
     ]
    }
   ],
   "source": [
    "# list of cities\n",
    "cities = [\"Seoul\", \"Busan\", \"Jeju\"]\n",
    "print(cities)\n",
    "\n",
    "memory_address_cities = iter(cities)\n",
    "print(memory_address_cities)\n",
    "\n",
    "print(next(memory_address_cities))\n",
    "print(next(memory_address_cities))\n",
    "print(next(memory_address_cities))"
   ],
   "metadata": {
    "collapsed": false,
    "ExecuteTime": {
     "end_time": "2023-09-15T14:21:39.199183Z",
     "start_time": "2023-09-15T14:21:38.858023Z"
    }
   }
  },
  {
   "cell_type": "markdown",
   "source": [
    "### Generator\n",
    "- iterable object를 특수한 형태로 사용해주는 함수\n",
    "- element가 사용되는 시점에 값을 메모리에 반환\n",
    "    - yield를 사용해 한 번에 하나의 element를 반환함"
   ],
   "metadata": {
    "collapsed": false
   }
  },
  {
   "cell_type": "code",
   "execution_count": 133,
   "outputs": [
    {
     "name": "stdout",
     "output_type": "stream",
     "text": [
      "[0, 1, 2, 3, 4, 5, 6, 7, 8, 9, 10, 11, 12, 13, 14, 15, 16, 17, 18, 19, 20, 21, 22, 23, 24, 25, 26, 27, 28, 29, 30, 31, 32, 33, 34, 35, 36, 37, 38, 39, 40, 41, 42, 43, 44, 45, 46, 47, 48, 49]\n"
     ]
    }
   ],
   "source": [
    "def general_list(value):\n",
    "    result = []\n",
    "    for i in range(value):\n",
    "        result.append(i)\n",
    "    return result\n",
    "    \n",
    "print(general_list(50))"
   ],
   "metadata": {
    "collapsed": false,
    "ExecuteTime": {
     "end_time": "2023-09-15T14:21:39.199262Z",
     "start_time": "2023-09-15T14:21:38.860354Z"
    }
   }
  },
  {
   "cell_type": "code",
   "execution_count": 134,
   "outputs": [
    {
     "data": {
      "text/plain": "472"
     },
     "execution_count": 134,
     "metadata": {},
     "output_type": "execute_result"
    }
   ],
   "source": [
    "import sys\n",
    "\n",
    "result = general_list(50)\n",
    "sys.getsizeof(result)"
   ],
   "metadata": {
    "collapsed": false,
    "ExecuteTime": {
     "end_time": "2023-09-15T14:21:39.199377Z",
     "start_time": "2023-09-15T14:21:38.863087Z"
    }
   }
  },
  {
   "cell_type": "code",
   "execution_count": 135,
   "outputs": [],
   "source": [
    "def generator_list(value):\n",
    "    result = []\n",
    "    for i in range(value):\n",
    "        yield i"
   ],
   "metadata": {
    "collapsed": false,
    "ExecuteTime": {
     "end_time": "2023-09-15T14:21:39.199420Z",
     "start_time": "2023-09-15T14:21:38.865577Z"
    }
   }
  },
  {
   "cell_type": "code",
   "execution_count": 136,
   "outputs": [
    {
     "data": {
      "text/plain": "216"
     },
     "execution_count": 136,
     "metadata": {},
     "output_type": "execute_result"
    }
   ],
   "source": [
    "result = generator_list(50)\n",
    "sys.getsizeof(result)"
   ],
   "metadata": {
    "collapsed": false,
    "ExecuteTime": {
     "end_time": "2023-09-15T14:21:39.206247Z",
     "start_time": "2023-09-15T14:21:38.867686Z"
    }
   }
  },
  {
   "cell_type": "code",
   "execution_count": 137,
   "outputs": [
    {
     "data": {
      "text/plain": "472"
     },
     "execution_count": 137,
     "metadata": {},
     "output_type": "execute_result"
    }
   ],
   "source": [
    "sys.getsizeof(list(generator_list(50)))\n",
    "\n",
    "# 대용량의 데이터를 불러올 때 Generator를 써라"
   ],
   "metadata": {
    "collapsed": false,
    "ExecuteTime": {
     "end_time": "2023-09-15T14:21:39.206404Z",
     "start_time": "2023-09-15T14:21:38.870635Z"
    }
   }
  },
  {
   "cell_type": "code",
   "execution_count": 138,
   "outputs": [
    {
     "name": "stdout",
     "output_type": "stream",
     "text": [
      "[0, 1, 2, 3, 4, 5, 6, 7, 8, 9, 10, 11, 12, 13, 14, 15, 16, 17, 18, 19, 20, 21, 22, 23, 24, 25, 26, 27, 28, 29, 30, 31, 32, 33, 34, 35, 36, 37, 38, 39, 40, 41, 42, 43, 44, 45, 46, 47, 48, 49]\n"
     ]
    }
   ],
   "source": [
    "print( [ value for value in generator_list(50) ] )"
   ],
   "metadata": {
    "collapsed": false,
    "ExecuteTime": {
     "end_time": "2023-09-15T14:21:39.206495Z",
     "start_time": "2023-09-15T14:21:38.873017Z"
    }
   }
  },
  {
   "cell_type": "code",
   "execution_count": 139,
   "outputs": [
    {
     "name": "stdout",
     "output_type": "stream",
     "text": [
      "0, 1, 2, 3, 4, 5, 6, 7, 8, 9, 10, 11, 12, 13, 14, 15, 16, 17, 18, 19, 20, 21, 22, 23, 24, 25, 26, 27, 28, 29, 30, 31, 32, 33, 34, 35, 36, 37, 38, 39, 40, 41, 42, 43, 44, 45, 46, 47, 48, 49\n"
     ]
    }
   ],
   "source": [
    "for a in generator_list(50):\n",
    "    if a == 49:\n",
    "        print(a)\n",
    "    else:\n",
    "        print(a, end=\", \")"
   ],
   "metadata": {
    "collapsed": false,
    "ExecuteTime": {
     "end_time": "2023-09-15T14:21:39.208998Z",
     "start_time": "2023-09-15T14:21:38.875533Z"
    }
   }
  },
  {
   "cell_type": "markdown",
   "source": [
    "### Generator Comprehension\n",
    "- list comprehension과 유사한 형태로 generator 형태의 list 생성\n",
    "- generator expressoin 이라는 이름으로도 부름\n",
    "- [] 대신 ()를 사용하여 표현"
   ],
   "metadata": {
    "collapsed": false
   }
  },
  {
   "cell_type": "code",
   "execution_count": 140,
   "outputs": [
    {
     "data": {
      "text/plain": "0"
     },
     "execution_count": 140,
     "metadata": {},
     "output_type": "execute_result"
    }
   ],
   "source": [
    "ex_generator = generator_list(50)\n",
    "\n",
    "next(ex_generator)"
   ],
   "metadata": {
    "collapsed": false,
    "ExecuteTime": {
     "end_time": "2023-09-15T14:21:39.209113Z",
     "start_time": "2023-09-15T14:21:38.877350Z"
    }
   }
  },
  {
   "cell_type": "code",
   "execution_count": 141,
   "outputs": [],
   "source": [
    "def gen_ex():\n",
    "    n = 1\n",
    "    print('first')\n",
    "    yield n\n",
    "    \n",
    "    n += 1\n",
    "    print('second')\n",
    "    yield n\n",
    "    \n",
    "    n += 1\n",
    "    print('last')\n",
    "    yield n"
   ],
   "metadata": {
    "collapsed": false,
    "ExecuteTime": {
     "end_time": "2023-09-15T14:21:39.209451Z",
     "start_time": "2023-09-15T14:21:38.879846Z"
    }
   }
  },
  {
   "cell_type": "code",
   "execution_count": 142,
   "outputs": [
    {
     "name": "stdout",
     "output_type": "stream",
     "text": [
      "first\n",
      "1\n",
      "second\n",
      "2\n",
      "last\n",
      "3\n"
     ]
    }
   ],
   "source": [
    "for item in gen_ex():\n",
    "    print(item)"
   ],
   "metadata": {
    "collapsed": false,
    "ExecuteTime": {
     "end_time": "2023-09-15T14:21:39.209545Z",
     "start_time": "2023-09-15T14:21:38.881884Z"
    }
   }
  },
  {
   "cell_type": "code",
   "execution_count": 143,
   "outputs": [
    {
     "name": "stdout",
     "output_type": "stream",
     "text": [
      "first\n",
      "second\n",
      "last\n"
     ]
    },
    {
     "data": {
      "text/plain": "[1, 2, 3]"
     },
     "execution_count": 143,
     "metadata": {},
     "output_type": "execute_result"
    }
   ],
   "source": [
    "list(gen_ex())"
   ],
   "metadata": {
    "collapsed": false,
    "ExecuteTime": {
     "end_time": "2023-09-15T14:21:39.209684Z",
     "start_time": "2023-09-15T14:21:38.884436Z"
    }
   }
  },
  {
   "cell_type": "code",
   "execution_count": 144,
   "outputs": [
    {
     "name": "stdout",
     "output_type": "stream",
     "text": [
      "<class 'generator'>\n"
     ]
    }
   ],
   "source": [
    "# generator 생성\n",
    "gen_ex = (n * n for n in range(500))\n",
    "print(type(gen_ex))"
   ],
   "metadata": {
    "collapsed": false,
    "ExecuteTime": {
     "end_time": "2023-09-15T14:21:39.214712Z",
     "start_time": "2023-09-15T14:21:38.886921Z"
    }
   }
  },
  {
   "cell_type": "code",
   "execution_count": 145,
   "outputs": [
    {
     "name": "stdout",
     "output_type": "stream",
     "text": [
      "[0, 1, 4, 9, 16, 25, 36, 49, 64, 81, 100, 121, 144, 169, 196, 225, 256, 289, 324, 361, 400, 441, 484, 529, 576, 625, 676, 729, 784, 841, 900, 961, 1024, 1089, 1156, 1225, 1296, 1369, 1444, 1521, 1600, 1681, 1764, 1849, 1936, 2025, 2116, 2209, 2304, 2401, 2500, 2601, 2704, 2809, 2916, 3025, 3136, 3249, 3364, 3481, 3600, 3721, 3844, 3969, 4096, 4225, 4356, 4489, 4624, 4761, 4900, 5041, 5184, 5329, 5476, 5625, 5776, 5929, 6084, 6241, 6400, 6561, 6724, 6889, 7056, 7225, 7396, 7569, 7744, 7921, 8100, 8281, 8464, 8649, 8836, 9025, 9216, 9409, 9604, 9801, 10000, 10201, 10404, 10609, 10816, 11025, 11236, 11449, 11664, 11881, 12100, 12321, 12544, 12769, 12996, 13225, 13456, 13689, 13924, 14161, 14400, 14641, 14884, 15129, 15376, 15625, 15876, 16129, 16384, 16641, 16900, 17161, 17424, 17689, 17956, 18225, 18496, 18769, 19044, 19321, 19600, 19881, 20164, 20449, 20736, 21025, 21316, 21609, 21904, 22201, 22500, 22801, 23104, 23409, 23716, 24025, 24336, 24649, 24964, 25281, 25600, 25921, 26244, 26569, 26896, 27225, 27556, 27889, 28224, 28561, 28900, 29241, 29584, 29929, 30276, 30625, 30976, 31329, 31684, 32041, 32400, 32761, 33124, 33489, 33856, 34225, 34596, 34969, 35344, 35721, 36100, 36481, 36864, 37249, 37636, 38025, 38416, 38809, 39204, 39601, 40000, 40401, 40804, 41209, 41616, 42025, 42436, 42849, 43264, 43681, 44100, 44521, 44944, 45369, 45796, 46225, 46656, 47089, 47524, 47961, 48400, 48841, 49284, 49729, 50176, 50625, 51076, 51529, 51984, 52441, 52900, 53361, 53824, 54289, 54756, 55225, 55696, 56169, 56644, 57121, 57600, 58081, 58564, 59049, 59536, 60025, 60516, 61009, 61504, 62001, 62500, 63001, 63504, 64009, 64516, 65025, 65536, 66049, 66564, 67081, 67600, 68121, 68644, 69169, 69696, 70225, 70756, 71289, 71824, 72361, 72900, 73441, 73984, 74529, 75076, 75625, 76176, 76729, 77284, 77841, 78400, 78961, 79524, 80089, 80656, 81225, 81796, 82369, 82944, 83521, 84100, 84681, 85264, 85849, 86436, 87025, 87616, 88209, 88804, 89401, 90000, 90601, 91204, 91809, 92416, 93025, 93636, 94249, 94864, 95481, 96100, 96721, 97344, 97969, 98596, 99225, 99856, 100489, 101124, 101761, 102400, 103041, 103684, 104329, 104976, 105625, 106276, 106929, 107584, 108241, 108900, 109561, 110224, 110889, 111556, 112225, 112896, 113569, 114244, 114921, 115600, 116281, 116964, 117649, 118336, 119025, 119716, 120409, 121104, 121801, 122500, 123201, 123904, 124609, 125316, 126025, 126736, 127449, 128164, 128881, 129600, 130321, 131044, 131769, 132496, 133225, 133956, 134689, 135424, 136161, 136900, 137641, 138384, 139129, 139876, 140625, 141376, 142129, 142884, 143641, 144400, 145161, 145924, 146689, 147456, 148225, 148996, 149769, 150544, 151321, 152100, 152881, 153664, 154449, 155236, 156025, 156816, 157609, 158404, 159201, 160000, 160801, 161604, 162409, 163216, 164025, 164836, 165649, 166464, 167281, 168100, 168921, 169744, 170569, 171396, 172225, 173056, 173889, 174724, 175561, 176400, 177241, 178084, 178929, 179776, 180625, 181476, 182329, 183184, 184041, 184900, 185761, 186624, 187489, 188356, 189225, 190096, 190969, 191844, 192721, 193600, 194481, 195364, 196249, 197136, 198025, 198916, 199809, 200704, 201601, 202500, 203401, 204304, 205209, 206116, 207025, 207936, 208849, 209764, 210681, 211600, 212521, 213444, 214369, 215296, 216225, 217156, 218089, 219024, 219961, 220900, 221841, 222784, 223729, 224676, 225625, 226576, 227529, 228484, 229441, 230400, 231361, 232324, 233289, 234256, 235225, 236196, 237169, 238144, 239121, 240100, 241081, 242064, 243049, 244036, 245025, 246016, 247009, 248004, 249001]\n"
     ]
    }
   ],
   "source": [
    "print(list(gen_ex))"
   ],
   "metadata": {
    "collapsed": false,
    "ExecuteTime": {
     "end_time": "2023-09-15T14:21:39.214834Z",
     "start_time": "2023-09-15T14:21:38.890483Z"
    }
   }
  },
  {
   "cell_type": "code",
   "execution_count": 146,
   "outputs": [
    {
     "name": "stdout",
     "output_type": "stream",
     "text": [
      "208\n",
      "41880\n",
      "41880\n"
     ]
    }
   ],
   "source": [
    "from sys import getsizeof\n",
    "\n",
    "gen_ex = (n * n for n in range(5000))\n",
    "print(getsizeof(gen_ex))\n",
    "\n",
    "print(getsizeof(list(gen_ex)))\n",
    "\n",
    "list_ex = [n * n for n in range(5000)]\n",
    "print(getsizeof(list_ex))"
   ],
   "metadata": {
    "collapsed": false,
    "ExecuteTime": {
     "end_time": "2023-09-15T14:21:39.225200Z",
     "start_time": "2023-09-15T14:21:38.892929Z"
    }
   }
  },
  {
   "cell_type": "markdown",
   "source": [
    "### 언제 generator를 사용하나요!\n",
    "- list 타입의 데이터를 반환해주는 함수는 generator로 만들어라!\n",
    "    - 읽기 쉬운 장점, 중간 과정에서 loop이 중단될 수 있을 때!\n",
    "\n",
    "- 큰 데이터를 처리할 때는 generator expression을 고려하라!\n",
    "    - 데이터가 커도 처리의 어려움이 없음\n",
    " \n",
    "- 파일 데이터를 처리할 때도 generator를 쓰자.    "
   ],
   "metadata": {
    "collapsed": false
   }
  },
  {
   "cell_type": "markdown",
   "source": [
    "### Function Argument\n",
    "- 함수에 입력되는 arguments의 다양한 형태\n",
    "    1) Keyword arguments: 함수에 입력되는 parameter의 변수명을 사용, arguments를 넘김\n",
    "    2) Default arguments: parameter의 기본 값을 사용, 입력하지 않을 경우 기본값 출력 \n",
    "    3) Variable-length arguments(가변인자 argument):  "
   ],
   "metadata": {
    "collapsed": false
   }
  },
  {
   "cell_type": "markdown",
   "source": [
    "#### Keyword arguments"
   ],
   "metadata": {
    "collapsed": false
   }
  },
  {
   "cell_type": "code",
   "execution_count": 147,
   "outputs": [
    {
     "name": "stdout",
     "output_type": "stream",
     "text": [
      "Hello TeamLAB, My name is SangHyeon\n",
      "Hello TeamLAB, My name is abc\n"
     ]
    }
   ],
   "source": [
    "def print_something(my_name, your_name, third_name):\n",
    "    print(\"Hello {0}, My name is {1}\".format(your_name, my_name))\n",
    "    \n",
    "print_something(third_name='abc', my_name='SangHyeon', your_name=\"TeamLAB\")\n",
    "print_something(\"abc\", \"TeamLAB\", \"SangHyeon\")"
   ],
   "metadata": {
    "collapsed": false,
    "ExecuteTime": {
     "end_time": "2023-09-15T14:21:39.225379Z",
     "start_time": "2023-09-15T14:21:38.897737Z"
    }
   }
  },
  {
   "cell_type": "markdown",
   "source": [
    "#### Default argument"
   ],
   "metadata": {
    "collapsed": false
   }
  },
  {
   "cell_type": "code",
   "execution_count": 148,
   "outputs": [
    {
     "name": "stdout",
     "output_type": "stream",
     "text": [
      "Hello TEAMLAB, My name is SangHyeon\n",
      "Hello TeamLAB, My name is SangHyeon\n"
     ]
    }
   ],
   "source": [
    "def print_something_2(my_name, your_name=\"TeamLAB\"):\n",
    "    print(\"Hello {0}, My name is {1}\".format(your_name, my_name))\n",
    "    \n",
    "print_something_2(\"SangHyeon\", \"TEAMLAB\")\n",
    "print_something_2(\"SangHyeon\")"
   ],
   "metadata": {
    "collapsed": false,
    "ExecuteTime": {
     "end_time": "2023-09-15T14:21:39.225467Z",
     "start_time": "2023-09-15T14:21:38.899938Z"
    }
   }
  },
  {
   "cell_type": "markdown",
   "source": [
    "#### Variable-length asterisk (가변길이)\n",
    "- 함수의 parameter가 정해지지 않았다?\n",
    "- 개수가 정해지지 않은 변수를 함수의 parameter로 사용하는 법\n",
    "- Keyword arguments와 함께, argument 추가가 가능\n",
    "- Asterisk(*) 기호를 사용하여 함수의 parameter를 표시함\n",
    "- 입력된 값은 tuple type으로 사용할 수 있음\n",
    "- 가변인자는 오직 한 개만 맨 마지막 parameter 위치에 사용 가능\n",
    "\n",
    "<br>\n",
    "\n",
    "- 가변인자는 일반적으로 *args를 변수명으로 사용\n",
    "- 기존 parameter 이후에 나오는 값을 tuple로 저장함"
   ],
   "metadata": {
    "collapsed": false
   }
  },
  {
   "cell_type": "markdown",
   "source": [
    "#### Variable-length"
   ],
   "metadata": {
    "collapsed": false
   }
  },
  {
   "cell_type": "code",
   "execution_count": 149,
   "outputs": [
    {
     "name": "stdout",
     "output_type": "stream",
     "text": [
      "[3, 4, 5]\n",
      "<class 'tuple'>\n"
     ]
    },
    {
     "data": {
      "text/plain": "15"
     },
     "execution_count": 149,
     "metadata": {},
     "output_type": "execute_result"
    }
   ],
   "source": [
    "def asterisk_test(a, b, *args):\n",
    "    print(list(args))\n",
    "    print(type(args))\n",
    "    return a + b + sum(args)\n",
    "\n",
    "asterisk_test(1, 2, 3, 4, 5)"
   ],
   "metadata": {
    "collapsed": false,
    "ExecuteTime": {
     "end_time": "2023-09-15T14:21:39.248525Z",
     "start_time": "2023-09-15T14:21:38.902290Z"
    }
   }
  },
  {
   "cell_type": "code",
   "execution_count": 150,
   "outputs": [
    {
     "data": {
      "text/plain": "(1, 2, 3)"
     },
     "execution_count": 150,
     "metadata": {},
     "output_type": "execute_result"
    }
   ],
   "source": [
    "def asterisk_test(*args):\n",
    "    x, y, z = args\n",
    "    return x, y, z\n",
    "\n",
    "asterisk_test(1, 2, 3)"
   ],
   "metadata": {
    "collapsed": false,
    "ExecuteTime": {
     "end_time": "2023-09-15T14:21:39.248707Z",
     "start_time": "2023-09-15T14:21:38.904769Z"
    }
   }
  },
  {
   "cell_type": "markdown",
   "source": [
    "### Keyword variable-length\n",
    "- Parameter 이름을 따로 지정하지 않고 입력하는 방법\n",
    "- **asterisk(*) 두 개를 사용**하여 함수의 paramater를 표시함\n",
    "- 입력된 값은 dict type으로 사용할 수 있음\n",
    "- 가변인자는 오직 한 개만 기존 가변인자 다음에 사용"
   ],
   "metadata": {
    "collapsed": false
   }
  },
  {
   "cell_type": "code",
   "execution_count": 151,
   "outputs": [
    {
     "name": "stdout",
     "output_type": "stream",
     "text": [
      "{'first': 3, 'second': 4, 'third': 5}\n",
      "{'first': 3, 'second': 4, 'third': 5, 'c': 10, 'd': 12}\n"
     ]
    }
   ],
   "source": [
    "def kwargs_test_1(**kwargs):\n",
    "    print(kwargs)\n",
    "    \n",
    "kwargs_test_1(first=3, second=4, third=5)\n",
    "kwargs_test_1(first=3, second=4, third=5, c=10, d=12)"
   ],
   "metadata": {
    "collapsed": false,
    "ExecuteTime": {
     "end_time": "2023-09-15T14:21:39.263429Z",
     "start_time": "2023-09-15T14:21:38.906960Z"
    }
   }
  },
  {
   "cell_type": "code",
   "execution_count": 152,
   "outputs": [
    {
     "name": "stdout",
     "output_type": "stream",
     "text": [
      "13\n",
      "()\n",
      "{'first': 3, 'second': 4, 'third': 5}\n",
      "\n",
      "69\n",
      "(3, 5, 6, 7, 8)\n",
      "{'first': 3, 'second': 4, 'third': 5}\n"
     ]
    }
   ],
   "source": [
    "def kwargs_test_3(one, two=3, *args, **kwargs):\n",
    "    print(one+two+sum(args))\n",
    "    print(args)\n",
    "    print(kwargs)\n",
    "\n",
    "kwargs_test_3(one=10, first=3, second=4, third=5)\n",
    "print()\n",
    "kwargs_test_3(10, 30, 3, 5, 6, 7, 8, first=3, second=4, third=5)"
   ],
   "metadata": {
    "collapsed": false,
    "ExecuteTime": {
     "end_time": "2023-09-15T14:21:39.263621Z",
     "start_time": "2023-09-15T14:21:38.909414Z"
    }
   }
  },
  {
   "cell_type": "markdown",
   "source": [
    "#### 가변인자의 순서는 지켜줘야 한다."
   ],
   "metadata": {
    "collapsed": false
   }
  },
  {
   "cell_type": "markdown",
   "source": [
    "### asterisk\n",
    "- 흔히 알고있는 *를 의미함\n",
    "- 단순 곱셈, 제곱연산, 가변인자 활용 등 다양하게 사용됨\n",
    "\n",
    "<br>\n",
    "\n",
    "### asterisk - unpacking a container\n",
    "- tuple, dict 등 자료형에 들어가 있는 값을 unpacking\n",
    "- 함수의 입력값, zip등에 유용하게 사용가능"
   ],
   "metadata": {
    "collapsed": false
   }
  },
  {
   "cell_type": "markdown",
   "source": [
    "#### asterisk"
   ],
   "metadata": {
    "collapsed": false
   }
  },
  {
   "cell_type": "code",
   "execution_count": 153,
   "outputs": [
    {
     "name": "stdout",
     "output_type": "stream",
     "text": [
      "1 2 3 4 5 6\n",
      "1 (2, 3, 4, 5, 6)\n",
      "<class 'tuple'>\n",
      "\n",
      "1 (2, 3, 4, 5, 6)\n",
      "1 ((2, 3, 4, 5, 6),)\n",
      "<class 'tuple'>\n"
     ]
    }
   ],
   "source": [
    "def asterisk_test(a, *args):\n",
    "    print(a, *args)\n",
    "    print(a, args)\n",
    "    print(type(args))\n",
    "    \n",
    "test = (2, 3, 4, 5, 6)\n",
    "# unpacking\n",
    "asterisk_test(1, *test)\n",
    "print()\n",
    "asterisk_test(1, test)"
   ],
   "metadata": {
    "collapsed": false,
    "ExecuteTime": {
     "end_time": "2023-09-15T14:21:39.263714Z",
     "start_time": "2023-09-15T14:21:38.912760Z"
    }
   }
  },
  {
   "cell_type": "code",
   "execution_count": 154,
   "outputs": [
    {
     "name": "stdout",
     "output_type": "stream",
     "text": [
      "1 2 3 4\n",
      "['1', '2', '3', '4']\n",
      "1 2 3 4\n"
     ]
    }
   ],
   "source": [
    "print(\"1\", \"2\", \"3\", \"4\")\n",
    "print([\"1\", \"2\", \"3\", \"4\"])\n",
    "\n",
    "# unpacking\n",
    "print(*[\"1\", \"2\", \"3\", \"4\"])"
   ],
   "metadata": {
    "collapsed": false,
    "ExecuteTime": {
     "end_time": "2023-09-15T14:21:39.270851Z",
     "start_time": "2023-09-15T14:21:38.915344Z"
    }
   }
  },
  {
   "cell_type": "markdown",
   "source": [
    "### with zip"
   ],
   "metadata": {
    "collapsed": false
   }
  },
  {
   "cell_type": "code",
   "execution_count": 155,
   "outputs": [
    {
     "name": "stdout",
     "output_type": "stream",
     "text": [
      "([1, 2], [3, 4], [5, 6], [5, 6], [5, 6])\n",
      "([1, 2],)\n",
      "([3, 4],)\n",
      "([5, 6],)\n",
      "([5, 6],)\n",
      "([5, 6],)\n"
     ]
    }
   ],
   "source": [
    "ex = ([1, 2], [3, 4], [5, 6], [5, 6], [5, 6])\n",
    "print(ex)\n",
    "\n",
    "for value in zip(ex):\n",
    "    print(value)"
   ],
   "metadata": {
    "collapsed": false,
    "ExecuteTime": {
     "end_time": "2023-09-15T14:21:39.271112Z",
     "start_time": "2023-09-15T14:21:38.917522Z"
    }
   }
  },
  {
   "cell_type": "code",
   "execution_count": 156,
   "outputs": [
    {
     "name": "stdout",
     "output_type": "stream",
     "text": [
      "([1, 2], [3, 4], [5, 6], [5, 6], [5, 6])\n",
      "(1, 3, 5, 5, 5)\n",
      "(2, 4, 6, 6, 6)\n",
      "19\n",
      "24\n"
     ]
    }
   ],
   "source": [
    "print(ex)\n",
    "\n",
    "for value in zip(*ex):\n",
    "    print(value)\n",
    "\n",
    "for value in zip(*ex):\n",
    "    print(sum(value))"
   ],
   "metadata": {
    "collapsed": false,
    "ExecuteTime": {
     "end_time": "2023-09-15T14:21:39.271214Z",
     "start_time": "2023-09-15T14:21:38.919503Z"
    }
   }
  },
  {
   "cell_type": "code",
   "execution_count": 157,
   "outputs": [
    {
     "name": "stdout",
     "output_type": "stream",
     "text": [
      "[1, 2] [3, 4] [5, 6]\n",
      "(1, 3, 5)\n",
      "(2, 4, 6)\n",
      "9\n",
      "12\n"
     ]
    }
   ],
   "source": [
    "ex = ([1, 2], [3, 4], [5, 6])\n",
    "a, b, c = ex\n",
    "print(a, b, c)\n",
    "\n",
    "for value in zip(a, b, c):\n",
    "    print(value)\n",
    "    \n",
    "for data in zip(*ex):\n",
    "    print(sum(data))"
   ],
   "metadata": {
    "collapsed": false,
    "ExecuteTime": {
     "end_time": "2023-09-15T14:21:39.271476Z",
     "start_time": "2023-09-15T14:21:38.921921Z"
    }
   }
  },
  {
   "cell_type": "code",
   "execution_count": 157,
   "outputs": [],
   "source": [],
   "metadata": {
    "collapsed": false,
    "ExecuteTime": {
     "end_time": "2023-09-15T14:21:39.271522Z",
     "start_time": "2023-09-15T14:21:38.923812Z"
    }
   }
  }
 ],
 "metadata": {
  "kernelspec": {
   "display_name": "Python 3",
   "language": "python",
   "name": "python3"
  },
  "language_info": {
   "codemirror_mode": {
    "name": "ipython",
    "version": 3
   },
   "file_extension": ".py",
   "mimetype": "text/x-python",
   "name": "python",
   "nbconvert_exporter": "python",
   "pygments_lexer": "ipython3",
   "version": "3.11.3"
  }
 },
 "nbformat": 4,
 "nbformat_minor": 0
}
