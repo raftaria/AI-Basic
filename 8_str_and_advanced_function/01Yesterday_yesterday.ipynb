{
 "cells": [
  {
   "cell_type": "code",
   "execution_count": 7,
   "metadata": {},
   "outputs": [
    {
     "name": "stdout",
     "output_type": "stream",
     "text": [
      "Number of a Word 'Yesterday': 9\n"
     ]
    }
   ],
   "source": [
    "f = open(\"01Yesterday.txt\", 'r')\n",
    "yesterday_lyric = \"\"\n",
    "\n",
    "while True:\n",
    "    line = f.readline()\n",
    "    if not line:\n",
    "        break\n",
    "    yesterday_lyric = yesterday_lyric + line.strip() + \"\\n\"\n",
    "\n",
    "f.close()\n",
    "n_of_yesterday = yesterday_lyric.upper().count(\"YESTERDAY\")\n",
    "print(\"Number of a Word 'Yesterday': {0}\".format(n_of_yesterday))"
   ]
  },
  {
   "attachments": {},
   "cell_type": "markdown",
   "metadata": {},
   "source": [
    "Yesterday 노래엔 Yesterday라는 말이 몇 번 나올까?<br>\n",
    "대소문자를 구분하여 'Yesterday'와 'yesterday'의 개수를 나눠서 세는 프로그램을 작성하시오."
   ]
  },
  {
   "cell_type": "code",
   "execution_count": 20,
   "metadata": {},
   "outputs": [
    {
     "name": "stdout",
     "output_type": "stream",
     "text": [
      "Number of a Word 'Yesterday': 3\n",
      "Number of a Word 'yesterday': 6\n"
     ]
    }
   ],
   "source": [
    "f = open(\"01Yesterday.txt\", 'r')\n",
    "yesterday_lyric = \"\"\n",
    "\n",
    "while True:\n",
    "    line = f.readline()\n",
    "    if not line:\n",
    "        break\n",
    "    yesterday_lyric = yesterday_lyric + line.strip() + \"\\n\"\n",
    "\n",
    "f.close()\n",
    "n_of_yesterday = yesterday_lyric.count(\"yesterday\")\n",
    "n_of_Yesterday = yesterday_lyric.count(\"Yesterday\")\n",
    "\n",
    "print(\"Number of a Word 'Yesterday': \" + str(n_of_Yesterday) +\n",
    "      \"\\nNumber of a Word 'yesterday': \" + str(n_of_yesterday))"
   ]
  }
 ],
 "metadata": {
  "kernelspec": {
   "display_name": "base",
   "language": "python",
   "name": "python3"
  },
  "language_info": {
   "codemirror_mode": {
    "name": "ipython",
    "version": 3
   },
   "file_extension": ".py",
   "mimetype": "text/x-python",
   "name": "python",
   "nbconvert_exporter": "python",
   "pygments_lexer": "ipython3",
   "version": "3.10.9"
  },
  "orig_nbformat": 4
 },
 "nbformat": 4,
 "nbformat_minor": 2
}
