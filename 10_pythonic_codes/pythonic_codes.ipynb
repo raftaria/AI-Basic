{
 "cells": [
  {
   "cell_type": "markdown",
   "metadata": {},
   "source": [
    "### Split\n",
    "- String type의 값을 **기준값**으로 나눠서 list 형태로 변환"
   ]
  },
  {
   "cell_type": "code",
   "execution_count": 1,
   "metadata": {
    "collapsed": true,
    "ExecuteTime": {
     "end_time": "2023-09-15T09:55:18.955648Z",
     "start_time": "2023-09-15T09:55:18.948168Z"
    }
   },
   "outputs": [
    {
     "name": "stdout",
     "output_type": "stream",
     "text": [
      "['zero', 'one', 'two', 'three']\n"
     ]
    }
   ],
   "source": [
    "items = 'zero one two three'.split()\n",
    "print(items)"
   ]
  },
  {
   "cell_type": "code",
   "execution_count": 2,
   "metadata": {
    "collapsed": false,
    "ExecuteTime": {
     "end_time": "2023-09-15T09:55:18.956077Z",
     "start_time": "2023-09-15T09:55:18.952641Z"
    }
   },
   "outputs": [
    {
     "data": {
      "text/plain": "['python', 'java', 'javascript']"
     },
     "execution_count": 2,
     "metadata": {},
     "output_type": "execute_result"
    }
   ],
   "source": [
    "example = 'python,java,javascript'\n",
    "example.split(',')"
   ]
  },
  {
   "cell_type": "code",
   "execution_count": 3,
   "metadata": {
    "collapsed": false,
    "ExecuteTime": {
     "end_time": "2023-09-15T09:55:18.957322Z",
     "start_time": "2023-09-15T09:55:18.955451Z"
    }
   },
   "outputs": [],
   "source": [
    "example = 'teamlab.technology.io'\n",
    "subdomain, domain, tld = example.split('.')"
   ]
  },
  {
   "cell_type": "markdown",
   "metadata": {},
   "source": [
    "### JOIN\n",
    "- String으로 구성된 list를 합쳐 하나의 String으로 반환"
   ]
  },
  {
   "cell_type": "code",
   "execution_count": 4,
   "metadata": {
    "ExecuteTime": {
     "end_time": "2023-09-15T09:55:19.003261Z",
     "start_time": "2023-09-15T09:55:18.957743Z"
    }
   },
   "outputs": [
    {
     "data": {
      "text/plain": "'red-blue-green-yellow'"
     },
     "execution_count": 4,
     "metadata": {},
     "output_type": "execute_result"
    }
   ],
   "source": [
    "colors = [\"red\", 'blue', 'green', 'yellow']\n",
    "'-'.join(colors)"
   ]
  },
  {
   "cell_type": "markdown",
   "metadata": {},
   "source": [
    "### List Comprihension\n",
    "- 기존 list를 사용하여 간단히 다른 list를 만드는 기법\n",
    "- 포괄적인 list, 포함되는 리스트라는 의미로 사용됨\n",
    "- 파이썬에서 가장 많이 사용되는 기법 중 하나\n",
    "- 일반적으로 **for + append** 보다 속도가 빠름"
   ]
  },
  {
   "cell_type": "code",
   "execution_count": 5,
   "metadata": {
    "ExecuteTime": {
     "end_time": "2023-09-15T09:55:19.004195Z",
     "start_time": "2023-09-15T09:55:18.963360Z"
    }
   },
   "outputs": [
    {
     "data": {
      "text/plain": "[0, 1, 2, 3, 4, 5, 6, 7, 8, 9]"
     },
     "execution_count": 5,
     "metadata": {},
     "output_type": "execute_result"
    }
   ],
   "source": [
    "# 기존\n",
    "\n",
    "result = []\n",
    "for i in range(10):\n",
    "    result.append(i)\n",
    "\n",
    "result\n",
    "\n",
    "\n",
    "# List Comprehension\n",
    "\n",
    "result = [i for i in range(10)]\n",
    "result"
   ]
  },
  {
   "cell_type": "code",
   "execution_count": 6,
   "metadata": {
    "ExecuteTime": {
     "end_time": "2023-09-15T09:55:19.005020Z",
     "start_time": "2023-09-15T09:55:18.967149Z"
    }
   },
   "outputs": [
    {
     "name": "stdout",
     "output_type": "stream",
     "text": [
      "['HW', 'Ho', 'Hr', 'Hl', 'Hd', 'eW', 'eo', 'er', 'el', 'ed', 'lW', 'lo', 'lr', 'll', 'ld', 'lW', 'lo', 'lr', 'll', 'ld', 'oW', 'oo', 'or', 'ol', 'od']\n",
      "['HW',\n",
      " 'Ho',\n",
      " 'Hr',\n",
      " 'Hl',\n",
      " 'Hd',\n",
      " 'eW',\n",
      " 'eo',\n",
      " 'er',\n",
      " 'el',\n",
      " 'ed',\n",
      " 'lW',\n",
      " 'lo',\n",
      " 'lr',\n",
      " 'll',\n",
      " 'ld',\n",
      " 'lW',\n",
      " 'lo',\n",
      " 'lr',\n",
      " 'll',\n",
      " 'ld',\n",
      " 'oW',\n",
      " 'oo',\n",
      " 'or',\n",
      " 'ol',\n",
      " 'od']\n"
     ]
    }
   ],
   "source": [
    "word_1 = \"Hello\"\n",
    "word_2 = \"World\"\n",
    "result = [i + j for i in word_1 for j in word_2]\n",
    "print(result)\n",
    "\n",
    "# 이중 for문\n",
    "# for i in word_1:\n",
    "#     for j in word_2:\n",
    "#         result.append(i + j)\n",
    "\n",
    "import pprint\n",
    "pprint.pprint(result)"
   ]
  },
  {
   "cell_type": "code",
   "execution_count": 7,
   "metadata": {
    "ExecuteTime": {
     "end_time": "2023-09-15T09:55:19.005609Z",
     "start_time": "2023-09-15T09:55:18.970686Z"
    }
   },
   "outputs": [
    {
     "name": "stdout",
     "output_type": "stream",
     "text": [
      "['AD', 'AE', 'AA', 'BD', 'BE', 'BA', 'CD', 'CE', 'CA']\n",
      "['AD', 'AE', 'BD', 'BE', 'BA', 'CD', 'CE', 'CA']\n",
      "['AD', 'AE', 'BA', 'BD', 'BE', 'CA', 'CD', 'CE']\n"
     ]
    }
   ],
   "source": [
    "case1 = [\"A\", \"B\", \"C\"]\n",
    "case2 = ['D', 'E', 'A']\n",
    "result = [i + j for i in case1 for j in case2]\n",
    "print(result)\n",
    "\n",
    "result = [i + j for i in case1 for j in case2 if not(i==j)]\n",
    "print(result)\n",
    "\n",
    "result.sort()\n",
    "print(result)"
   ]
  },
  {
   "cell_type": "code",
   "execution_count": 8,
   "metadata": {
    "ExecuteTime": {
     "end_time": "2023-09-15T09:55:19.006179Z",
     "start_time": "2023-09-15T09:55:18.974494Z"
    }
   },
   "outputs": [
    {
     "name": "stdout",
     "output_type": "stream",
     "text": [
      "['The', 'quick', 'brown', 'fox', 'jumps', 'over', 'the', 'lazy', 'dog']\n",
      "['THE', 'the', 3]\n",
      "['QUICK', 'quick', 5]\n",
      "['BROWN', 'brown', 5]\n",
      "['FOX', 'fox', 3]\n",
      "['JUMPS', 'jumps', 5]\n",
      "['OVER', 'over', 4]\n",
      "['THE', 'the', 3]\n",
      "['LAZY', 'lazy', 4]\n",
      "['DOG', 'dog', 3]\n"
     ]
    }
   ],
   "source": [
    "words = \"The quick brown fox jumps over the lazy dog\".split()\n",
    "print(words)\n",
    "\n",
    "stuff = [[w.upper(), w.lower(), len(w)] for w in words]\n",
    "\n",
    "for i in stuff:\n",
    "    print(i)"
   ]
  },
  {
   "cell_type": "code",
   "execution_count": 9,
   "metadata": {
    "ExecuteTime": {
     "end_time": "2023-09-15T09:55:19.006677Z",
     "start_time": "2023-09-15T09:55:18.978324Z"
    }
   },
   "outputs": [
    {
     "name": "stdout",
     "output_type": "stream",
     "text": [
      "['AD', 'AE', 'AA', 'BD', 'BE', 'BA', 'CD', 'CE', 'CA']\n",
      "[['AD', 'BD', 'CD'], ['AE', 'BE', 'CE'], ['AA', 'BA', 'CA']]\n"
     ]
    }
   ],
   "source": [
    "case1 = ['A', 'B', 'C']\n",
    "case2 = ['D', 'E', 'A']\n",
    "\n",
    "result1 = [i + j for i in case1 for j in case2]\n",
    "print(result1)\n",
    "\n",
    "result2 = [[i + j for i in case1] for j in case2]\n",
    "print(result2)"
   ]
  },
  {
   "cell_type": "markdown",
   "metadata": {},
   "source": [
    "### enumerate & zip\n",
    "- enumerate: list의 element를 추출할 때 번호를 붙여서 추출\n",
    "- zip: 두 개의 list 값을 병렬적으로 추출함"
   ]
  },
  {
   "cell_type": "code",
   "execution_count": 10,
   "metadata": {
    "ExecuteTime": {
     "end_time": "2023-09-15T09:55:19.006993Z",
     "start_time": "2023-09-15T09:55:18.981873Z"
    }
   },
   "outputs": [
    {
     "name": "stdout",
     "output_type": "stream",
     "text": [
      "0 tic\n",
      "1 tac\n",
      "2 toe\n"
     ]
    },
    {
     "data": {
      "text/plain": "{0: 'Artificial',\n 1: 'intelligence',\n 2: '(AI),',\n 3: 'is',\n 4: 'intelligence',\n 5: 'demonstrated',\n 6: 'by',\n 7: 'machines,',\n 8: 'unlike',\n 9: 'the',\n 10: 'natural',\n 11: 'intelligence',\n 12: 'displayed',\n 13: 'by',\n 14: 'humans',\n 15: 'and',\n 16: 'animals.'}"
     },
     "execution_count": 10,
     "metadata": {},
     "output_type": "execute_result"
    }
   ],
   "source": [
    "for i, v in enumerate(['tic', 'tac', 'toe']):\n",
    "    print(i, v)\n",
    "\n",
    "mylist = ['a', 'b', 'c', 'd']\n",
    "list(enumerate(mylist))\n",
    "\n",
    "{i:j for i, j in enumerate('Artificial intelligence (AI), is intelligence demonstrated by machines, unlike the natural intelligence displayed by humans and animals.'.split())}\n"
   ]
  },
  {
   "cell_type": "code",
   "execution_count": 11,
   "metadata": {
    "ExecuteTime": {
     "end_time": "2023-09-15T09:55:19.021313Z",
     "start_time": "2023-09-15T09:55:18.986190Z"
    }
   },
   "outputs": [
    {
     "name": "stdout",
     "output_type": "stream",
     "text": [
      "a1 b1\n",
      "a2 b2\n",
      "a3 b3\n",
      "\n",
      "[('a1', 'b1'), ('a2', 'b2'), ('a3', 'b3')] \n",
      "\n",
      "(1, 10, 100) (2, 20, 200) (3, 30, 300)\n"
     ]
    },
    {
     "data": {
      "text/plain": "[111, 222, 333]"
     },
     "execution_count": 11,
     "metadata": {},
     "output_type": "execute_result"
    }
   ],
   "source": [
    "alist = ['a1', 'a2', 'a3']\n",
    "blist = ['b1', 'b2', 'b3']\n",
    "\n",
    "for a, b in zip(alist, blist):\n",
    "    print(a, b)\n",
    "print()\n",
    "\n",
    "print([c for c in zip(alist, blist)], '\\n')\n",
    "\n",
    "a, b, c = zip((1, 2, 3), (10, 20, 30), (100, 200, 300))\n",
    "print(a, b, c)\n",
    "\n",
    "[sum(x) for x in zip((1, 2, 3), (10, 20, 30), (100, 200, 300))]"
   ]
  },
  {
   "cell_type": "code",
   "execution_count": 12,
   "metadata": {
    "ExecuteTime": {
     "end_time": "2023-09-15T09:55:19.021555Z",
     "start_time": "2023-09-15T09:55:18.989671Z"
    }
   },
   "outputs": [
    {
     "name": "stdout",
     "output_type": "stream",
     "text": [
      "0 a1 b1\n",
      "1 a2 b2\n",
      "2 a3 b3\n"
     ]
    }
   ],
   "source": [
    "alist = ['a1', 'a2', 'a3']\n",
    "blist = ['b1', 'b2', 'b3']\n",
    "\n",
    "for i, (a, b) in enumerate(zip(alist, blist)):\n",
    "    print(i, a, b)"
   ]
  },
  {
   "cell_type": "code",
   "execution_count": 13,
   "metadata": {
    "ExecuteTime": {
     "end_time": "2023-09-15T09:55:19.021746Z",
     "start_time": "2023-09-15T09:55:18.992919Z"
    }
   },
   "outputs": [
    {
     "data": {
      "text/plain": "[93.33333333333333, 86.66666666666667, 73.33333333333333]"
     },
     "execution_count": 13,
     "metadata": {},
     "output_type": "execute_result"
    }
   ],
   "source": [
    "math = (100, 90, 80)\n",
    "kor = (90, 90, 70)\n",
    "eng = (90, 80, 70)\n",
    "\n",
    "[sum(value) / 3 for value in zip(math, kor, eng)]"
   ]
  },
  {
   "cell_type": "code",
   "execution_count": 14,
   "metadata": {
    "ExecuteTime": {
     "end_time": "2023-09-15T09:55:19.021918Z",
     "start_time": "2023-09-15T09:55:18.997231Z"
    }
   },
   "outputs": [
    {
     "data": {
      "text/plain": "[(0, ('a1', 'b1')), (1, ('a2', 'b2')), (2, ('a3', 'b3'))]"
     },
     "execution_count": 14,
     "metadata": {},
     "output_type": "execute_result"
    }
   ],
   "source": [
    "list(enumerate(zip(alist, blist)))"
   ]
  },
  {
   "cell_type": "markdown",
   "metadata": {},
   "source": [
    "### Lambda\n",
    "\n",
    "- 함수 이름 없이, 함수처럼 쓸 수 있는 익명함수\n",
    "- 수학의 람다 대수에서 유래함\n",
    "- 자주 사용되었지만 py3 부터는 권장하지 않음\n",
    "\n",
    "    - 어려운 문법, 테스트의 어려움\n",
    "    - 문서화 docstring 지원 마비\n",
    "    - 코드 해석의 어려움\n",
    "    - 이름이 존재하지 않는 함수의 출현\n",
    "    - 그래도 많이 씀.."
   ]
  },
  {
   "cell_type": "code",
   "execution_count": 15,
   "metadata": {
    "ExecuteTime": {
     "end_time": "2023-09-15T09:55:19.022154Z",
     "start_time": "2023-09-15T09:55:19.000507Z"
    }
   },
   "outputs": [
    {
     "name": "stdout",
     "output_type": "stream",
     "text": [
      "5\n",
      "5\n"
     ]
    }
   ],
   "source": [
    "def f(x, y):\n",
    "    return x + y\n",
    "\n",
    "print(f(1, 4))\n",
    "\n",
    "f = lambda x, y: x + y\n",
    "print(f(1, 4))"
   ]
  },
  {
   "cell_type": "code",
   "execution_count": 16,
   "metadata": {
    "ExecuteTime": {
     "end_time": "2023-09-15T09:55:19.023829Z",
     "start_time": "2023-09-15T09:55:19.003126Z"
    }
   },
   "outputs": [
    {
     "data": {
      "text/plain": "60"
     },
     "execution_count": 16,
     "metadata": {},
     "output_type": "execute_result"
    }
   ],
   "source": [
    "(lambda x, y: x + y)(10, 50)"
   ]
  },
  {
   "cell_type": "code",
   "execution_count": 17,
   "metadata": {
    "ExecuteTime": {
     "end_time": "2023-09-15T09:55:19.032752Z",
     "start_time": "2023-09-15T09:55:19.006399Z"
    }
   },
   "outputs": [
    {
     "data": {
      "text/plain": "'MY HAPPYmy happy'"
     },
     "execution_count": 17,
     "metadata": {},
     "output_type": "execute_result"
    }
   ],
   "source": [
    "up_low = lambda x : x.upper() + x.lower()\n",
    "\n",
    "up_low('My Happy')"
   ]
  },
  {
   "cell_type": "markdown",
   "metadata": {},
   "source": [
    "### map\n",
    "- 두 개 이상의 list에도 적용 가능함. if filter도 사용 가능"
   ]
  },
  {
   "cell_type": "code",
   "execution_count": 18,
   "metadata": {
    "ExecuteTime": {
     "end_time": "2023-09-15T09:55:19.033146Z",
     "start_time": "2023-09-15T09:55:19.010902Z"
    }
   },
   "outputs": [
    {
     "name": "stdout",
     "output_type": "stream",
     "text": [
      "[2, 4, 6, 8, 10]\n",
      "[1, 4, 3, 16, 5]\n",
      "[1, 4, 3, 16, 5]\n"
     ]
    }
   ],
   "source": [
    "ex = [1, 2, 3, 4, 5]\n",
    "f = lambda x, y : x + y\n",
    "print(list(map(f, ex, ex)))\n",
    "\n",
    "a = list(\n",
    "    map(\n",
    "        lambda x : x ** 2 if x % 2 == 0 else x, ex\n",
    "    )\n",
    ")\n",
    "\n",
    "b = [value ** 2 if value % 2 == 0 else value for value in ex]\n",
    "\n",
    "print(a)\n",
    "print(b)"
   ]
  },
  {
   "cell_type": "code",
   "execution_count": 19,
   "metadata": {
    "ExecuteTime": {
     "end_time": "2023-09-15T09:55:19.033859Z",
     "start_time": "2023-09-15T09:55:19.014043Z"
    }
   },
   "outputs": [
    {
     "name": "stdout",
     "output_type": "stream",
     "text": [
      "[2, 4, 6, 8, 10]\n",
      "<map object at 0x1058bd6f0>\n",
      "<map object at 0x1058bec80>\n",
      "1\n",
      "4\n",
      "9\n",
      "16\n",
      "25\n"
     ]
    }
   ],
   "source": [
    "# python3 는 iteration을 생성 -> list를 붙여줘야 list 사용 가능\n",
    "# 실행 시점의 값을 생성, 메모리 효율적\n",
    "\n",
    "ex = [1, 2, 3, 4, 5]\n",
    "print(list(map(lambda x : x + x, ex)))\n",
    "print(map(lambda x : x + x, ex))\n",
    "\n",
    "f = lambda x : x ** 2\n",
    "print(map(f, ex))\n",
    "\n",
    "for i in map(f, ex):\n",
    "    print(i)"
   ]
  },
  {
   "cell_type": "markdown",
   "metadata": {},
   "source": [
    "### reduce\n",
    "- map function과 달리 list에 똑같은 함수를 적용해서 통합"
   ]
  },
  {
   "cell_type": "code",
   "execution_count": 20,
   "metadata": {
    "ExecuteTime": {
     "end_time": "2023-09-15T09:55:19.034033Z",
     "start_time": "2023-09-15T09:55:19.017034Z"
    }
   },
   "outputs": [
    {
     "name": "stdout",
     "output_type": "stream",
     "text": [
      "15\n"
     ]
    }
   ],
   "source": [
    "from functools import reduce\n",
    "\n",
    "print(reduce(lambda x, y : x + y, [1, 2, 3, 4, 5]))"
   ]
  }
 ],
 "metadata": {
  "kernelspec": {
   "display_name": "Python 3",
   "language": "python",
   "name": "python3"
  },
  "language_info": {
   "codemirror_mode": {
    "name": "ipython",
    "version": 3
   },
   "file_extension": ".py",
   "mimetype": "text/x-python",
   "name": "python",
   "nbconvert_exporter": "python",
   "pygments_lexer": "ipython3",
   "version": "3.11.3"
  }
 },
 "nbformat": 4,
 "nbformat_minor": 0
}
