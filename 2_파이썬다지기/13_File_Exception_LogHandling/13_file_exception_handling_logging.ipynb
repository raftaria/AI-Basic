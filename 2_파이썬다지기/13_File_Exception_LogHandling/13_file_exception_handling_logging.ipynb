{
 "cells": [
  {
   "cell_type": "markdown",
   "source": [
    "### Exception Handling"
   ],
   "metadata": {
    "collapsed": false
   },
   "id": "d5828de9a0ed34c5"
  },
  {
   "cell_type": "markdown",
   "source": [
    "---"
   ],
   "metadata": {
    "collapsed": false
   },
   "id": "dc67e87415ed3f22"
  },
  {
   "cell_type": "code",
   "execution_count": 1,
   "outputs": [],
   "source": [
    "# try:\n",
    "#     예외 발생 가능 코드\n",
    "# except <Exception Type>:\n",
    "#     예외 발생 시 대응하는 코드"
   ],
   "metadata": {
    "collapsed": false,
    "ExecuteTime": {
     "end_time": "2023-11-28T09:55:11.186299200Z",
     "start_time": "2023-11-28T09:55:11.175983900Z"
    }
   },
   "id": "8df6537af47867d"
  },
  {
   "cell_type": "code",
   "execution_count": 2,
   "outputs": [
    {
     "name": "stdout",
     "output_type": "stream",
     "text": [
      "Not divided by 0\n",
      "10.0\n",
      "5.0\n",
      "3.3333333333333335\n",
      "2.5\n",
      "2.0\n",
      "1.6666666666666667\n",
      "1.4285714285714286\n",
      "1.25\n",
      "1.1111111111111112\n"
     ]
    }
   ],
   "source": [
    "# 0 으로 숫자를 나눌 때 예외처리 하기\n",
    "for i in range(10):\n",
    "    try:\n",
    "        print(10 / i)\n",
    "    except ZeroDivisionError:\n",
    "        print(\"Not divided by 0\")"
   ],
   "metadata": {
    "collapsed": false,
    "ExecuteTime": {
     "end_time": "2023-11-28T09:55:11.193396700Z",
     "start_time": "2023-11-28T09:55:11.184777300Z"
    }
   },
   "id": "20dac8b17e3b8795"
  },
  {
   "cell_type": "code",
   "execution_count": 3,
   "outputs": [
    {
     "name": "stdout",
     "output_type": "stream",
     "text": [
      "Error\n",
      "Not divided by 0\n",
      "1 10\n",
      "2 5\n",
      "3 3\n",
      "4 2\n",
      "5 2\n",
      "6 1\n",
      "7 1\n",
      "8 1\n",
      "9 1\n"
     ]
    }
   ],
   "source": [
    "a = [1, 2, 3 , 4, 5]\n",
    "for i in range(10):\n",
    "    try:\n",
    "        print(i, 10//i)\n",
    "    except ZeroDivisionError:\n",
    "        print(\"Error\")\n",
    "        print(\"Not divided by 0\")"
   ],
   "metadata": {
    "collapsed": false,
    "ExecuteTime": {
     "end_time": "2023-11-28T09:55:11.230772600Z",
     "start_time": "2023-11-28T09:55:11.191031500Z"
    }
   },
   "id": "e02cc9834fc89851"
  },
  {
   "cell_type": "code",
   "execution_count": 4,
   "outputs": [
    {
     "name": "stdout",
     "output_type": "stream",
     "text": [
      "Error\n",
      "Not divided by 0\n",
      "1 10\n",
      "2\n",
      "name 'v' is not defined\n",
      "2 5\n",
      "3\n",
      "name 'v' is not defined\n",
      "3 3\n",
      "4\n",
      "name 'v' is not defined\n",
      "4 2\n",
      "5\n",
      "name 'v' is not defined\n",
      "5 2\n",
      "list index out of range\n",
      "6 1\n",
      "list index out of range\n",
      "7 1\n",
      "list index out of range\n",
      "8 1\n",
      "list index out of range\n",
      "9 1\n",
      "list index out of range\n"
     ]
    }
   ],
   "source": [
    "for i in range(10):\n",
    "    try:\n",
    "        print(i, 10 // i)\n",
    "        print(a[i])\n",
    "        print(v)\n",
    "        \n",
    "    except ZeroDivisionError:\n",
    "        print(\"Error\")\n",
    "        print(\"Not divided by 0\")\n",
    "        \n",
    "    except IndexError as e:\n",
    "        print(e)\n",
    "        \n",
    "    except Exception as e:      # 에러 발생 지점을 찾기 어려움 -> 좋은 코드가 아님\n",
    "        print(e)"
   ],
   "metadata": {
    "collapsed": false,
    "ExecuteTime": {
     "end_time": "2023-11-28T09:55:11.231758700Z",
     "start_time": "2023-11-28T09:55:11.202718900Z"
    }
   },
   "id": "4696281b38a0a5b2"
  },
  {
   "cell_type": "markdown",
   "source": [
    "---"
   ],
   "metadata": {
    "collapsed": false
   },
   "id": "b3c0acaf3a2ffb03"
  },
  {
   "cell_type": "code",
   "execution_count": 5,
   "outputs": [],
   "source": [
    "# try ~ except ~ else -> 별로 좋지는 않음\n",
    "#\n",
    "# try:\n",
    "#     예외 발생 가능 코드\n",
    "# except <Exception Type>:\n",
    "#     예외 발생 시 동작하는 코드\n",
    "# else:\n",
    "#     예외가 발생하지 않을 때 동작하는 코드"
   ],
   "metadata": {
    "collapsed": false,
    "ExecuteTime": {
     "end_time": "2023-11-28T09:55:11.307199200Z",
     "start_time": "2023-11-28T09:55:11.211408500Z"
    }
   },
   "id": "bf43df59aef0de8c"
  },
  {
   "cell_type": "code",
   "execution_count": 9,
   "outputs": [
    {
     "name": "stdout",
     "output_type": "stream",
     "text": [
      "Not diveded by 0\n",
      "0 ------ 1\n",
      "10\n",
      "1 ------ 10\n",
      "5\n",
      "2 ------ 5\n",
      "3\n",
      "3 ------ 3\n",
      "2\n",
      "4 ------ 2\n",
      "2\n",
      "5 ------ 2\n",
      "1\n",
      "6 ------ 1\n",
      "1\n",
      "7 ------ 1\n",
      "1\n",
      "8 ------ 1\n",
      "1\n",
      "9 ------ 1\n"
     ]
    }
   ],
   "source": [
    "for i in range(10):\n",
    "    try:\n",
    "        result = 10 // i\n",
    "    except ZeroDivisionError:\n",
    "        print(\"Not diveded by 0\")\n",
    "    else:\n",
    "        print(10 // i)\n",
    "    finally:\n",
    "        print(i, \"------\", result)"
   ],
   "metadata": {
    "collapsed": false,
    "ExecuteTime": {
     "end_time": "2023-11-28T09:55:54.081512600Z",
     "start_time": "2023-11-28T09:55:54.059585100Z"
    }
   },
   "id": "616a424b6627f6e5"
  },
  {
   "cell_type": "code",
   "execution_count": 11,
   "outputs": [],
   "source": [
    "# raise: 필요에 따라 강제로 Exception을 발생\n",
    "#\n",
    "# raise <Exceoption Type>(예외정보)"
   ],
   "metadata": {
    "collapsed": false,
    "ExecuteTime": {
     "end_time": "2023-11-28T09:56:18.629272400Z",
     "start_time": "2023-11-28T09:56:18.617935100Z"
    }
   },
   "id": "f3cc503dfed1ea3d"
  },
  {
   "cell_type": "code",
   "execution_count": 13,
   "outputs": [
    {
     "name": "stdout",
     "output_type": "stream",
     "text": [
      "정수 값으로 변환된 숫자 - 10\n"
     ]
    },
    {
     "ename": "ValueError",
     "evalue": "숫자값을 입력하지 않으셨습니다.",
     "output_type": "error",
     "traceback": [
      "\u001B[1;31m---------------------------------------------------------------------------\u001B[0m",
      "\u001B[1;31mValueError\u001B[0m                                Traceback (most recent call last)",
      "Cell \u001B[1;32mIn[13], line 5\u001B[0m\n\u001B[0;32m      3\u001B[0m \u001B[38;5;28;01mfor\u001B[39;00m digit \u001B[38;5;129;01min\u001B[39;00m value:\n\u001B[0;32m      4\u001B[0m     \u001B[38;5;28;01mif\u001B[39;00m digit \u001B[38;5;129;01mnot\u001B[39;00m \u001B[38;5;129;01min\u001B[39;00m \u001B[38;5;124m\"\u001B[39m\u001B[38;5;124m0123456789\u001B[39m\u001B[38;5;124m\"\u001B[39m:\n\u001B[1;32m----> 5\u001B[0m         \u001B[38;5;28;01mraise\u001B[39;00m \u001B[38;5;167;01mValueError\u001B[39;00m(\u001B[38;5;124m\"\u001B[39m\u001B[38;5;124m숫자값을 입력하지 않으셨습니다.\u001B[39m\u001B[38;5;124m\"\u001B[39m)\n\u001B[0;32m      6\u001B[0m \u001B[38;5;28mprint\u001B[39m(\u001B[38;5;124m\"\u001B[39m\u001B[38;5;124m정수 값으로 변환된 숫자 -\u001B[39m\u001B[38;5;124m\"\u001B[39m, \u001B[38;5;28mint\u001B[39m(value))\n",
      "\u001B[1;31mValueError\u001B[0m: 숫자값을 입력하지 않으셨습니다."
     ]
    }
   ],
   "source": [
    "while True:\n",
    "    value = input(\"변환할 정수 값을 입력해주세요.\")\n",
    "    for digit in value:\n",
    "        if digit not in \"0123456789\":\n",
    "            raise ValueError(\"숫자값을 입력하지 않으셨습니다.\")\n",
    "    print(\"정수 값으로 변환된 숫자 -\", int(value))"
   ],
   "metadata": {
    "collapsed": false,
    "ExecuteTime": {
     "end_time": "2023-11-28T09:56:25.862649400Z",
     "start_time": "2023-11-28T09:56:23.080139700Z"
    }
   },
   "id": "6f2e322ce54bb693"
  },
  {
   "cell_type": "code",
   "execution_count": 14,
   "outputs": [],
   "source": [
    "# assert: 특정 조건에 만족하지 않을 경우 예외 발생"
   ],
   "metadata": {
    "collapsed": false,
    "ExecuteTime": {
     "end_time": "2023-11-28T09:56:27.346159500Z",
     "start_time": "2023-11-28T09:56:27.335420400Z"
    }
   },
   "id": "10e8820b8a2360a"
  },
  {
   "cell_type": "code",
   "execution_count": 15,
   "outputs": [
    {
     "ename": "AssertionError",
     "evalue": "",
     "output_type": "error",
     "traceback": [
      "\u001B[1;31m---------------------------------------------------------------------------\u001B[0m",
      "\u001B[1;31mAssertionError\u001B[0m                            Traceback (most recent call last)",
      "Cell \u001B[1;32mIn[15], line 5\u001B[0m\n\u001B[0;32m      2\u001B[0m     \u001B[38;5;28;01massert\u001B[39;00m \u001B[38;5;28misinstance\u001B[39m(decimal_number, \u001B[38;5;28mint\u001B[39m)\n\u001B[0;32m      3\u001B[0m     \u001B[38;5;28;01mreturn\u001B[39;00m \u001B[38;5;28mbin\u001B[39m(decimal_number)\n\u001B[1;32m----> 5\u001B[0m \u001B[38;5;28mprint\u001B[39m(get_binary_number(\u001B[38;5;241m10.0\u001B[39m))\n",
      "Cell \u001B[1;32mIn[15], line 2\u001B[0m, in \u001B[0;36mget_binary_number\u001B[1;34m(decimal_number)\u001B[0m\n\u001B[0;32m      1\u001B[0m \u001B[38;5;28;01mdef\u001B[39;00m \u001B[38;5;21mget_binary_number\u001B[39m(decimal_number : \u001B[38;5;28mint\u001B[39m):\n\u001B[1;32m----> 2\u001B[0m     \u001B[38;5;28;01massert\u001B[39;00m \u001B[38;5;28misinstance\u001B[39m(decimal_number, \u001B[38;5;28mint\u001B[39m)\n\u001B[0;32m      3\u001B[0m     \u001B[38;5;28;01mreturn\u001B[39;00m \u001B[38;5;28mbin\u001B[39m(decimal_number)\n",
      "\u001B[1;31mAssertionError\u001B[0m: "
     ]
    }
   ],
   "source": [
    "def get_binary_number(decimal_number : int):\n",
    "    assert isinstance(decimal_number, int)\n",
    "    return bin(decimal_number)\n",
    "\n",
    "print(get_binary_number(10.0))"
   ],
   "metadata": {
    "collapsed": false,
    "ExecuteTime": {
     "end_time": "2023-11-28T09:56:27.633185800Z",
     "start_time": "2023-11-28T09:56:27.574094600Z"
    }
   },
   "id": "3cc76e8b3168311b"
  },
  {
   "cell_type": "markdown",
   "source": [
    "---"
   ],
   "metadata": {
    "collapsed": false
   },
   "id": "a7d98d584f9c74dc"
  },
  {
   "cell_type": "markdown",
   "source": [
    "### File Handling\n",
    "\n",
    "- 기본적인 파일 종류로 text 파일과 binary 파일로 나눔\n",
    "- 컴퓨터는 text 파일을 처리하기 위해 binary 파일로 변환시킴. ex) pyc 파일\n",
    "- 모든 text 파일도 실제는 binary 파일<br>ASCII/Unicode 문자열 집합으로 저장되어 사람이 읽을 수 있음\n",
    "\n",
    "<br>\n",
    "\n",
    "| Binary 파일                                                                                            | Text 파일                                                                                          |\n",
    "|------------------------------------------------------------------------------------------------------|--------------------------------------------------------------------------------------------------|\n",
    "| • 컴퓨터만 이해할 수 있는 형태인 이진(법)형식으로 저장된 파일 <br/> • 일반적으로 메모장으로 열면 내용이 깨져보임(메모장 해설 불가)<br/> • 엑셀파일, 워드파일 등등 | • 인간도 이해할 수 있는 형태인 문자열로 저장된 파일<br/> • 메모장으로 열면 내용 확인 가능<br/> • 메모장에 저장된 파일, HTML 파일, 파이썬 코드 파일 등 |"
   ],
   "metadata": {
    "collapsed": false
   },
   "id": "12b04c02b0785325"
  },
  {
   "cell_type": "markdown",
   "source": [
    "#### 파이썬은 파일 처리를 위해 'open' 키워드를 사용함\n",
    "\n",
    "```python\n",
    "f = open(\"<파일이름>\", \"접근모드\")\n",
    "f.close()\n",
    "```\n",
    "\n",
    "| 파일열기모드 | 설명                                |\n",
    "|--------|-----------------------------------|\n",
    "| r      | 읽기모드 - 파일을 읽기만 할 때 사용             |\n",
    "| W      | 쓰기모드 - 파일에 내용을 쓸 때 사용             |\n",
    "| a      | 추가모드 - 파일의 마지막에 새로운 내용을 추가시킬 때 사용 |"
   ],
   "metadata": {
    "collapsed": false
   },
   "id": "b514e6d4bae6e44a"
  },
  {
   "cell_type": "code",
   "execution_count": 19,
   "outputs": [
    {
     "name": "stdout",
     "output_type": "stream",
     "text": [
      "I am happy to join with you today in what will go down in history as the greatest demonstration for freedom in the history of our nation.\n",
      "\n",
      "Five score years ago, a great American, in whose symbolic shadow we stand today, signed the Emancipation Proclamation. This momentous decree came as a great beacon light of hope to millions of Negro slaves who had been seared in the flames of withering injustice. It came as a joyous daybreak to end the long night of their captivity.\n",
      "\n",
      "But one hundred years later, the Negro still is not free. One hundred years later, the life of the Negro is still sadly crippled by the manacles of segregation and the chains of discrimination. One hundred years later, the Negro lives on a lonely island of poverty in the midst of a vast ocean of material prosperity. One hundred years later, the Negro is still languishing in the corners of American society and finds himself an exile in his own land. So we have come here today to dramatize a shameful condition.\n",
      "\n",
      "In a sense we have come to our nation's capital to cash a check. When the architects of our republic wrote the magnificent words of the Constitution and the Declaration of Independence, they were signing a promissory note to which every American was to fall heir. This note was a promise that all men, -yes, black men as well as white men,- would be guaranteed the unalienable rights of life, liberty, and the pursuit of happiness.\n",
      "\n",
      "It is obvious today that America has defaulted on this promissory note insofar as her citizens of color are concerned. Instead of honoring this sacred obligation, America has given the Negro people a bad check, a check which has come back marked \"insufficient funds.\" But we refuse to believe that the bank of justice is bankrupt. We refuse to believe that there are insufficient funds in the great vaults of opportunity of this nation. So we have come to cash this check — a check that will give us upon demand the riches of freedom and the security of justice.\n",
      "\n",
      "We have also come to this hallowed spot to remind America of the fierce urgency of now. This is no time to engage in the luxury of cooling off or to take the tranquilizing drug of gradualism. Now is the time to make real the promises of democracy. Now is the time to rise from the dark and desolate valley of segregation to the sunlit path of racial justice. Now is the time to lift our nation from the quick sands of racial injustice to the solid rock of brotherhood. Now is the time to make justice a reality for all of God's children.\n",
      "\n",
      "It would be fatal for the nation to overlook the urgency of the moment. This sweltering summer of the Negro's legitimate discontent will not pass until there is an invigorating autumn of freedom and equality. Nineteen sixty-three is not an end, but a beginning. Those who hope that the Negro needed to blow off steam and will now be content will have a rude awakening if the nation returns to business as usual. There will be neither rest nor tranquility in America until the Negro is granted his citizenship rights. The whirlwinds of revolt will continue to shake the foundations of our nation until the bright day of justice emerges.\n",
      "\n",
      "But there is something that I must say to my people who stand on the warm threshold which leads into the palace of justice. In the process of gaining our rightful place we must not be guilty of wrongful deeds. Let us not seek to satisfy our thirst for freedom by drinking from the cup of bitterness and hatred.\n",
      "\n",
      "We must forever conduct our struggle on the high plane of dignity and discipline. We must not allow our creative protest to degenerate into physical violence. Again and again we must rise to the majestic heights of meeting physical force with soul force. The marvelous new militancy which has engulfed the Negro community must not lead us to a distrust of all white people, for many of our white brothers, as evidenced by their presence here today, have come to realize that their destiny is tied up with our destiny. They have come to realize that their freedom is inextricably bound to our freedom. We cannot walk alone.\n",
      "\n",
      "As we walk, we must make the pledge that we shall always march ahead. We cannot turn back. There are those who are asking the devotees of civil rights, \"When will you be satisfied?\" We can never be satisfied as long as the Negro is the victim of the unspeakable horrors of police brutality. We can never be satisfied, as long as our bodies, heavy with the fatigue of travel, cannot gain lodging in the motels of the highways and the hotels of the cities. We cannot be satisfied as long as the Negro's basic mobility is from a smaller ghetto to a larger one. We can never be satisfied as long as our children are stripped of their selfhood and robbed of their dignity by signs stating \"For Whites Only\". We cannot be satisfied as long as a Negro in Mississippi cannot vote and a Negro in New York believes he has nothing for which to vote. No, no, we are not satisfied, and we will not be satisfied until justice rolls down like waters and righteousness like a mighty stream.\n",
      "\n",
      "I am not unmindful that some of you have come here out of great trials and tribulations. Some of you have come fresh from narrow jail cells. Some of you have come from areas where your quest for freedom left you battered by the storms of persecution and staggered by the winds of police brutality. You have been the veterans of creative suffering. Continue to work with the faith that unearned suffering is redemptive.\n",
      "\n",
      "Go back to Mississippi, go back to Alabama, go back to South Carolina, go back to Georgia, go back to Louisiana, go back to the slums and ghettos of our northern cities, knowing that somehow this situation can and will be changed. Let us not wallow in the valley of despair.\n",
      "\n",
      "I say to you today, my friends, so even though we face the difficulties of today and tomorrow, I still have a dream. It is a dream deeply rooted in the American dream.\n",
      "\n",
      "I have a dream that one day this nation will rise up and live out the true meaning of its creed: \"We hold these truths to be self-evident: that all men are created equal.\"\n",
      "\n",
      "I have a dream that one day on the red hills of Georgia the sons of former slaves and the sons of former slave owners will be able to sit down together at the table of brotherhood.\n",
      "\n",
      "I have a dream that one day even the state of Mississippi, a state sweltering with the heat of injustice, sweltering with the heat of oppression, will be transformed into an oasis of freedom and justice.\n",
      "\n",
      "I have a dream that my four little children will one day live in a nation where they will not be judged by the color of their skin, but by the content of their character.\n",
      "\n",
      "I have a dream today.\n",
      "\n",
      "I have a dream that one day, down in Alabama, with its vicious racists, with its governor having his lips dripping with the words of interposition and nullification; one day right there in Alabama, little black boys and black girls will be able to join hands with little white boys and white girls as sisters and brothers.\n",
      "\n",
      "I have a dream today.\n",
      "\n",
      "I have a dream that one day every valley shall be exalted, every hill and mountain shall be made low, the rough places will be made plain, and the crooked places will be made straight, and the glory of the Lord shall be revealed, and all flesh shall see it together.\n",
      "\n",
      "This is our hope. This is the faith that I go back to the South with. With this faith we will be able to hew out of the mountain of despair a stone of hope. With this faith we will be able to transform the jangling discords of our nation into a beautiful symphony of brotherhood. With this faith we will be able to work together, to pray together, to struggle together, to go to jail together, to stand up for freedom together, knowing that we will be free one day.\n",
      "\n",
      "This will be the day when all of God's children will be able to sing with a new meaning, \"My country, 'tis of thee, sweet land of liberty, of thee I sing. Land where my fathers died, land of the pilgrim's pride, from every mountainside, let freedom ring.\"\n",
      "\n",
      "And if America is to be a great nation this must become true.\n",
      "\n",
      "So let freedom ring from the prodigious hilltops of New Hampshire.\n",
      "\n",
      "Let freedom ring from the mighty mountains of New York. Let freedom ring from the heightening Alleghenies of Pennsylvania!\n",
      "\n",
      "Let freedom ring from the snowcapped Rockies of Colorado!\n",
      "\n",
      "Let freedom ring from the curvaceous slopes of California!\n",
      "\n",
      "But not only that; let freedom ring from Stone Mountain of Georgia!\n",
      "\n",
      "Let freedom ring from Lookout Mountain of Tennessee!\n",
      "\n",
      "Let freedom ring from every hill and molehill of Mississippi.\n",
      "\n",
      "From every mountainside, let freedom ring.\n",
      "\n",
      "And when this happens, when we allow freedom to ring, when we let it ring from every village and every hamlet, from every state and every city, we will be able to speed up that day when all of God's children, black men and white men, Jews and Gentiles, Protestants and Catholics, will be able to join hands and sing in the words of the old Negro spiritual,\n",
      "\n",
      "\"Free at last! Free at last! Thank God Almighty, we are free at last!\"\n"
     ]
    }
   ],
   "source": [
    "# 파일 Read\n",
    "f = open('i_have_a_dream.txt', 'r', encoding='UTF-8')\n",
    "contents = f.read()\n",
    "print(contents)\n",
    "f.close()"
   ],
   "metadata": {
    "collapsed": false,
    "ExecuteTime": {
     "end_time": "2023-11-28T09:56:51.747910100Z",
     "start_time": "2023-11-28T09:56:51.730343200Z"
    }
   },
   "id": "9b09dac1f37bfdbd"
  },
  {
   "cell_type": "code",
   "execution_count": 20,
   "outputs": [
    {
     "name": "stdout",
     "output_type": "stream",
     "text": [
      "I am happy to join with you today in what will go down in history as the greatest demonstration for freedom in the history of our nation.\n",
      "\n",
      "Five score years ago, a great American, in whose symbolic shadow we stand today, signed the Emancipation Proclamation. This momentous decree came as a great beacon light of hope to millions of Negro slaves who had been seared in the flames of withering injustice. It came as a joyous daybreak to end the long night of their captivity.\n",
      "\n",
      "But one hundred years later, the Negro still is not free. One hundred years later, the life of the Negro is still sadly crippled by the manacles of segregation and the chains of discrimination. One hundred years later, the Negro lives on a lonely island of poverty in the midst of a vast ocean of material prosperity. One hundred years later, the Negro is still languishing in the corners of American society and finds himself an exile in his own land. So we have come here today to dramatize a shameful condition.\n",
      "\n",
      "In a sense we have come to our nation's capital to cash a check. When the architects of our republic wrote the magnificent words of the Constitution and the Declaration of Independence, they were signing a promissory note to which every American was to fall heir. This note was a promise that all men, -yes, black men as well as white men,- would be guaranteed the unalienable rights of life, liberty, and the pursuit of happiness.\n",
      "\n",
      "It is obvious today that America has defaulted on this promissory note insofar as her citizens of color are concerned. Instead of honoring this sacred obligation, America has given the Negro people a bad check, a check which has come back marked \"insufficient funds.\" But we refuse to believe that the bank of justice is bankrupt. We refuse to believe that there are insufficient funds in the great vaults of opportunity of this nation. So we have come to cash this check — a check that will give us upon demand the riches of freedom and the security of justice.\n",
      "\n",
      "We have also come to this hallowed spot to remind America of the fierce urgency of now. This is no time to engage in the luxury of cooling off or to take the tranquilizing drug of gradualism. Now is the time to make real the promises of democracy. Now is the time to rise from the dark and desolate valley of segregation to the sunlit path of racial justice. Now is the time to lift our nation from the quick sands of racial injustice to the solid rock of brotherhood. Now is the time to make justice a reality for all of God's children.\n",
      "\n",
      "It would be fatal for the nation to overlook the urgency of the moment. This sweltering summer of the Negro's legitimate discontent will not pass until there is an invigorating autumn of freedom and equality. Nineteen sixty-three is not an end, but a beginning. Those who hope that the Negro needed to blow off steam and will now be content will have a rude awakening if the nation returns to business as usual. There will be neither rest nor tranquility in America until the Negro is granted his citizenship rights. The whirlwinds of revolt will continue to shake the foundations of our nation until the bright day of justice emerges.\n",
      "\n",
      "But there is something that I must say to my people who stand on the warm threshold which leads into the palace of justice. In the process of gaining our rightful place we must not be guilty of wrongful deeds. Let us not seek to satisfy our thirst for freedom by drinking from the cup of bitterness and hatred.\n",
      "\n",
      "We must forever conduct our struggle on the high plane of dignity and discipline. We must not allow our creative protest to degenerate into physical violence. Again and again we must rise to the majestic heights of meeting physical force with soul force. The marvelous new militancy which has engulfed the Negro community must not lead us to a distrust of all white people, for many of our white brothers, as evidenced by their presence here today, have come to realize that their destiny is tied up with our destiny. They have come to realize that their freedom is inextricably bound to our freedom. We cannot walk alone.\n",
      "\n",
      "As we walk, we must make the pledge that we shall always march ahead. We cannot turn back. There are those who are asking the devotees of civil rights, \"When will you be satisfied?\" We can never be satisfied as long as the Negro is the victim of the unspeakable horrors of police brutality. We can never be satisfied, as long as our bodies, heavy with the fatigue of travel, cannot gain lodging in the motels of the highways and the hotels of the cities. We cannot be satisfied as long as the Negro's basic mobility is from a smaller ghetto to a larger one. We can never be satisfied as long as our children are stripped of their selfhood and robbed of their dignity by signs stating \"For Whites Only\". We cannot be satisfied as long as a Negro in Mississippi cannot vote and a Negro in New York believes he has nothing for which to vote. No, no, we are not satisfied, and we will not be satisfied until justice rolls down like waters and righteousness like a mighty stream.\n",
      "\n",
      "I am not unmindful that some of you have come here out of great trials and tribulations. Some of you have come fresh from narrow jail cells. Some of you have come from areas where your quest for freedom left you battered by the storms of persecution and staggered by the winds of police brutality. You have been the veterans of creative suffering. Continue to work with the faith that unearned suffering is redemptive.\n",
      "\n",
      "Go back to Mississippi, go back to Alabama, go back to South Carolina, go back to Georgia, go back to Louisiana, go back to the slums and ghettos of our northern cities, knowing that somehow this situation can and will be changed. Let us not wallow in the valley of despair.\n",
      "\n",
      "I say to you today, my friends, so even though we face the difficulties of today and tomorrow, I still have a dream. It is a dream deeply rooted in the American dream.\n",
      "\n",
      "I have a dream that one day this nation will rise up and live out the true meaning of its creed: \"We hold these truths to be self-evident: that all men are created equal.\"\n",
      "\n",
      "I have a dream that one day on the red hills of Georgia the sons of former slaves and the sons of former slave owners will be able to sit down together at the table of brotherhood.\n",
      "\n",
      "I have a dream that one day even the state of Mississippi, a state sweltering with the heat of injustice, sweltering with the heat of oppression, will be transformed into an oasis of freedom and justice.\n",
      "\n",
      "I have a dream that my four little children will one day live in a nation where they will not be judged by the color of their skin, but by the content of their character.\n",
      "\n",
      "I have a dream today.\n",
      "\n",
      "I have a dream that one day, down in Alabama, with its vicious racists, with its governor having his lips dripping with the words of interposition and nullification; one day right there in Alabama, little black boys and black girls will be able to join hands with little white boys and white girls as sisters and brothers.\n",
      "\n",
      "I have a dream today.\n",
      "\n",
      "I have a dream that one day every valley shall be exalted, every hill and mountain shall be made low, the rough places will be made plain, and the crooked places will be made straight, and the glory of the Lord shall be revealed, and all flesh shall see it together.\n",
      "\n",
      "This is our hope. This is the faith that I go back to the South with. With this faith we will be able to hew out of the mountain of despair a stone of hope. With this faith we will be able to transform the jangling discords of our nation into a beautiful symphony of brotherhood. With this faith we will be able to work together, to pray together, to struggle together, to go to jail together, to stand up for freedom together, knowing that we will be free one day.\n",
      "\n",
      "This will be the day when all of God's children will be able to sing with a new meaning, \"My country, 'tis of thee, sweet land of liberty, of thee I sing. Land where my fathers died, land of the pilgrim's pride, from every mountainside, let freedom ring.\"\n",
      "\n",
      "And if America is to be a great nation this must become true.\n",
      "\n",
      "So let freedom ring from the prodigious hilltops of New Hampshire.\n",
      "\n",
      "Let freedom ring from the mighty mountains of New York. Let freedom ring from the heightening Alleghenies of Pennsylvania!\n",
      "\n",
      "Let freedom ring from the snowcapped Rockies of Colorado!\n",
      "\n",
      "Let freedom ring from the curvaceous slopes of California!\n",
      "\n",
      "But not only that; let freedom ring from Stone Mountain of Georgia!\n",
      "\n",
      "Let freedom ring from Lookout Mountain of Tennessee!\n",
      "\n",
      "Let freedom ring from every hill and molehill of Mississippi.\n",
      "\n",
      "From every mountainside, let freedom ring.\n",
      "\n",
      "And when this happens, when we allow freedom to ring, when we let it ring from every village and every hamlet, from every state and every city, we will be able to speed up that day when all of God's children, black men and white men, Jews and Gentiles, Protestants and Catholics, will be able to join hands and sing in the words of the old Negro spiritual,\n",
      "\n",
      "\"Free at last! Free at last! Thank God Almighty, we are free at last!\"\n"
     ]
    },
    {
     "data": {
      "text/plain": "['I am happy to join with you today in what will go down in history as the greatest demonstration for freedom in the history of our nation.',\n '',\n 'Five score years ago, a great American, in whose symbolic shadow we stand today, signed the Emancipation Proclamation. This momentous decree came as a great beacon light of hope to millions of Negro slaves who had been seared in the flames of withering injustice. It came as a joyous daybreak to end the long night of their captivity.',\n '',\n 'But one hundred years later, the Negro still is not free. One hundred years later, the life of the Negro is still sadly crippled by the manacles of segregation and the chains of discrimination. One hundred years later, the Negro lives on a lonely island of poverty in the midst of a vast ocean of material prosperity. One hundred years later, the Negro is still languishing in the corners of American society and finds himself an exile in his own land. So we have come here today to dramatize a shameful condition.',\n '',\n \"In a sense we have come to our nation's capital to cash a check. When the architects of our republic wrote the magnificent words of the Constitution and the Declaration of Independence, they were signing a promissory note to which every American was to fall heir. This note was a promise that all men, -yes, black men as well as white men,- would be guaranteed the unalienable rights of life, liberty, and the pursuit of happiness.\",\n '',\n 'It is obvious today that America has defaulted on this promissory note insofar as her citizens of color are concerned. Instead of honoring this sacred obligation, America has given the Negro people a bad check, a check which has come back marked \"insufficient funds.\" But we refuse to believe that the bank of justice is bankrupt. We refuse to believe that there are insufficient funds in the great vaults of opportunity of this nation. So we have come to cash this check — a check that will give us upon demand the riches of freedom and the security of justice.',\n '',\n \"We have also come to this hallowed spot to remind America of the fierce urgency of now. This is no time to engage in the luxury of cooling off or to take the tranquilizing drug of gradualism. Now is the time to make real the promises of democracy. Now is the time to rise from the dark and desolate valley of segregation to the sunlit path of racial justice. Now is the time to lift our nation from the quick sands of racial injustice to the solid rock of brotherhood. Now is the time to make justice a reality for all of God's children.\",\n '',\n \"It would be fatal for the nation to overlook the urgency of the moment. This sweltering summer of the Negro's legitimate discontent will not pass until there is an invigorating autumn of freedom and equality. Nineteen sixty-three is not an end, but a beginning. Those who hope that the Negro needed to blow off steam and will now be content will have a rude awakening if the nation returns to business as usual. There will be neither rest nor tranquility in America until the Negro is granted his citizenship rights. The whirlwinds of revolt will continue to shake the foundations of our nation until the bright day of justice emerges.\",\n '',\n 'But there is something that I must say to my people who stand on the warm threshold which leads into the palace of justice. In the process of gaining our rightful place we must not be guilty of wrongful deeds. Let us not seek to satisfy our thirst for freedom by drinking from the cup of bitterness and hatred.',\n '',\n 'We must forever conduct our struggle on the high plane of dignity and discipline. We must not allow our creative protest to degenerate into physical violence. Again and again we must rise to the majestic heights of meeting physical force with soul force. The marvelous new militancy which has engulfed the Negro community must not lead us to a distrust of all white people, for many of our white brothers, as evidenced by their presence here today, have come to realize that their destiny is tied up with our destiny. They have come to realize that their freedom is inextricably bound to our freedom. We cannot walk alone.',\n '',\n 'As we walk, we must make the pledge that we shall always march ahead. We cannot turn back. There are those who are asking the devotees of civil rights, \"When will you be satisfied?\" We can never be satisfied as long as the Negro is the victim of the unspeakable horrors of police brutality. We can never be satisfied, as long as our bodies, heavy with the fatigue of travel, cannot gain lodging in the motels of the highways and the hotels of the cities. We cannot be satisfied as long as the Negro\\'s basic mobility is from a smaller ghetto to a larger one. We can never be satisfied as long as our children are stripped of their selfhood and robbed of their dignity by signs stating \"For Whites Only\". We cannot be satisfied as long as a Negro in Mississippi cannot vote and a Negro in New York believes he has nothing for which to vote. No, no, we are not satisfied, and we will not be satisfied until justice rolls down like waters and righteousness like a mighty stream.',\n '',\n 'I am not unmindful that some of you have come here out of great trials and tribulations. Some of you have come fresh from narrow jail cells. Some of you have come from areas where your quest for freedom left you battered by the storms of persecution and staggered by the winds of police brutality. You have been the veterans of creative suffering. Continue to work with the faith that unearned suffering is redemptive.',\n '',\n 'Go back to Mississippi, go back to Alabama, go back to South Carolina, go back to Georgia, go back to Louisiana, go back to the slums and ghettos of our northern cities, knowing that somehow this situation can and will be changed. Let us not wallow in the valley of despair.',\n '',\n 'I say to you today, my friends, so even though we face the difficulties of today and tomorrow, I still have a dream. It is a dream deeply rooted in the American dream.',\n '',\n 'I have a dream that one day this nation will rise up and live out the true meaning of its creed: \"We hold these truths to be self-evident: that all men are created equal.\"',\n '',\n 'I have a dream that one day on the red hills of Georgia the sons of former slaves and the sons of former slave owners will be able to sit down together at the table of brotherhood.',\n '',\n 'I have a dream that one day even the state of Mississippi, a state sweltering with the heat of injustice, sweltering with the heat of oppression, will be transformed into an oasis of freedom and justice.',\n '',\n 'I have a dream that my four little children will one day live in a nation where they will not be judged by the color of their skin, but by the content of their character.',\n '',\n 'I have a dream today.',\n '',\n 'I have a dream that one day, down in Alabama, with its vicious racists, with its governor having his lips dripping with the words of interposition and nullification; one day right there in Alabama, little black boys and black girls will be able to join hands with little white boys and white girls as sisters and brothers.',\n '',\n 'I have a dream today.',\n '',\n 'I have a dream that one day every valley shall be exalted, every hill and mountain shall be made low, the rough places will be made plain, and the crooked places will be made straight, and the glory of the Lord shall be revealed, and all flesh shall see it together.',\n '',\n 'This is our hope. This is the faith that I go back to the South with. With this faith we will be able to hew out of the mountain of despair a stone of hope. With this faith we will be able to transform the jangling discords of our nation into a beautiful symphony of brotherhood. With this faith we will be able to work together, to pray together, to struggle together, to go to jail together, to stand up for freedom together, knowing that we will be free one day.',\n '',\n 'This will be the day when all of God\\'s children will be able to sing with a new meaning, \"My country, \\'tis of thee, sweet land of liberty, of thee I sing. Land where my fathers died, land of the pilgrim\\'s pride, from every mountainside, let freedom ring.\"',\n '',\n 'And if America is to be a great nation this must become true.',\n '',\n 'So let freedom ring from the prodigious hilltops of New Hampshire.',\n '',\n 'Let freedom ring from the mighty mountains of New York. Let freedom ring from the heightening Alleghenies of Pennsylvania!',\n '',\n 'Let freedom ring from the snowcapped Rockies of Colorado!',\n '',\n 'Let freedom ring from the curvaceous slopes of California!',\n '',\n 'But not only that; let freedom ring from Stone Mountain of Georgia!',\n '',\n 'Let freedom ring from Lookout Mountain of Tennessee!',\n '',\n 'Let freedom ring from every hill and molehill of Mississippi.',\n '',\n 'From every mountainside, let freedom ring.',\n '',\n \"And when this happens, when we allow freedom to ring, when we let it ring from every village and every hamlet, from every state and every city, we will be able to speed up that day when all of God's children, black men and white men, Jews and Gentiles, Protestants and Catholics, will be able to join hands and sing in the words of the old Negro spiritual,\",\n '',\n '\"Free at last! Free at last! Thank God Almighty, we are free at last!\"']"
     },
     "execution_count": 20,
     "metadata": {},
     "output_type": "execute_result"
    }
   ],
   "source": [
    "with open(\"i_have_a_dream.txt\", \"r\", encoding='UTF-8') as f:\n",
    "    contents = f.read()\n",
    "    print(contents)\n",
    "contents.split(\"\\n\")"
   ],
   "metadata": {
    "collapsed": false,
    "ExecuteTime": {
     "end_time": "2023-11-28T09:56:52.978341300Z",
     "start_time": "2023-11-28T09:56:52.950607900Z"
    }
   },
   "id": "e265c48bcd7b86b1"
  },
  {
   "cell_type": "code",
   "execution_count": 21,
   "outputs": [
    {
     "data": {
      "text/plain": "'\\n'"
     },
     "execution_count": 21,
     "metadata": {},
     "output_type": "execute_result"
    }
   ],
   "source": [
    "with open(\"i_have_a_dream.txt\", 'r', encoding='UTF-8') as f:\n",
    "    content_list = f.readlines()    # 파일 전체를 list로 반환\n",
    "# print(content_list)\n",
    "content_list[3]"
   ],
   "metadata": {
    "collapsed": false,
    "ExecuteTime": {
     "end_time": "2023-11-28T09:56:53.506209100Z",
     "start_time": "2023-11-28T09:56:53.484435700Z"
    }
   },
   "id": "ee69bc5a52d50e67"
  },
  {
   "cell_type": "code",
   "execution_count": 22,
   "outputs": [
    {
     "name": "stdout",
     "output_type": "stream",
     "text": [
      "0 === I am happy to join with you today in what will go down in history as the greatest demonstration for freedom in the history of our nation.\n",
      "1 === \n",
      "2 === Five score years ago, a great American, in whose symbolic shadow we stand today, signed the Emancipation Proclamation. This momentous decree came as a great beacon light of hope to millions of Negro slaves who had been seared in the flames of withering injustice. It came as a joyous daybreak to end the long night of their captivity.\n",
      "3 === \n",
      "4 === But one hundred years later, the Negro still is not free. One hundred years later, the life of the Negro is still sadly crippled by the manacles of segregation and the chains of discrimination. One hundred years later, the Negro lives on a lonely island of poverty in the midst of a vast ocean of material prosperity. One hundred years later, the Negro is still languishing in the corners of American society and finds himself an exile in his own land. So we have come here today to dramatize a shameful condition.\n",
      "5 === \n",
      "6 === In a sense we have come to our nation's capital to cash a check. When the architects of our republic wrote the magnificent words of the Constitution and the Declaration of Independence, they were signing a promissory note to which every American was to fall heir. This note was a promise that all men, -yes, black men as well as white men,- would be guaranteed the unalienable rights of life, liberty, and the pursuit of happiness.\n",
      "7 === \n",
      "8 === It is obvious today that America has defaulted on this promissory note insofar as her citizens of color are concerned. Instead of honoring this sacred obligation, America has given the Negro people a bad check, a check which has come back marked \"insufficient funds.\" But we refuse to believe that the bank of justice is bankrupt. We refuse to believe that there are insufficient funds in the great vaults of opportunity of this nation. So we have come to cash this check — a check that will give us upon demand the riches of freedom and the security of justice.\n",
      "9 === \n",
      "10 === We have also come to this hallowed spot to remind America of the fierce urgency of now. This is no time to engage in the luxury of cooling off or to take the tranquilizing drug of gradualism. Now is the time to make real the promises of democracy. Now is the time to rise from the dark and desolate valley of segregation to the sunlit path of racial justice. Now is the time to lift our nation from the quick sands of racial injustice to the solid rock of brotherhood. Now is the time to make justice a reality for all of God's children.\n",
      "11 === \n",
      "12 === It would be fatal for the nation to overlook the urgency of the moment. This sweltering summer of the Negro's legitimate discontent will not pass until there is an invigorating autumn of freedom and equality. Nineteen sixty-three is not an end, but a beginning. Those who hope that the Negro needed to blow off steam and will now be content will have a rude awakening if the nation returns to business as usual. There will be neither rest nor tranquility in America until the Negro is granted his citizenship rights. The whirlwinds of revolt will continue to shake the foundations of our nation until the bright day of justice emerges.\n",
      "13 === \n",
      "14 === But there is something that I must say to my people who stand on the warm threshold which leads into the palace of justice. In the process of gaining our rightful place we must not be guilty of wrongful deeds. Let us not seek to satisfy our thirst for freedom by drinking from the cup of bitterness and hatred.\n",
      "15 === \n",
      "16 === We must forever conduct our struggle on the high plane of dignity and discipline. We must not allow our creative protest to degenerate into physical violence. Again and again we must rise to the majestic heights of meeting physical force with soul force. The marvelous new militancy which has engulfed the Negro community must not lead us to a distrust of all white people, for many of our white brothers, as evidenced by their presence here today, have come to realize that their destiny is tied up with our destiny. They have come to realize that their freedom is inextricably bound to our freedom. We cannot walk alone.\n",
      "17 === \n",
      "18 === As we walk, we must make the pledge that we shall always march ahead. We cannot turn back. There are those who are asking the devotees of civil rights, \"When will you be satisfied?\" We can never be satisfied as long as the Negro is the victim of the unspeakable horrors of police brutality. We can never be satisfied, as long as our bodies, heavy with the fatigue of travel, cannot gain lodging in the motels of the highways and the hotels of the cities. We cannot be satisfied as long as the Negro's basic mobility is from a smaller ghetto to a larger one. We can never be satisfied as long as our children are stripped of their selfhood and robbed of their dignity by signs stating \"For Whites Only\". We cannot be satisfied as long as a Negro in Mississippi cannot vote and a Negro in New York believes he has nothing for which to vote. No, no, we are not satisfied, and we will not be satisfied until justice rolls down like waters and righteousness like a mighty stream.\n",
      "19 === \n",
      "20 === I am not unmindful that some of you have come here out of great trials and tribulations. Some of you have come fresh from narrow jail cells. Some of you have come from areas where your quest for freedom left you battered by the storms of persecution and staggered by the winds of police brutality. You have been the veterans of creative suffering. Continue to work with the faith that unearned suffering is redemptive.\n",
      "21 === \n",
      "22 === Go back to Mississippi, go back to Alabama, go back to South Carolina, go back to Georgia, go back to Louisiana, go back to the slums and ghettos of our northern cities, knowing that somehow this situation can and will be changed. Let us not wallow in the valley of despair.\n",
      "23 === \n",
      "24 === I say to you today, my friends, so even though we face the difficulties of today and tomorrow, I still have a dream. It is a dream deeply rooted in the American dream.\n",
      "25 === \n",
      "26 === I have a dream that one day this nation will rise up and live out the true meaning of its creed: \"We hold these truths to be self-evident: that all men are created equal.\"\n",
      "27 === \n",
      "28 === I have a dream that one day on the red hills of Georgia the sons of former slaves and the sons of former slave owners will be able to sit down together at the table of brotherhood.\n",
      "29 === \n",
      "30 === I have a dream that one day even the state of Mississippi, a state sweltering with the heat of injustice, sweltering with the heat of oppression, will be transformed into an oasis of freedom and justice.\n",
      "31 === \n",
      "32 === I have a dream that my four little children will one day live in a nation where they will not be judged by the color of their skin, but by the content of their character.\n",
      "33 === \n",
      "34 === I have a dream today.\n",
      "35 === \n",
      "36 === I have a dream that one day, down in Alabama, with its vicious racists, with its governor having his lips dripping with the words of interposition and nullification; one day right there in Alabama, little black boys and black girls will be able to join hands with little white boys and white girls as sisters and brothers.\n",
      "37 === \n",
      "38 === I have a dream today.\n",
      "39 === \n",
      "40 === I have a dream that one day every valley shall be exalted, every hill and mountain shall be made low, the rough places will be made plain, and the crooked places will be made straight, and the glory of the Lord shall be revealed, and all flesh shall see it together.\n",
      "41 === \n",
      "42 === This is our hope. This is the faith that I go back to the South with. With this faith we will be able to hew out of the mountain of despair a stone of hope. With this faith we will be able to transform the jangling discords of our nation into a beautiful symphony of brotherhood. With this faith we will be able to work together, to pray together, to struggle together, to go to jail together, to stand up for freedom together, knowing that we will be free one day.\n",
      "43 === \n",
      "44 === This will be the day when all of God's children will be able to sing with a new meaning, \"My country, 'tis of thee, sweet land of liberty, of thee I sing. Land where my fathers died, land of the pilgrim's pride, from every mountainside, let freedom ring.\"\n",
      "45 === \n",
      "46 === And if America is to be a great nation this must become true.\n",
      "47 === \n",
      "48 === So let freedom ring from the prodigious hilltops of New Hampshire.\n",
      "49 === \n",
      "50 === Let freedom ring from the mighty mountains of New York. Let freedom ring from the heightening Alleghenies of Pennsylvania!\n",
      "51 === \n",
      "52 === Let freedom ring from the snowcapped Rockies of Colorado!\n",
      "53 === \n",
      "54 === Let freedom ring from the curvaceous slopes of California!\n",
      "55 === \n",
      "56 === But not only that; let freedom ring from Stone Mountain of Georgia!\n",
      "57 === \n",
      "58 === Let freedom ring from Lookout Mountain of Tennessee!\n",
      "59 === \n",
      "60 === Let freedom ring from every hill and molehill of Mississippi.\n",
      "61 === \n",
      "62 === From every mountainside, let freedom ring.\n",
      "63 === \n",
      "64 === And when this happens, when we allow freedom to ring, when we let it ring from every village and every hamlet, from every state and every city, we will be able to speed up that day when all of God's children, black men and white men, Jews and Gentiles, Protestants and Catholics, will be able to join hands and sing in the words of the old Negro spiritual,\n",
      "65 === \n",
      "66 === \"Free at last! Free at last! Thank God Almighty, we are free at last!\"\n"
     ]
    }
   ],
   "source": [
    "# 실행 시마다 한 줄 씩 읽어오기\n",
    "with open(\"i_have_a_dream.txt\", 'r', encoding='UTF-8') as f:\n",
    "    i = 0\n",
    "    while True:\n",
    "        line = f.readline()\n",
    "        if not line:\n",
    "            break\n",
    "        print(str(i) + \" === \" + line.replace(\"\\n\", \"\"))    # 한줄씩 값 출력\n",
    "        i += 1"
   ],
   "metadata": {
    "collapsed": false,
    "ExecuteTime": {
     "end_time": "2023-11-28T09:56:54.234352700Z",
     "start_time": "2023-11-28T09:56:54.216348300Z"
    }
   },
   "id": "f0361b6c609e7744"
  },
  {
   "cell_type": "code",
   "execution_count": 23,
   "outputs": [
    {
     "name": "stdout",
     "output_type": "stream",
     "text": [
      "Total Number of Characters: 9067\n",
      "Total Number of Words: 1619\n",
      "Total Number of Lines: 67\n"
     ]
    }
   ],
   "source": [
    "# 단어 통계 정보 산출\n",
    "\n",
    "with open(\"i_have_a_dream.txt\", 'r', encoding='utf-8') as f:\n",
    "    contents = f.read()\n",
    "    word_list = contents.split(\" \")\n",
    "    line_list = contents.split(\"\\n\")\n",
    "\n",
    "print(\"Total Number of Characters:\", len(contents))\n",
    "print(\"Total Number of Words:\", len(word_list))\n",
    "print(\"Total Number of Lines:\", len(line_list))"
   ],
   "metadata": {
    "collapsed": false,
    "ExecuteTime": {
     "end_time": "2023-11-28T09:56:54.659288800Z",
     "start_time": "2023-11-28T09:56:54.617331300Z"
    }
   },
   "id": "ab9c94600ad824a0"
  },
  {
   "cell_type": "code",
   "execution_count": 24,
   "outputs": [],
   "source": [
    "# 파일 Write\n",
    "f = open(\"count_log.txt\", 'w', encoding='utf-8')\n",
    "for i in range(1, 11):\n",
    "    data = \"{0}번 째 줄입니다.\\n\".format(i)\n",
    "    f.write(data)\n",
    "f.close()"
   ],
   "metadata": {
    "collapsed": false,
    "ExecuteTime": {
     "end_time": "2023-11-28T09:56:55.145498800Z",
     "start_time": "2023-11-28T09:56:55.137575600Z"
    }
   },
   "id": "ae46f699350e0c37"
  },
  {
   "cell_type": "code",
   "execution_count": 25,
   "outputs": [],
   "source": [
    "# 파일 Add\n",
    "with open(\"count_log.txt\", 'a', encoding='utf-8') as f:\n",
    "    for i in range(11, 21):\n",
    "        data = '{0}번 째 줄입니다.\\n'.format(i)\n",
    "        f.write(data)"
   ],
   "metadata": {
    "collapsed": false,
    "ExecuteTime": {
     "end_time": "2023-11-28T09:56:55.627463Z",
     "start_time": "2023-11-28T09:56:55.594955200Z"
    }
   },
   "id": "308081cd8be69554"
  },
  {
   "cell_type": "markdown",
   "source": [
    "---"
   ],
   "metadata": {
    "collapsed": false
   },
   "id": "7b464b6eecf97909"
  },
  {
   "cell_type": "markdown",
   "source": [
    "### 파일 디렉토리 다루기"
   ],
   "metadata": {
    "collapsed": false
   },
   "id": "a6b5c90bf948ea4b"
  },
  {
   "cell_type": "code",
   "execution_count": 26,
   "outputs": [],
   "source": [
    "import os\n",
    "os.mkdir(\"SAngsaNG\")"
   ],
   "metadata": {
    "collapsed": false,
    "ExecuteTime": {
     "end_time": "2023-11-28T09:56:57.552648600Z",
     "start_time": "2023-11-28T09:56:57.536451600Z"
    }
   },
   "id": "3949c5d8a92cb5b5"
  },
  {
   "cell_type": "code",
   "execution_count": 27,
   "outputs": [],
   "source": [
    "try:\n",
    "    os.mkdir(\"abc\")\n",
    "except FileExistsError as e:\n",
    "    print(\"Already created\")"
   ],
   "metadata": {
    "collapsed": false,
    "ExecuteTime": {
     "end_time": "2023-11-28T09:56:57.801824800Z",
     "start_time": "2023-11-28T09:56:57.783414Z"
    }
   },
   "id": "823cc71b9fb7d850"
  },
  {
   "cell_type": "code",
   "execution_count": 28,
   "outputs": [
    {
     "data": {
      "text/plain": "True"
     },
     "execution_count": 28,
     "metadata": {},
     "output_type": "execute_result"
    }
   ],
   "source": [
    "os.path.exists(\"abc\")"
   ],
   "metadata": {
    "collapsed": false,
    "ExecuteTime": {
     "end_time": "2023-11-28T09:56:58.011321900Z",
     "start_time": "2023-11-28T09:56:57.988547600Z"
    }
   },
   "id": "8bbae330102a1947"
  },
  {
   "cell_type": "code",
   "execution_count": 29,
   "outputs": [
    {
     "data": {
      "text/plain": "True"
     },
     "execution_count": 29,
     "metadata": {},
     "output_type": "execute_result"
    }
   ],
   "source": [
    "os.path.isfile(\"13_file_exception_handling_logging.ipynb\")"
   ],
   "metadata": {
    "collapsed": false,
    "ExecuteTime": {
     "end_time": "2023-11-28T09:56:58.235760500Z",
     "start_time": "2023-11-28T09:56:58.210590100Z"
    }
   },
   "id": "84bb6f6f78564742"
  },
  {
   "cell_type": "code",
   "execution_count": 30,
   "outputs": [
    {
     "data": {
      "text/plain": "'abc\\\\SAngsaNG.txt'"
     },
     "execution_count": 30,
     "metadata": {},
     "output_type": "execute_result"
    }
   ],
   "source": [
    "import shutil\n",
    "\n",
    "source = \"i_have_a_dream.txt\"\n",
    "dest = os.path.join('abc', 'SAngsaNG.txt')\n",
    "\n",
    "shutil.copy(source, dest)"
   ],
   "metadata": {
    "collapsed": false,
    "ExecuteTime": {
     "end_time": "2023-11-28T09:56:58.440199400Z",
     "start_time": "2023-11-28T09:56:58.404555900Z"
    }
   },
   "id": "f8a65cbfa68aafb2"
  },
  {
   "cell_type": "code",
   "execution_count": 31,
   "outputs": [],
   "source": [
    "# pathlib: path를 객체로 다룸\n",
    "import pathlib\n",
    "\n",
    "# cwd: current working directory\n",
    "cwd = pathlib.Path.cwd()\n",
    " "
   ],
   "metadata": {
    "collapsed": false,
    "ExecuteTime": {
     "end_time": "2023-11-28T09:56:58.941772600Z",
     "start_time": "2023-11-28T09:56:58.919589900Z"
    }
   },
   "id": "c169cbc557c69074"
  },
  {
   "cell_type": "code",
   "execution_count": 32,
   "outputs": [
    {
     "data": {
      "text/plain": "WindowsPath('C:/BoostCurse/06. AI 기초 다지기')"
     },
     "execution_count": 32,
     "metadata": {},
     "output_type": "execute_result"
    }
   ],
   "source": [
    "cwd.parent"
   ],
   "metadata": {
    "collapsed": false,
    "ExecuteTime": {
     "end_time": "2023-11-28T09:56:59.397454500Z",
     "start_time": "2023-11-28T09:56:59.389831Z"
    }
   },
   "id": "93464d2c64c4e5a1"
  },
  {
   "cell_type": "code",
   "execution_count": 34,
   "outputs": [
    {
     "data": {
      "text/plain": "[WindowsPath('C:/BoostCurse/06. AI 기초 다지기'),\n WindowsPath('C:/BoostCurse'),\n WindowsPath('C:/')]"
     },
     "execution_count": 34,
     "metadata": {},
     "output_type": "execute_result"
    }
   ],
   "source": [
    "list(cwd.parents)"
   ],
   "metadata": {
    "collapsed": false,
    "ExecuteTime": {
     "end_time": "2023-11-28T09:57:02.922216300Z",
     "start_time": "2023-11-28T09:57:02.904628300Z"
    }
   },
   "id": "cd37a33c04060453"
  },
  {
   "cell_type": "code",
   "execution_count": 35,
   "outputs": [
    {
     "data": {
      "text/plain": "[WindowsPath('C:/BoostCurse/06. AI 기초 다지기/13_File_Exception_LogHandling/13_file_exception_handling_logging.ipynb'),\n WindowsPath('C:/BoostCurse/06. AI 기초 다지기/13_File_Exception_LogHandling/13_file_exception_handling_logging.pdf'),\n WindowsPath('C:/BoostCurse/06. AI 기초 다지기/13_File_Exception_LogHandling/abc'),\n WindowsPath('C:/BoostCurse/06. AI 기초 다지기/13_File_Exception_LogHandling/count_log.txt'),\n WindowsPath('C:/BoostCurse/06. AI 기초 다지기/13_File_Exception_LogHandling/example.cfg'),\n WindowsPath('C:/BoostCurse/06. AI 기초 다지기/13_File_Exception_LogHandling/i_have_a_dream.txt'),\n WindowsPath('C:/BoostCurse/06. AI 기초 다지기/13_File_Exception_LogHandling/logging.conf'),\n WindowsPath('C:/BoostCurse/06. AI 기초 다지기/13_File_Exception_LogHandling/SAngsaNG')]"
     },
     "execution_count": 35,
     "metadata": {},
     "output_type": "execute_result"
    }
   ],
   "source": [
    "list(cwd.glob('*'))"
   ],
   "metadata": {
    "collapsed": false,
    "ExecuteTime": {
     "end_time": "2023-11-28T09:57:03.747793100Z",
     "start_time": "2023-11-28T09:57:03.700344900Z"
    }
   },
   "id": "8d426e9ce9956a0b"
  },
  {
   "cell_type": "markdown",
   "source": [
    "---"
   ],
   "metadata": {
    "collapsed": false
   },
   "id": "a92af2f17bdf26f3"
  },
  {
   "cell_type": "markdown",
   "source": [
    "### Pickle\n",
    "- 파이썬의 객체를 영속화(persistence)하는 built-in 객체\n",
    "- 영속화: 하나의 객체를 파일로써 저장\n",
    "- 데이터, object 등 실행 중 정보를 저장 -> 불러와서 사용\n",
    "- 저장해야 하는 정보, 계산 결과(모델) 등 활용이 많음"
   ],
   "metadata": {
    "collapsed": false
   },
   "id": "4fa90e793701022f"
  },
  {
   "cell_type": "code",
   "execution_count": 36,
   "outputs": [],
   "source": [
    "import pickle\n",
    "\n",
    "f = open(\"list.pickle\", 'wb')\n",
    "test = [1, 2, 3, 4, 5]\n",
    "pickle.dump(test, f)\n",
    "f.close()"
   ],
   "metadata": {
    "collapsed": false,
    "ExecuteTime": {
     "end_time": "2023-11-28T09:57:05.384552900Z",
     "start_time": "2023-11-28T09:57:05.363595300Z"
    }
   },
   "id": "6145f4ec65908c8e"
  },
  {
   "cell_type": "code",
   "execution_count": 37,
   "outputs": [
    {
     "name": "stdout",
     "output_type": "stream",
     "text": [
      "[1, 2, 3, 4, 5]\n"
     ]
    }
   ],
   "source": [
    "f = open(\"list.pickle\", \"rb\")\n",
    "test_pickle = pickle.load(f)\n",
    "print(test_pickle)\n",
    "f.close()"
   ],
   "metadata": {
    "collapsed": false,
    "ExecuteTime": {
     "end_time": "2023-11-28T09:57:05.551212500Z",
     "start_time": "2023-11-28T09:57:05.534448700Z"
    }
   },
   "id": "1846a2177ef4a3fc"
  },
  {
   "cell_type": "code",
   "execution_count": 48,
   "outputs": [],
   "source": [
    "class Multiply(object):\n",
    "    def __init__(self, multiplier):\n",
    "        self.multiplier = multiplier\n",
    "    \n",
    "    def multiply(self, number):\n",
    "        return number * self.multiplier"
   ],
   "metadata": {
    "collapsed": false,
    "ExecuteTime": {
     "end_time": "2023-11-28T09:57:17.968799600Z",
     "start_time": "2023-11-28T09:57:17.943272400Z"
    }
   },
   "id": "8d98aad21cfc3cfb"
  },
  {
   "cell_type": "code",
   "execution_count": 49,
   "outputs": [
    {
     "data": {
      "text/plain": "500"
     },
     "execution_count": 49,
     "metadata": {},
     "output_type": "execute_result"
    }
   ],
   "source": [
    "multiply = Multiply(5)\n",
    "multiply.multiply(100)"
   ],
   "metadata": {
    "collapsed": false,
    "ExecuteTime": {
     "end_time": "2023-11-28T09:57:18.302459700Z",
     "start_time": "2023-11-28T09:57:18.294353200Z"
    }
   },
   "id": "4dc0690a5fd432ab"
  },
  {
   "cell_type": "code",
   "execution_count": 50,
   "outputs": [],
   "source": [
    "f = open('multiply_object.pickle', 'wb')\n",
    "pickle.dump(multiply, f)\n",
    "f.close()"
   ],
   "metadata": {
    "collapsed": false,
    "ExecuteTime": {
     "end_time": "2023-11-28T09:57:18.701377300Z",
     "start_time": "2023-11-28T09:57:18.693427500Z"
    }
   },
   "id": "923b92407bad0938"
  },
  {
   "cell_type": "code",
   "execution_count": 51,
   "outputs": [],
   "source": [
    "del multiply"
   ],
   "metadata": {
    "collapsed": false,
    "ExecuteTime": {
     "end_time": "2023-11-28T09:57:19.094176200Z",
     "start_time": "2023-11-28T09:57:19.084951900Z"
    }
   },
   "id": "bb2391d053834b0"
  },
  {
   "cell_type": "code",
   "execution_count": 52,
   "outputs": [
    {
     "ename": "NameError",
     "evalue": "name 'multiply' is not defined",
     "output_type": "error",
     "traceback": [
      "\u001B[1;31m---------------------------------------------------------------------------\u001B[0m",
      "\u001B[1;31mNameError\u001B[0m                                 Traceback (most recent call last)",
      "Cell \u001B[1;32mIn[52], line 1\u001B[0m\n\u001B[1;32m----> 1\u001B[0m multiply\n",
      "\u001B[1;31mNameError\u001B[0m: name 'multiply' is not defined"
     ]
    }
   ],
   "source": [
    "multiply"
   ],
   "metadata": {
    "collapsed": false,
    "ExecuteTime": {
     "end_time": "2023-11-28T09:57:19.688599100Z",
     "start_time": "2023-11-28T09:57:19.652072400Z"
    }
   },
   "id": "d14f578a74416a67"
  },
  {
   "cell_type": "code",
   "execution_count": 53,
   "outputs": [
    {
     "data": {
      "text/plain": "<__main__.Multiply at 0x24140ce0d10>"
     },
     "execution_count": 53,
     "metadata": {},
     "output_type": "execute_result"
    }
   ],
   "source": [
    "multiply_pickle"
   ],
   "metadata": {
    "collapsed": false,
    "ExecuteTime": {
     "end_time": "2023-11-28T09:57:20.577871Z",
     "start_time": "2023-11-28T09:57:20.541743700Z"
    }
   },
   "id": "cf08cb919e4e9468"
  },
  {
   "cell_type": "code",
   "execution_count": 54,
   "outputs": [
    {
     "data": {
      "text/plain": "500"
     },
     "execution_count": 54,
     "metadata": {},
     "output_type": "execute_result"
    }
   ],
   "source": [
    "f = open('multiply_object.pickle', 'rb')\n",
    "multiply_pickle = pickle.load(f)\n",
    "multiply_pickle.multiply(100)"
   ],
   "metadata": {
    "collapsed": false,
    "ExecuteTime": {
     "end_time": "2023-11-28T09:57:21.046250Z",
     "start_time": "2023-11-28T09:57:21.038035300Z"
    }
   },
   "id": "3a9a6cdabb28f6ec"
  },
  {
   "cell_type": "markdown",
   "source": [
    "---"
   ],
   "metadata": {
    "collapsed": false
   },
   "id": "469ad6539301840c"
  },
  {
   "cell_type": "markdown",
   "source": [
    "### Logging Handling\n",
    "\n",
    "#### 로그 남기기 - Logging\n",
    "- 프로그램이 실행되는 동안 일어나는 정보를 기록으로 남기기\n",
    "- 남기는 정보: 유저의 접근, 프로그램의 Exception, 특정 함수의 사용\n",
    "- 남기는 방법: Console 화면에 출력, 파일에 남기기, DB에 남기기 등등\n",
    "- 어떻게 사용: 기록된 로그를 분석하여 의미있는 결과를 도출할 수 있음\n",
    "- 실행 시점에서 남겨야 하는 기록, 개발 시점에서 남겨야 하는 기록\n",
    "\n",
    "<br>\n",
    "\n",
    "- 기록을 print로 남기는 것도 가능함\n",
    "- 그러나 Console 창에만 남기는 기록은 분석 시 사용 불가\n",
    "- 떄로는 레벨별(개발, 운영)로 기록을 남길 필요도 있음\n",
    "- 모듈별로 별도의 logging을 남길 필요도 있음\n",
    "- 이러한 기능을 체계적으로 지원하는 모듈이 필요함"
   ],
   "metadata": {
    "collapsed": false
   },
   "id": "92cd05190349b9fb"
  },
  {
   "cell_type": "markdown",
   "source": [
    "#### logging level\n",
    "- 프로그램 진행 상황에 따라 다른 Level의 Log를 출력함\n",
    "- 개발 시점, 운영 시점마다 다른 Log가 남을 수 있도록 지원함\n",
    "- Debug > Info > Warning > Error > Critical\n",
    "- Log 관리 시 가장 기본이 되는 설정 정보\n",
    "\n",
    "| Level    | 개요                                                   | 예시                                                                                                                        |\n",
    "|----------|------------------------------------------------------|---------------------------------------------------------------------------------------------------------------------------|\n",
    "| Debug    | 개발 시 처리 기록을 남겨야 하는 로그 정보를 남김                         | • 다음 함수로 A를 호출함<br/>• 변수 A를 무엇으로 변경함                                                                                      |\n",
    "| Info     | 처리가 진행되는 동안의 정보를 알림                                  | • 서버가 시작되었음<br/>• 서버가 종료됨<br/>• 사용자 A가 프로그램에 접속함                                                                          |\n",
    "| Warning  | 사용자가 잘못 입력한 정보나 처리는 가능하나 원래 개발시 의도치 않는 정보가 들어왔을 때 알림 | • str 입력을 기대했으나 Int가 입력됨.<br/>-> str casting으로 처리함.<br/>• 함수에 argument로 이차원 리스트를 기대했으나<br/>-> 일차원 리스트가 들어옴, 이차원으로 변환 후 처리 |\n",
    "| Error    | 잘못된 처리로 인해 에러가 났으나, 프로그램은 동작할 수 있음을 알림               | • 파일에 기록을 해야 하는데 파일이 없음<br/>-> Exception 처리 후 사용자에게 알림<br/>• 외부 서비스 연결 불가                                                 |\n",
    "| Critical | 잘못된 처리로 데이터 손실이나 더 이상 프로그램이 동작할 수 없음을 알림             | • 잘못된 접근으로 해당 파일이 삭제됨<br/>• 사용자에 의한 강제 종료                                                                                 |"
   ],
   "metadata": {
    "collapsed": false
   },
   "id": "746b33426a25c5d4"
  },
  {
   "cell_type": "code",
   "execution_count": 55,
   "outputs": [
    {
     "name": "stderr",
     "output_type": "stream",
     "text": [
      "DEBUG:main:들켰어!!\n",
      "INFO:main:확인해!!\n",
      "WARNING:main:조심해!!\n",
      "ERROR:main:에러났어!!\n",
      "CRITICAL:main:망했다!!\n"
     ]
    }
   ],
   "source": [
    "import logging\n",
    "\n",
    "if __name__ == \"__main__\":\n",
    "    logger = logging.getLogger(\"main\")\n",
    "    logging.basicConfig(level=logging.DEBUG)\n",
    "    # logger.setLevel(logging.ERROR)\n",
    "    \n",
    "    # stream_handler = logging.FileHandler('my.log', mode='w', encoding='utf-8')\n",
    "    # logger.addHandler(stream_handler)    \n",
    "    \n",
    "    logger.debug(\"들켰어!!\")\n",
    "    logger.info(\"확인해!!\")\n",
    "    logger.warning(\"조심해!!\")\n",
    "    logger.error(\"에러났어!!\")\n",
    "    logger.critical(\"망했다!!\")"
   ],
   "metadata": {
    "collapsed": false,
    "ExecuteTime": {
     "end_time": "2023-11-28T09:57:26.213387200Z",
     "start_time": "2023-11-28T09:57:26.183153800Z"
    }
   },
   "id": "9a266b40c92404b3"
  },
  {
   "cell_type": "markdown",
   "source": [
    "---"
   ],
   "metadata": {
    "collapsed": false
   },
   "id": "5b07ea2451153d44"
  },
  {
   "cell_type": "markdown",
   "source": [
    "### Configparser\n",
    "- 프로그램의 실행 설정을 file에 저장함\n",
    "- Section, Key, Value 값의 형태로 설정된 설정 파일을 사용\n",
    "- 설정 파일을 Dict Type으로 호출 후 사용"
   ],
   "metadata": {
    "collapsed": false
   },
   "id": "bc5013722ff11879"
  },
  {
   "cell_type": "code",
   "execution_count": 56,
   "outputs": [
    {
     "name": "stdout",
     "output_type": "stream",
     "text": [
      "['SectionOne', 'SectionTwo', 'SectionThree']\n",
      "<Section: SectionThree>\n",
      "favoritecolor : Green\n"
     ]
    }
   ],
   "source": [
    "import configparser\n",
    "config = configparser.ConfigParser()\n",
    "\n",
    "config.read('example.cfg')\n",
    "print(config.sections())\n",
    "\n",
    "print(config['SectionThree'])\n",
    "for key in config['SectionTwo']:\n",
    "    value = config['SectionTwo'][key]\n",
    "    print(\"{0} : {1}\".format(key, value))"
   ],
   "metadata": {
    "collapsed": false,
    "ExecuteTime": {
     "end_time": "2023-11-28T09:57:28.036082200Z",
     "start_time": "2023-11-28T09:57:28.001023300Z"
    }
   },
   "id": "73cccdc3ff95c3d7"
  },
  {
   "cell_type": "markdown",
   "source": [
    "### Argparser\n",
    "- Console 창에서 프로그램 실행 시 Setting 정보를 저장함\n",
    "- 거의 모든 Console 기반 Python 프로그램 기본으로 제공\n",
    "- 특수 모듈도 많이 존재하지만(TF), 일반적으로 argparse를 사용\n",
    "- Command-Line Option이라고 부름"
   ],
   "metadata": {
    "collapsed": false
   },
   "id": "b291aae29c5ad596"
  },
  {
   "cell_type": "code",
   "execution_count": 57,
   "outputs": [
    {
     "name": "stderr",
     "output_type": "stream",
     "text": [
      "usage: ipykernel_launcher.py [-h] [-a A_VALUE] [-b B_VALUE]\n",
      "ipykernel_launcher.py: error: unrecognized arguments: -f C:\\Users\\tiger\\AppData\\Roaming\\jupyter\\runtime\\kernel-0475d255-03b1-43c4-bb32-25631f6d9d8b.json\n"
     ]
    },
    {
     "ename": "SystemExit",
     "evalue": "2",
     "output_type": "error",
     "traceback": [
      "An exception has occurred, use %tb to see the full traceback.\n",
      "\u001B[1;31mSystemExit\u001B[0m\u001B[1;31m:\u001B[0m 2\n"
     ]
    },
    {
     "name": "stderr",
     "output_type": "stream",
     "text": [
      "C:\\ProgramData\\anaconda3\\Lib\\site-packages\\IPython\\core\\interactiveshell.py:3513: UserWarning: To exit: use 'exit', 'quit', or Ctrl-D.\n",
      "  warn(\"To exit: use 'exit', 'quit', or Ctrl-D.\", stacklevel=1)\n"
     ]
    }
   ],
   "source": [
    "import argparse\n",
    "\n",
    "parser = argparse.ArgumentParser(description=\"Sum two integers.\")\n",
    "\n",
    "parser.add_argument('-a', \"--a_value\", dest=\"A_value\", help=\"A_integers\", type=int)\n",
    "parser.add_argument('-b', \"--b_value\", dest=\"B_value\", help=\"B_integers\", type=int)\n",
    "\n",
    "args = parser.parse_args()\n",
    "print(args)\n",
    "print(args.a)\n",
    "print(args.b)\n",
    "print(args.a + args.b)"
   ],
   "metadata": {
    "collapsed": false,
    "ExecuteTime": {
     "end_time": "2023-11-28T09:57:28.939713100Z",
     "start_time": "2023-11-28T09:57:28.920104900Z"
    }
   },
   "id": "3f2ca1b92e623fa"
  },
  {
   "cell_type": "code",
   "execution_count": 58,
   "outputs": [
    {
     "name": "stderr",
     "output_type": "stream",
     "text": [
      "usage: ipykernel_launcher.py [-h] [-a A_VALUE] [-b B_VALUE] [--batch-size N]\n",
      "                             [--test-batch-size N] [--epochs N] [--lr LR]\n",
      "                             [--momentum M] [--no-cuda] [--seed S]\n",
      "                             [--save-model]\n",
      "ipykernel_launcher.py: error: unrecognized arguments: -f C:\\Users\\tiger\\AppData\\Roaming\\jupyter\\runtime\\kernel-0475d255-03b1-43c4-bb32-25631f6d9d8b.json\n"
     ]
    },
    {
     "ename": "SystemExit",
     "evalue": "2",
     "output_type": "error",
     "traceback": [
      "An exception has occurred, use %tb to see the full traceback.\n",
      "\u001B[1;31mSystemExit\u001B[0m\u001B[1;31m:\u001B[0m 2\n"
     ]
    }
   ],
   "source": [
    "def main():\n",
    "    parser = argparse.ArgumentParser(description='PyTorch MNIST Example')\n",
    "parser.add_argument('--batch-size', type=int, default=64, metavar='N', help='input batch size for training (default:64)')\n",
    "parser.add_argument('--test-batch-size', type=int, default=1000, metavar='N', help='input batch size for testing(default: 1000)')\n",
    "parser.add_argument('--epochs', type=int, default=10, metavar='N', help='number of epochs to train (default: 10)')\n",
    "parser.add_argument('--lr', type=float, default=0.01, metavar='LR', help='learning rate (default: 0.01)')\n",
    "parser.add_argument('--momentum', type=float, default=0.5, metavar='M', help='SGD momentum (default: 0.5)')\n",
    "parser.add_argument('--no-cuda', action='store_true', default=False, help='disables CUDA training')\n",
    "parser.add_argument('--seed', type=int, default=1, metavar='S', help='random seed (default: 1)')\n",
    "parser.add_argument('--save-model', action='store_true', default=False, help='For Saving the current Model')\n",
    "args = parser.parse_args()\n",
    "if __name__ == '__main__':\n",
    "    main()"
   ],
   "metadata": {
    "collapsed": false,
    "ExecuteTime": {
     "end_time": "2023-11-28T09:57:29.530256300Z",
     "start_time": "2023-11-28T09:57:29.510332200Z"
    }
   },
   "id": "a36ec8f1c775ba89"
  },
  {
   "cell_type": "markdown",
   "source": [
    "### Logging formater\n",
    "- Log의 결과값의 format을 지정해줄 수 있음"
   ],
   "metadata": {
    "collapsed": false
   },
   "id": "adb11acef503e70e"
  },
  {
   "cell_type": "code",
   "execution_count": 59,
   "outputs": [
    {
     "name": "stderr",
     "output_type": "stream",
     "text": [
      "--- Logging error ---\n",
      "Traceback (most recent call last):\n",
      "  File \"C:\\ProgramData\\anaconda3\\Lib\\logging\\__init__.py\", line 1110, in emit\n",
      "    msg = self.format(record)\n",
      "          ^^^^^^^^^^^^^^^^^^^\n",
      "  File \"C:\\ProgramData\\anaconda3\\Lib\\logging\\__init__.py\", line 953, in format\n",
      "    return fmt.format(record)\n",
      "           ^^^^^^^^^^^^^^^^^^\n",
      "  File \"C:\\ProgramData\\anaconda3\\Lib\\logging\\__init__.py\", line 690, in format\n",
      "    s = self.formatMessage(record)\n",
      "        ^^^^^^^^^^^^^^^^^^^^^^^^^^\n",
      "  File \"C:\\ProgramData\\anaconda3\\Lib\\logging\\__init__.py\", line 659, in formatMessage\n",
      "    return self._style.format(record)\n",
      "           ^^^^^^^^^^^^^^^^^^^^^^^^^^\n",
      "  File \"C:\\ProgramData\\anaconda3\\Lib\\logging\\__init__.py\", line 449, in format\n",
      "    return self._format(record)\n",
      "           ^^^^^^^^^^^^^^^^^^^^\n",
      "  File \"C:\\ProgramData\\anaconda3\\Lib\\logging\\__init__.py\", line 445, in _format\n",
      "    return self._fmt % values\n",
      "           ~~~~~~~~~~^~~~~~~~\n",
      "ValueError: unsupported format character '%' (0x25) at index 40\n",
      "Call stack:\n",
      "  File \"<frozen runpy>\", line 198, in _run_module_as_main\n",
      "  File \"<frozen runpy>\", line 88, in _run_code\n",
      "  File \"C:\\ProgramData\\anaconda3\\Lib\\site-packages\\ipykernel_launcher.py\", line 17, in <module>\n",
      "    app.launch_new_instance()\n",
      "  File \"C:\\ProgramData\\anaconda3\\Lib\\site-packages\\traitlets\\config\\application.py\", line 992, in launch_instance\n",
      "    app.start()\n",
      "  File \"C:\\ProgramData\\anaconda3\\Lib\\site-packages\\ipykernel\\kernelapp.py\", line 711, in start\n",
      "    self.io_loop.start()\n",
      "  File \"C:\\ProgramData\\anaconda3\\Lib\\site-packages\\tornado\\platform\\asyncio.py\", line 215, in start\n",
      "    self.asyncio_loop.run_forever()\n",
      "  File \"C:\\ProgramData\\anaconda3\\Lib\\asyncio\\base_events.py\", line 607, in run_forever\n",
      "    self._run_once()\n",
      "  File \"C:\\ProgramData\\anaconda3\\Lib\\asyncio\\base_events.py\", line 1922, in _run_once\n",
      "    handle._run()\n",
      "  File \"C:\\ProgramData\\anaconda3\\Lib\\asyncio\\events.py\", line 80, in _run\n",
      "    self._context.run(self._callback, *self._args)\n",
      "  File \"C:\\ProgramData\\anaconda3\\Lib\\site-packages\\ipykernel\\kernelbase.py\", line 510, in dispatch_queue\n",
      "    await self.process_one()\n",
      "  File \"C:\\ProgramData\\anaconda3\\Lib\\site-packages\\ipykernel\\kernelbase.py\", line 499, in process_one\n",
      "    await dispatch(*args)\n",
      "  File \"C:\\ProgramData\\anaconda3\\Lib\\site-packages\\ipykernel\\kernelbase.py\", line 406, in dispatch_shell\n",
      "    await result\n",
      "  File \"C:\\ProgramData\\anaconda3\\Lib\\site-packages\\ipykernel\\kernelbase.py\", line 729, in execute_request\n",
      "    reply_content = await reply_content\n",
      "  File \"C:\\ProgramData\\anaconda3\\Lib\\site-packages\\ipykernel\\ipkernel.py\", line 411, in do_execute\n",
      "    res = shell.run_cell(\n",
      "  File \"C:\\ProgramData\\anaconda3\\Lib\\site-packages\\ipykernel\\zmqshell.py\", line 531, in run_cell\n",
      "    return super().run_cell(*args, **kwargs)\n",
      "  File \"C:\\ProgramData\\anaconda3\\Lib\\site-packages\\IPython\\core\\interactiveshell.py\", line 3006, in run_cell\n",
      "    result = self._run_cell(\n",
      "  File \"C:\\ProgramData\\anaconda3\\Lib\\site-packages\\IPython\\core\\interactiveshell.py\", line 3061, in _run_cell\n",
      "    result = runner(coro)\n",
      "  File \"C:\\ProgramData\\anaconda3\\Lib\\site-packages\\IPython\\core\\async_helpers.py\", line 129, in _pseudo_sync_runner\n",
      "    coro.send(None)\n",
      "  File \"C:\\ProgramData\\anaconda3\\Lib\\site-packages\\IPython\\core\\interactiveshell.py\", line 3266, in run_cell_async\n",
      "    has_raised = await self.run_ast_nodes(code_ast.body, cell_name,\n",
      "  File \"C:\\ProgramData\\anaconda3\\Lib\\site-packages\\IPython\\core\\interactiveshell.py\", line 3445, in run_ast_nodes\n",
      "    if await self.run_code(code, result, async_=asy):\n",
      "  File \"C:\\ProgramData\\anaconda3\\Lib\\site-packages\\IPython\\core\\interactiveshell.py\", line 3505, in run_code\n",
      "    exec(code_obj, self.user_global_ns, self.user_ns)\n",
      "  File \"C:\\Users\\tiger\\AppData\\Local\\Temp\\ipykernel_15788\\3660977019.py\", line 14, in <module>\n",
      "    logger.info('Open file {0}'.format(\"TEST\",))\n",
      "Message: 'Open file TEST'\n",
      "Arguments: ()\n",
      "--- Logging error ---\n",
      "Traceback (most recent call last):\n",
      "  File \"C:\\Users\\tiger\\AppData\\Local\\Temp\\ipykernel_15788\\3660977019.py\", line 16, in <module>\n",
      "    with open(\"customers.csv\", \"r\") as customer_data:\n",
      "         ^^^^^^^^^^^^^^^^^^^^^^^^^^\n",
      "  File \"C:\\ProgramData\\anaconda3\\Lib\\site-packages\\IPython\\core\\interactiveshell.py\", line 284, in _modified_open\n",
      "    return io_open(file, *args, **kwargs)\n",
      "           ^^^^^^^^^^^^^^^^^^^^^^^^^^^^^^\n",
      "FileNotFoundError: [Errno 2] No such file or directory: 'customers.csv'\n",
      "\n",
      "During handling of the above exception, another exception occurred:\n",
      "\n",
      "Traceback (most recent call last):\n",
      "  File \"C:\\ProgramData\\anaconda3\\Lib\\logging\\__init__.py\", line 1110, in emit\n",
      "    msg = self.format(record)\n",
      "          ^^^^^^^^^^^^^^^^^^^\n",
      "  File \"C:\\ProgramData\\anaconda3\\Lib\\logging\\__init__.py\", line 953, in format\n",
      "    return fmt.format(record)\n",
      "           ^^^^^^^^^^^^^^^^^^\n",
      "  File \"C:\\ProgramData\\anaconda3\\Lib\\logging\\__init__.py\", line 690, in format\n",
      "    s = self.formatMessage(record)\n",
      "        ^^^^^^^^^^^^^^^^^^^^^^^^^^\n",
      "  File \"C:\\ProgramData\\anaconda3\\Lib\\logging\\__init__.py\", line 659, in formatMessage\n",
      "    return self._style.format(record)\n",
      "           ^^^^^^^^^^^^^^^^^^^^^^^^^^\n",
      "  File \"C:\\ProgramData\\anaconda3\\Lib\\logging\\__init__.py\", line 449, in format\n",
      "    return self._format(record)\n",
      "           ^^^^^^^^^^^^^^^^^^^^\n",
      "  File \"C:\\ProgramData\\anaconda3\\Lib\\logging\\__init__.py\", line 445, in _format\n",
      "    return self._fmt % values\n",
      "           ~~~~~~~~~~^~~~~~~~\n",
      "ValueError: unsupported format character '%' (0x25) at index 40\n",
      "Call stack:\n",
      "  File \"<frozen runpy>\", line 198, in _run_module_as_main\n",
      "  File \"<frozen runpy>\", line 88, in _run_code\n",
      "  File \"C:\\ProgramData\\anaconda3\\Lib\\site-packages\\ipykernel_launcher.py\", line 17, in <module>\n",
      "    app.launch_new_instance()\n",
      "  File \"C:\\ProgramData\\anaconda3\\Lib\\site-packages\\traitlets\\config\\application.py\", line 992, in launch_instance\n",
      "    app.start()\n",
      "  File \"C:\\ProgramData\\anaconda3\\Lib\\site-packages\\ipykernel\\kernelapp.py\", line 711, in start\n",
      "    self.io_loop.start()\n",
      "  File \"C:\\ProgramData\\anaconda3\\Lib\\site-packages\\tornado\\platform\\asyncio.py\", line 215, in start\n",
      "    self.asyncio_loop.run_forever()\n",
      "  File \"C:\\ProgramData\\anaconda3\\Lib\\asyncio\\base_events.py\", line 607, in run_forever\n",
      "    self._run_once()\n",
      "  File \"C:\\ProgramData\\anaconda3\\Lib\\asyncio\\base_events.py\", line 1922, in _run_once\n",
      "    handle._run()\n",
      "  File \"C:\\ProgramData\\anaconda3\\Lib\\asyncio\\events.py\", line 80, in _run\n",
      "    self._context.run(self._callback, *self._args)\n",
      "  File \"C:\\ProgramData\\anaconda3\\Lib\\site-packages\\ipykernel\\kernelbase.py\", line 510, in dispatch_queue\n",
      "    await self.process_one()\n",
      "  File \"C:\\ProgramData\\anaconda3\\Lib\\site-packages\\ipykernel\\kernelbase.py\", line 499, in process_one\n",
      "    await dispatch(*args)\n",
      "  File \"C:\\ProgramData\\anaconda3\\Lib\\site-packages\\ipykernel\\kernelbase.py\", line 406, in dispatch_shell\n",
      "    await result\n",
      "  File \"C:\\ProgramData\\anaconda3\\Lib\\site-packages\\ipykernel\\kernelbase.py\", line 729, in execute_request\n",
      "    reply_content = await reply_content\n",
      "  File \"C:\\ProgramData\\anaconda3\\Lib\\site-packages\\ipykernel\\ipkernel.py\", line 411, in do_execute\n",
      "    res = shell.run_cell(\n",
      "  File \"C:\\ProgramData\\anaconda3\\Lib\\site-packages\\ipykernel\\zmqshell.py\", line 531, in run_cell\n",
      "    return super().run_cell(*args, **kwargs)\n",
      "  File \"C:\\ProgramData\\anaconda3\\Lib\\site-packages\\IPython\\core\\interactiveshell.py\", line 3006, in run_cell\n",
      "    result = self._run_cell(\n",
      "  File \"C:\\ProgramData\\anaconda3\\Lib\\site-packages\\IPython\\core\\interactiveshell.py\", line 3061, in _run_cell\n",
      "    result = runner(coro)\n",
      "  File \"C:\\ProgramData\\anaconda3\\Lib\\site-packages\\IPython\\core\\async_helpers.py\", line 129, in _pseudo_sync_runner\n",
      "    coro.send(None)\n",
      "  File \"C:\\ProgramData\\anaconda3\\Lib\\site-packages\\IPython\\core\\interactiveshell.py\", line 3266, in run_cell_async\n",
      "    has_raised = await self.run_ast_nodes(code_ast.body, cell_name,\n",
      "  File \"C:\\ProgramData\\anaconda3\\Lib\\site-packages\\IPython\\core\\interactiveshell.py\", line 3445, in run_ast_nodes\n",
      "    if await self.run_code(code, result, async_=asy):\n",
      "  File \"C:\\ProgramData\\anaconda3\\Lib\\site-packages\\IPython\\core\\interactiveshell.py\", line 3505, in run_code\n",
      "    exec(code_obj, self.user_global_ns, self.user_ns)\n",
      "  File \"C:\\Users\\tiger\\AppData\\Local\\Temp\\ipykernel_15788\\3660977019.py\", line 24, in <module>\n",
      "    logger.error(\"File Not Found {0}\".format(e,))\n",
      "Message: \"File Not Found [Errno 2] No such file or directory: 'customers.csv'\"\n",
      "Arguments: ()\n"
     ]
    }
   ],
   "source": [
    "import logging\n",
    "import logging.config\n",
    "import csv\n",
    "\n",
    "logging.config.fileConfig('logging.conf')\n",
    "logger = logging.getLogger()\n",
    "\n",
    "line_counter = 0\n",
    "data_header = []\n",
    "employee = []\n",
    "customer_USA_only_list = []\n",
    "customer = None\n",
    "\n",
    "logger.info('Open file {0}'.format(\"TEST\",))\n",
    "try:\n",
    "    with open(\"customers.csv\", \"r\") as customer_data:\n",
    "        customer_reader = csv.reader(\n",
    "            customer_data, delimiter=',', quotechar='\"')\n",
    "        for cunstomer in customer_reader:\n",
    "            if customer[10].upper() == \"USA\":   # customer 데이터의 offset 10번째 값\n",
    "                logger.info('ID {0} added'.format(customer[0],))\n",
    "                customer_USA_only_list.append(customer)     # 즉 country 필드가 \"USA\"인 것만\n",
    "except FileNotFoundError as e:\n",
    "    logger.error(\"File Not Found {0}\".format(e,))"
   ],
   "metadata": {
    "collapsed": false,
    "ExecuteTime": {
     "end_time": "2023-11-28T09:57:30.905510Z",
     "start_time": "2023-11-28T09:57:30.780064400Z"
    }
   },
   "id": "4277761066d4f90c"
  },
  {
   "cell_type": "code",
   "execution_count": null,
   "outputs": [],
   "source": [],
   "metadata": {
    "collapsed": false
   },
   "id": "e3cb85eb109dd52d"
  }
 ],
 "metadata": {
  "kernelspec": {
   "display_name": "Python 3",
   "language": "python",
   "name": "python3"
  },
  "language_info": {
   "codemirror_mode": {
    "name": "ipython",
    "version": 2
   },
   "file_extension": ".py",
   "mimetype": "text/x-python",
   "name": "python",
   "nbconvert_exporter": "python",
   "pygments_lexer": "ipython2",
   "version": "2.7.6"
  }
 },
 "nbformat": 4,
 "nbformat_minor": 5
}
