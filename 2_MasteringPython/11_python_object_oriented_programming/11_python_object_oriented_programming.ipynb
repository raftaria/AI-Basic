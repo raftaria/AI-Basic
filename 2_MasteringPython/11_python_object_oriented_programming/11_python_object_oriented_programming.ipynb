{
 "cells": [
  {
   "cell_type": "markdown",
   "source": [
    "### Object in python\n",
    "class SoccerPlayer(object):\n",
    "-> 예약어, 클래스 이름, 상속받는 개체명"
   ],
   "metadata": {
    "collapsed": false
   },
   "id": "c602c1b7254378aa"
  },
  {
   "cell_type": "code",
   "execution_count": 93,
   "outputs": [],
   "source": [
    "class SoccerPlayer(object):\n",
    "    def __init__(self, name : str, position : str, back_number : int):\n",
    "        self.name = name\n",
    "        self.position = position\n",
    "        self.back_number = back_number    \n",
    "        \n",
    "    def change_back_number(self, new_number):\n",
    "        print(\"선수의 등번호를 변경합니다: From %d to %d\"%(self.back_number, new_number))\n",
    "        self.back_number = new_number\n",
    "        \n",
    "    def __str__(self):\n",
    "        return \"Hello, my name is %s. My back number is %d\"%(self.name, self.back_number)\n",
    "    \n",
    "    def __add__(self, other):\n",
    "        return self.name + other.name"
   ],
   "metadata": {
    "collapsed": false,
    "ExecuteTime": {
     "end_time": "2023-09-20T07:38:42.116265Z",
     "start_time": "2023-09-20T07:38:42.051669Z"
    }
   },
   "id": "4752bed10c10ae8d"
  },
  {
   "cell_type": "code",
   "execution_count": 94,
   "outputs": [
    {
     "data": {
      "text/plain": "False"
     },
     "execution_count": 94,
     "metadata": {},
     "output_type": "execute_result"
    }
   ],
   "source": [
    "a = SoccerPlayer(\"Son\", \"FW\", 7)\n",
    "b = SoccerPlayer(\"Park\", \"WF\", 13)\n",
    "\n",
    "a is b"
   ],
   "metadata": {
    "collapsed": false,
    "ExecuteTime": {
     "end_time": "2023-09-20T07:38:42.116581Z",
     "start_time": "2023-09-20T07:38:42.055301Z"
    }
   },
   "id": "16485f1fa1e5eb25"
  },
  {
   "cell_type": "code",
   "execution_count": 95,
   "outputs": [
    {
     "data": {
      "text/plain": "'SonPark'"
     },
     "execution_count": 95,
     "metadata": {},
     "output_type": "execute_result"
    }
   ],
   "source": [
    "a + b"
   ],
   "metadata": {
    "collapsed": false,
    "ExecuteTime": {
     "end_time": "2023-09-20T07:38:42.133424Z",
     "start_time": "2023-09-20T07:38:42.058717Z"
    }
   },
   "id": "2979f5174dbbb23d"
  },
  {
   "cell_type": "markdown",
   "source": [
    "- self : 생성된 인스턴스"
   ],
   "metadata": {
    "collapsed": false
   },
   "id": "adb8f6cf2bf73683"
  },
  {
   "cell_type": "code",
   "execution_count": 96,
   "outputs": [
    {
     "name": "stdout",
     "output_type": "stream",
     "text": [
      "Hello, my name is Hyeon Jin. My back number is 10\n"
     ]
    }
   ],
   "source": [
    "choi = SoccerPlayer(\"Hyeon Jin\", \"MF\", 10)\n",
    "print(choi)"
   ],
   "metadata": {
    "collapsed": false,
    "ExecuteTime": {
     "end_time": "2023-09-20T07:38:42.146875Z",
     "start_time": "2023-09-20T07:38:42.065037Z"
    }
   },
   "id": "2aedcbead0b0f0c5"
  },
  {
   "cell_type": "code",
   "execution_count": 97,
   "outputs": [
    {
     "name": "stdout",
     "output_type": "stream",
     "text": [
      "선수의 등번호를 변경합니다: From 10 to 7\n"
     ]
    }
   ],
   "source": [
    "choi.change_back_number(7)"
   ],
   "metadata": {
    "collapsed": false,
    "ExecuteTime": {
     "end_time": "2023-09-20T07:38:42.190304Z",
     "start_time": "2023-09-20T07:38:42.067694Z"
    }
   },
   "id": "6b8467b820d01aa2"
  },
  {
   "cell_type": "code",
   "execution_count": 98,
   "outputs": [
    {
     "name": "stdout",
     "output_type": "stream",
     "text": [
      "Hello, my name is Hyeon Jin. My back number is 20\n"
     ]
    }
   ],
   "source": [
    "# 권장 x\n",
    "choi.back_number = 20\n",
    "print(choi)"
   ],
   "metadata": {
    "collapsed": false,
    "ExecuteTime": {
     "end_time": "2023-09-20T07:38:42.190566Z",
     "start_time": "2023-09-20T07:38:42.069518Z"
    }
   },
   "id": "cdccbc1483fa503d"
  },
  {
   "cell_type": "markdown",
   "source": [
    "---"
   ],
   "metadata": {
    "collapsed": false
   },
   "id": "880d8f82429bd1ba"
  },
  {
   "cell_type": "markdown",
   "source": [
    "### OOP Implementation Example\n",
    "- Note를 정리하는 프로그램\n",
    "- 사용자는 Note에 뭔가를 적을 수 있다.\n",
    "- Note에는 **Content**가 있고, **내용을 제거**할 수 있다.\n",
    "- 두 개의 노트북을 합쳐 하나로 만들 수 있다.\n",
    "- Note는 Notebook에 삽입된다.\n",
    "- Notebook은 Note가 삽입될 때 페이지를 생성하며, 최고 300페이지까지 저장 가능하다.\n",
    "- 300 페이지가 넘으면 더 이상 노트를 삽입하지 못한다."
   ],
   "metadata": {
    "collapsed": false
   },
   "id": "bf2a99fadafe1363"
  },
  {
   "cell_type": "code",
   "execution_count": 99,
   "outputs": [],
   "source": [
    "class Note(object):\n",
    "    def __init__(self, content=None):\n",
    "        self.content = content\n",
    "        \n",
    "    def __add__(self, other):\n",
    "        return self.content + other.content\n",
    "    \n",
    "    def __str__(self):\n",
    "        return \"노트에 적힌 내용입니다: {0}\".format(self.content)\n",
    "    \n",
    "    def write_content(self, content):\n",
    "        self.content = content\n",
    "        \n",
    "    def remove_all(self):\n",
    "        self.content = \"\"  "
   ],
   "metadata": {
    "collapsed": false,
    "ExecuteTime": {
     "end_time": "2023-09-20T07:38:42.207833Z",
     "start_time": "2023-09-20T07:38:42.074059Z"
    }
   },
   "id": "9b6e6842772e228d"
  },
  {
   "cell_type": "code",
   "execution_count": 100,
   "outputs": [],
   "source": [
    "class NoteBook(object):\n",
    "    def __init__(self, title):\n",
    "        self.title = title\n",
    "        self.page_number = 1\n",
    "        self.notes = {}\n",
    "        \n",
    "    def add_note(self, note, page=0):\n",
    "        if self.page_number < 301:\n",
    "            if page == -1:\n",
    "                self.notes[self.page_number] = note\n",
    "                self.page_number += 1\n",
    "            else:\n",
    "                self.notes[page] = note\n",
    "        else:\n",
    "            print(\"Page가 모두 채워졌습니다.\")\n",
    "            \n",
    "    def remove_note(self, page_number):\n",
    "        if page_number in self.notes.keys():\n",
    "            return self.notes.pop(page_number)\n",
    "        else:\n",
    "            print(\"해당 페이지는 존재하지 않습니다.\")\n",
    "            \n",
    "    def get_number_of_pages(self):\n",
    "        return len(self.notes.keys())"
   ],
   "metadata": {
    "collapsed": false,
    "ExecuteTime": {
     "end_time": "2023-09-20T07:38:42.217160Z",
     "start_time": "2023-09-20T07:38:42.077589Z"
    }
   },
   "id": "f7a23d67cd2e052f"
  },
  {
   "cell_type": "code",
   "execution_count": 101,
   "outputs": [
    {
     "data": {
      "text/plain": "<__main__.NoteBook at 0x1134655d0>"
     },
     "execution_count": 101,
     "metadata": {},
     "output_type": "execute_result"
    }
   ],
   "source": [
    "my_notebook = NoteBook(\"팀랩 강의노트\")\n",
    "my_notebook"
   ],
   "metadata": {
    "collapsed": false,
    "ExecuteTime": {
     "end_time": "2023-09-20T07:38:42.217449Z",
     "start_time": "2023-09-20T07:38:42.078892Z"
    }
   },
   "id": "43a9a9aceaebf2c"
  },
  {
   "cell_type": "code",
   "execution_count": 102,
   "outputs": [
    {
     "data": {
      "text/plain": "'팀랩 강의노트'"
     },
     "execution_count": 102,
     "metadata": {},
     "output_type": "execute_result"
    }
   ],
   "source": [
    "my_notebook.title"
   ],
   "metadata": {
    "collapsed": false,
    "ExecuteTime": {
     "end_time": "2023-09-20T07:38:42.217554Z",
     "start_time": "2023-09-20T07:38:42.081881Z"
    }
   },
   "id": "3290ac323f38cd36"
  },
  {
   "cell_type": "code",
   "execution_count": 103,
   "outputs": [
    {
     "data": {
      "text/plain": "<__main__.Note at 0x11346bb90>"
     },
     "execution_count": 103,
     "metadata": {},
     "output_type": "execute_result"
    }
   ],
   "source": [
    "new_note = Note(\"아 수업하기 싫다\")\n",
    "new_note"
   ],
   "metadata": {
    "collapsed": false,
    "ExecuteTime": {
     "end_time": "2023-09-20T07:38:42.226991Z",
     "start_time": "2023-09-20T07:38:42.086138Z"
    }
   },
   "id": "6aee832fcfae3bfd"
  },
  {
   "cell_type": "code",
   "execution_count": 104,
   "outputs": [
    {
     "name": "stdout",
     "output_type": "stream",
     "text": [
      "노트에 적힌 내용입니다: 아 수업하기 싫다\n"
     ]
    }
   ],
   "source": [
    "print(new_note)"
   ],
   "metadata": {
    "collapsed": false,
    "ExecuteTime": {
     "end_time": "2023-09-20T07:38:42.239272Z",
     "start_time": "2023-09-20T07:38:42.087784Z"
    }
   },
   "id": "42712cf3424e6383"
  },
  {
   "cell_type": "code",
   "execution_count": 105,
   "outputs": [
    {
     "data": {
      "text/plain": "<__main__.Note at 0x113468910>"
     },
     "execution_count": 105,
     "metadata": {},
     "output_type": "execute_result"
    }
   ],
   "source": [
    "new_note2 = Note(\"파이썬 강의\")\n",
    "new_note2"
   ],
   "metadata": {
    "collapsed": false,
    "ExecuteTime": {
     "end_time": "2023-09-20T07:38:42.240057Z",
     "start_time": "2023-09-20T07:38:42.092190Z"
    }
   },
   "id": "509bebb901d24c5b"
  },
  {
   "cell_type": "code",
   "execution_count": 106,
   "outputs": [
    {
     "name": "stdout",
     "output_type": "stream",
     "text": [
      "노트에 적힌 내용입니다: 파이썬 강의\n"
     ]
    }
   ],
   "source": [
    "print(new_note2)"
   ],
   "metadata": {
    "collapsed": false,
    "ExecuteTime": {
     "end_time": "2023-09-20T07:38:42.240185Z",
     "start_time": "2023-09-20T07:38:42.093980Z"
    }
   },
   "id": "9f1914b97c79cdab"
  },
  {
   "cell_type": "code",
   "execution_count": 107,
   "outputs": [],
   "source": [
    "my_notebook.add_note(new_note)\n",
    "my_notebook.add_note(new_note2, 100)"
   ],
   "metadata": {
    "collapsed": false,
    "ExecuteTime": {
     "end_time": "2023-09-20T07:38:42.242529Z",
     "start_time": "2023-09-20T07:38:42.098885Z"
    }
   },
   "id": "50e2f8cd2f14ef51"
  },
  {
   "cell_type": "code",
   "execution_count": 108,
   "outputs": [
    {
     "name": "stdout",
     "output_type": "stream",
     "text": [
      "{0: <__main__.Note object at 0x11346bb90>, 100: <__main__.Note object at 0x113468910>}\n",
      "노트에 적힌 내용입니다: 파이썬 강의\n"
     ]
    }
   ],
   "source": [
    "print(my_notebook.notes)\n",
    "print(my_notebook.notes[100])"
   ],
   "metadata": {
    "collapsed": false,
    "ExecuteTime": {
     "end_time": "2023-09-20T07:38:42.242684Z",
     "start_time": "2023-09-20T07:38:42.101619Z"
    }
   },
   "id": "62b2f66cdc8cdd85"
  },
  {
   "cell_type": "code",
   "execution_count": 109,
   "outputs": [
    {
     "data": {
      "text/plain": "2"
     },
     "execution_count": 109,
     "metadata": {},
     "output_type": "execute_result"
    }
   ],
   "source": [
    "my_notebook.get_number_of_pages()"
   ],
   "metadata": {
    "collapsed": false,
    "ExecuteTime": {
     "end_time": "2023-09-20T07:38:42.242776Z",
     "start_time": "2023-09-20T07:38:42.104554Z"
    }
   },
   "id": "c36d66aa98c351d7"
  },
  {
   "cell_type": "code",
   "execution_count": 110,
   "outputs": [],
   "source": [
    "my_notebook.notes[2] = Note(\"안녕\")"
   ],
   "metadata": {
    "collapsed": false,
    "ExecuteTime": {
     "end_time": "2023-09-20T07:38:42.242819Z",
     "start_time": "2023-09-20T07:38:42.106990Z"
    }
   },
   "id": "8007b19864e7708f"
  },
  {
   "cell_type": "code",
   "execution_count": 111,
   "outputs": [
    {
     "name": "stdout",
     "output_type": "stream",
     "text": [
      "노트에 적힌 내용입니다: 안녕\n"
     ]
    }
   ],
   "source": [
    "print(my_notebook.notes[2])"
   ],
   "metadata": {
    "collapsed": false,
    "ExecuteTime": {
     "end_time": "2023-09-20T07:38:42.243123Z",
     "start_time": "2023-09-20T07:38:42.108639Z"
    }
   },
   "id": "e14a64f1c5450638"
  },
  {
   "cell_type": "markdown",
   "source": [
    "---"
   ],
   "metadata": {
    "collapsed": false
   },
   "id": "18445b3bcdcc3264"
  },
  {
   "cell_type": "markdown",
   "source": [
    "## OOP characterisistic\n",
    "- 객체 지향 언어의 특징: 실제 세상을 모델링\n",
    "- 모델링하기 위해서 중요한 세 가지 (Inheritance, Polymorphism, Visibility)"
   ],
   "metadata": {
    "collapsed": false
   },
   "id": "e438a238ea8b4ffc"
  },
  {
   "cell_type": "markdown",
   "source": [
    "### Inheritance\n",
    "- 부모클래스로부터 속성과 Method를 물려받은 자식 클래스를 생성하는 것."
   ],
   "metadata": {
    "collapsed": false
   },
   "id": "1c3ad843056b1371"
  },
  {
   "cell_type": "code",
   "execution_count": 112,
   "outputs": [],
   "source": [
    "class Person(object):\n",
    "    def __init__(self, name, age, gender):\n",
    "        self.name = name\n",
    "        self.age = age\n",
    "        self.gender = gender\n",
    "        \n",
    "    def about_me(self):\n",
    "        print(\"저의 이름은\", self.name, \"이구요, 제 나이는\", str(self.age), \"살 입니다.\")\n",
    "        \n",
    "    def __str__(self):\n",
    "        return \"저의 이름은 {0} 입니다. 나이는 {1} 입니다.\".format(self.name, self.age)"
   ],
   "metadata": {
    "collapsed": false,
    "ExecuteTime": {
     "end_time": "2023-09-20T07:38:42.243263Z",
     "start_time": "2023-09-20T07:38:42.112116Z"
    }
   },
   "id": "54cfa7520cccef95"
  },
  {
   "cell_type": "code",
   "execution_count": 113,
   "outputs": [],
   "source": [
    "class Korean(Person):\n",
    "    pass"
   ],
   "metadata": {
    "collapsed": false,
    "ExecuteTime": {
     "end_time": "2023-09-20T07:38:42.243323Z",
     "start_time": "2023-09-20T07:38:42.114785Z"
    }
   },
   "id": "3c817eb938cda83a"
  },
  {
   "cell_type": "code",
   "execution_count": 114,
   "outputs": [
    {
     "name": "stdout",
     "output_type": "stream",
     "text": [
      "저의 이름은 SangHyeon 입니다. 나이는 23 입니다.\n"
     ]
    }
   ],
   "source": [
    "first_korean = Korean(\"SangHyeon\", 23, \"Male\")\n",
    "print(first_korean)"
   ],
   "metadata": {
    "collapsed": false,
    "ExecuteTime": {
     "end_time": "2023-09-20T07:38:42.251235Z",
     "start_time": "2023-09-20T07:38:42.116965Z"
    }
   },
   "id": "724484df81959ef4"
  },
  {
   "cell_type": "code",
   "execution_count": 115,
   "outputs": [],
   "source": [
    "class Employee(Person):\n",
    "    def __init__(self, name, age, gender, salary, hire_date):\n",
    "        super().__init__(name, age, gender)\n",
    "        self.salary = salary\n",
    "        self.hire_date = hire_date\n",
    "        \n",
    "    def do_work(self):\n",
    "        print(\"열심히 일을 합니다.\")\n",
    "        \n",
    "    def about_me(self):\n",
    "        super().about_me()\n",
    "        print(\"제 급여는\", self.salary, \"원 이구요, 제 입사일은\", self.hire_date, \"입니다.\")"
   ],
   "metadata": {
    "collapsed": false,
    "ExecuteTime": {
     "end_time": "2023-09-20T07:38:42.251380Z",
     "start_time": "2023-09-20T07:38:42.119495Z"
    }
   },
   "id": "66474672e67d2391"
  },
  {
   "cell_type": "code",
   "execution_count": 116,
   "outputs": [
    {
     "name": "stdout",
     "output_type": "stream",
     "text": [
      "저의 이름은 SangHyeon 이구요, 제 나이는 23 살 입니다.\n"
     ]
    }
   ],
   "source": [
    "myPerson = Person(\"SangHyeon\", 23, \"Male\")\n",
    "myPerson.about_me()"
   ],
   "metadata": {
    "collapsed": false,
    "ExecuteTime": {
     "end_time": "2023-09-20T07:38:42.251463Z",
     "start_time": "2023-09-20T07:38:42.121338Z"
    }
   },
   "id": "36f1cfb6411b8726"
  },
  {
   "cell_type": "code",
   "execution_count": 117,
   "outputs": [
    {
     "name": "stdout",
     "output_type": "stream",
     "text": [
      "저의 이름은 DeaHo 이구요, 제 나이는 34 살 입니다.\n",
      "제 급여는 300000 원 이구요, 제 입사일은 2020.03.02 입니다.\n"
     ]
    }
   ],
   "source": [
    "myEmployee = Employee(\"DeaHo\", 34, \"Male\", 300000, \"2020.03.02\")\n",
    "myEmployee.about_me()"
   ],
   "metadata": {
    "collapsed": false,
    "ExecuteTime": {
     "end_time": "2023-09-20T07:38:42.251601Z",
     "start_time": "2023-09-20T07:38:42.124201Z"
    }
   },
   "id": "6343ff57586d0853"
  },
  {
   "cell_type": "markdown",
   "source": [
    "#### Polymorphism\n",
    "- 같은 이름 메소드의 내부 로직을 다르게 작성\n",
    "- Dynamic Typing 특성으로 인해 파이썬에서는 같은 부모 클래스의 상속에서 주로 발생함\n",
    "- 중요한 OOP의 개념. 그러나 너무 깊이 알 필요 x"
   ],
   "metadata": {
    "collapsed": false
   },
   "id": "e0205cb5827bb7d4"
  },
  {
   "cell_type": "code",
   "execution_count": 118,
   "outputs": [],
   "source": [
    "class Animal:\n",
    "    def __init__(self, name):\n",
    "        self.name = name\n",
    "    def talk(self):\n",
    "        raise NotImplementedError(\"Subclass must implement abstract method\")"
   ],
   "metadata": {
    "collapsed": false,
    "ExecuteTime": {
     "end_time": "2023-09-20T07:38:42.251648Z",
     "start_time": "2023-09-20T07:38:42.126714Z"
    }
   },
   "id": "553c255f8390ac2c"
  },
  {
   "cell_type": "code",
   "execution_count": 119,
   "outputs": [],
   "source": [
    "class Cat(Animal):\n",
    "    def talk(self):\n",
    "        return \"Meow!\"\n",
    "\n",
    "class Dog(Animal):\n",
    "    def talk(self):\n",
    "        return \"Woof! Woof!\""
   ],
   "metadata": {
    "collapsed": false,
    "ExecuteTime": {
     "end_time": "2023-09-20T07:38:42.251691Z",
     "start_time": "2023-09-20T07:38:42.128694Z"
    }
   },
   "id": "1d2108a3f156f468"
  },
  {
   "cell_type": "code",
   "execution_count": 120,
   "outputs": [
    {
     "name": "stdout",
     "output_type": "stream",
     "text": [
      "Missy : Meow!\n",
      "Mr.Mistoffeless : Meow!\n",
      "Lassie : Woof! Woof!\n"
     ]
    }
   ],
   "source": [
    "animals = [Cat(\"Missy\"), \n",
    "           Cat('Mr.Mistoffeless'),\n",
    "           Dog(\"Lassie\")]\n",
    "\n",
    "for animal in animals:\n",
    "    print(animal.name + \" : \" + animal.talk())"
   ],
   "metadata": {
    "collapsed": false,
    "ExecuteTime": {
     "end_time": "2023-09-20T07:38:42.251780Z",
     "start_time": "2023-09-20T07:38:42.130792Z"
    }
   },
   "id": "7c563a651706ae38"
  },
  {
   "cell_type": "markdown",
   "source": [
    "#### Visibility\n",
    "- 객체의 정보를 볼 수 있는 레벨을 조절하는 것.(Encapsulation)\n",
    "- 누구나 객체 안에 모든 변수를 볼 필요가 없음.\n",
    "    1) 객체를 사용하는 사용자가 임의로 정보 수정\n",
    "    2) 필요없는 정보에는 접근할 필요가 없음\n",
    "    3) 만약 제품으로 판매한다면? 소스의 보호\n",
    "\n",
    "#### Encapsulation\n",
    "- 캡슐화 또는 정보 은닉(Information Hiding)\n",
    "- Class를 설계할 때, 클래스 간 간섭/정보공유의 최소화\n",
    "- 심판 클래스가 축구선수 클래스 가족 정보를 알아야 하나?\n",
    "- 캡슐을 던지듯, 인터페이스만 알아서 써야함"
   ],
   "metadata": {
    "collapsed": false
   },
   "id": "97f65e9e49b4c667"
  },
  {
   "cell_type": "markdown",
   "source": [
    "### Visibility Example 1\n",
    "- product 객체를 inventory 객체에 추가\n",
    "- Inventory에는 오직 Product 객체만 들어감\n",
    "- Inventory에 Product가 몇 개인지 확인이 필요\n",
    "- Inventory에 Product items는 직접 접근이 불가"
   ],
   "metadata": {
    "collapsed": false
   },
   "id": "24a34e4174300804"
  },
  {
   "cell_type": "markdown",
   "source": [
    "### Visibility Example 2\n",
    "- product 객체를 Inventory 객체에 추가\n",
    "- Inventory에는 오직 Product 객체만 들어감\n",
    "- Inventory에 Product가 몇 개인지 확인이 필요\n",
    "- Inventory에 Product items 접근 허용"
   ],
   "metadata": {
    "collapsed": false
   },
   "id": "2e9335c76695aa69"
  },
  {
   "cell_type": "code",
   "execution_count": 121,
   "outputs": [],
   "source": [
    "class Product(object):\n",
    "    pass"
   ],
   "metadata": {
    "collapsed": false,
    "ExecuteTime": {
     "end_time": "2023-09-20T07:38:42.252556Z",
     "start_time": "2023-09-20T07:38:42.132822Z"
    }
   },
   "id": "f577cd72037cf834"
  },
  {
   "cell_type": "code",
   "execution_count": 122,
   "outputs": [],
   "source": [
    "class Inventory(object):\n",
    "    def __init__(self):\n",
    "        self.items = []\n",
    "        self.test = 'abc'\n",
    "        \n",
    "    def add_new_item(self, product):\n",
    "        if type(product) == Product:\n",
    "            self.items.append(product)\n",
    "            print(\"new item added\")\n",
    "        else:\n",
    "            raise ValueError(\"Invalid item\")\n",
    "        \n",
    "    def get_number_of_items(self):\n",
    "        return len(self.items)"
   ],
   "metadata": {
    "collapsed": false,
    "ExecuteTime": {
     "end_time": "2023-09-20T07:38:42.252640Z",
     "start_time": "2023-09-20T07:38:42.135189Z"
    }
   },
   "id": "2b45cf9237283e4"
  },
  {
   "cell_type": "code",
   "execution_count": 123,
   "outputs": [
    {
     "name": "stdout",
     "output_type": "stream",
     "text": [
      "new item added\n",
      "new item added\n"
     ]
    },
    {
     "data": {
      "text/plain": "<__main__.Inventory at 0x113459490>"
     },
     "execution_count": 123,
     "metadata": {},
     "output_type": "execute_result"
    }
   ],
   "source": [
    "my_inventory = Inventory()\n",
    "my_inventory.add_new_item(Product())\n",
    "my_inventory.add_new_item(Product())\n",
    "\n",
    "my_inventory"
   ],
   "metadata": {
    "collapsed": false,
    "ExecuteTime": {
     "end_time": "2023-09-20T07:38:42.252824Z",
     "start_time": "2023-09-20T07:38:42.137218Z"
    }
   },
   "id": "38abaa80c3247e63"
  },
  {
   "cell_type": "code",
   "execution_count": 124,
   "outputs": [
    {
     "data": {
      "text/plain": "[<__main__.Product at 0x11345a0d0>,\n <__main__.Product at 0x11345f3d0>,\n 'abc',\n 'abc']"
     },
     "execution_count": 124,
     "metadata": {},
     "output_type": "execute_result"
    }
   ],
   "source": [
    "my_inventory.items.append(\"abc\")\n",
    "my_inventory.items.append(\"abc\")\n",
    "\n",
    "my_inventory.items"
   ],
   "metadata": {
    "collapsed": false,
    "ExecuteTime": {
     "end_time": "2023-09-20T07:38:42.253138Z",
     "start_time": "2023-09-20T07:38:42.140118Z"
    }
   },
   "id": "8eeef6992c421f29"
  },
  {
   "cell_type": "markdown",
   "source": [
    "---"
   ],
   "metadata": {
    "collapsed": false
   },
   "id": "39252d7e6da0d278"
  },
  {
   "cell_type": "code",
   "execution_count": 125,
   "outputs": [],
   "source": [
    "class Inventory(object):\n",
    "    # visibility example 1\n",
    "    def __init__(self):\n",
    "        self.__items = []\n",
    "        \n",
    "    def add_new_item(self, product):\n",
    "        if type(product) == Product:\n",
    "            self.__items.append(product)\n",
    "            print(\"new item added\")\n",
    "        else:\n",
    "            raise ValueError(\"Invalid Item\")\n",
    "        \n",
    "    def get_number_of_items(self):\n",
    "        return len(self.__items)\n",
    "    \n",
    "    # visibility example 2\n",
    "    @property\n",
    "    def items(self):\n",
    "        return self.__items"
   ],
   "metadata": {
    "collapsed": false,
    "ExecuteTime": {
     "end_time": "2023-09-20T07:38:42.253220Z",
     "start_time": "2023-09-20T07:38:42.143385Z"
    }
   },
   "id": "afac6dee7c2db611"
  },
  {
   "cell_type": "code",
   "execution_count": 126,
   "outputs": [
    {
     "name": "stdout",
     "output_type": "stream",
     "text": [
      "new item added\n",
      "new item added\n"
     ]
    },
    {
     "data": {
      "text/plain": "<__main__.Inventory at 0x113459f10>"
     },
     "execution_count": 126,
     "metadata": {},
     "output_type": "execute_result"
    }
   ],
   "source": [
    "my_inventory = Inventory()\n",
    "my_inventory.add_new_item(Product())\n",
    "my_inventory.add_new_item(Product())\n",
    "\n",
    "my_inventory"
   ],
   "metadata": {
    "collapsed": false,
    "ExecuteTime": {
     "end_time": "2023-09-20T07:38:42.253378Z",
     "start_time": "2023-09-20T07:38:42.145507Z"
    }
   },
   "id": "8e373da2d45e256f"
  },
  {
   "cell_type": "code",
   "execution_count": 130,
   "outputs": [
    {
     "ename": "AttributeError",
     "evalue": "'Inventory' object has no attribute '__items'",
     "output_type": "error",
     "traceback": [
      "\u001B[0;31m---------------------------------------------------------------------------\u001B[0m",
      "\u001B[0;31mAttributeError\u001B[0m                            Traceback (most recent call last)",
      "Cell \u001B[0;32mIn[130], line 1\u001B[0m\n\u001B[0;32m----> 1\u001B[0m my_inventory\u001B[38;5;241m.\u001B[39m__items\u001B[38;5;241m.\u001B[39mappend(\u001B[38;5;124m\"\u001B[39m\u001B[38;5;124mabc\u001B[39m\u001B[38;5;124m\"\u001B[39m)\n\u001B[1;32m      2\u001B[0m my_inventory\u001B[38;5;241m.\u001B[39m__items\u001B[38;5;241m.\u001B[39mappend(\u001B[38;5;124m\"\u001B[39m\u001B[38;5;124mabc\u001B[39m\u001B[38;5;124m\"\u001B[39m)\n\u001B[1;32m      4\u001B[0m my_inventory\u001B[38;5;241m.\u001B[39mitems\n",
      "\u001B[0;31mAttributeError\u001B[0m: 'Inventory' object has no attribute '__items'"
     ]
    }
   ],
   "source": [
    "my_inventory.__items.append(\"abc\")\n",
    "my_inventory.__items.append(\"abc\")\n",
    "\n",
    "my_inventory.items"
   ],
   "metadata": {
    "collapsed": false,
    "ExecuteTime": {
     "end_time": "2023-09-20T07:38:54.051713Z",
     "start_time": "2023-09-20T07:38:54.039457Z"
    }
   },
   "id": "2f6494a7ecdeb15c"
  },
  {
   "cell_type": "code",
   "execution_count": 131,
   "outputs": [
    {
     "ename": "AttributeError",
     "evalue": "'Inventory' object has no attribute '__items'",
     "output_type": "error",
     "traceback": [
      "\u001B[0;31m---------------------------------------------------------------------------\u001B[0m",
      "\u001B[0;31mAttributeError\u001B[0m                            Traceback (most recent call last)",
      "Cell \u001B[0;32mIn[131], line 1\u001B[0m\n\u001B[0;32m----> 1\u001B[0m my_inventory\u001B[38;5;241m.\u001B[39m__items\n",
      "\u001B[0;31mAttributeError\u001B[0m: 'Inventory' object has no attribute '__items'"
     ]
    }
   ],
   "source": [
    "my_inventory.__items"
   ],
   "metadata": {
    "collapsed": false,
    "ExecuteTime": {
     "end_time": "2023-09-20T07:38:55.052145Z",
     "start_time": "2023-09-20T07:38:55.040607Z"
    }
   },
   "id": "6f5fcabd921eb1bc"
  },
  {
   "cell_type": "code",
   "execution_count": 133,
   "outputs": [
    {
     "data": {
      "text/plain": "[<__main__.Product at 0x1134593d0>, <__main__.Product at 0x113455b10>]"
     },
     "execution_count": 133,
     "metadata": {},
     "output_type": "execute_result"
    }
   ],
   "source": [
    "my_inventory.items"
   ],
   "metadata": {
    "collapsed": false,
    "ExecuteTime": {
     "end_time": "2023-09-20T07:40:31.895732Z",
     "start_time": "2023-09-20T07:40:31.876808Z"
    }
   },
   "id": "efe81e7ee5f531c7"
  },
  {
   "cell_type": "code",
   "execution_count": 134,
   "outputs": [],
   "source": [
    "my_inventory.items.append('a')"
   ],
   "metadata": {
    "collapsed": false,
    "ExecuteTime": {
     "end_time": "2023-09-20T07:40:45.162402Z",
     "start_time": "2023-09-20T07:40:45.138486Z"
    }
   },
   "id": "a0bd25509774c333"
  },
  {
   "cell_type": "code",
   "execution_count": 137,
   "outputs": [
    {
     "name": "stdout",
     "output_type": "stream",
     "text": [
      "a\n"
     ]
    }
   ],
   "source": [
    "print(my_inventory.items[2])"
   ],
   "metadata": {
    "collapsed": false,
    "ExecuteTime": {
     "end_time": "2023-09-20T07:41:08.552093Z",
     "start_time": "2023-09-20T07:41:08.534706Z"
    }
   },
   "id": "b2361590e2e8d7c7"
  },
  {
   "cell_type": "markdown",
   "source": [
    "---"
   ],
   "metadata": {
    "collapsed": false
   },
   "id": "8cbf8393ad7463f6"
  },
  {
   "cell_type": "markdown",
   "source": [
    "### Decorator\n",
    "#### - first-calss object\n",
    "- 일등함수 또는 일급 객체\n",
    "- 변수나 데이터 구조에 할당이 가능한 객체\n",
    "- 파라미터로 전달이 가능하고, 리턴값으로 사용\n",
    "\n",
    "#### - inner function\n",
    "- 함수 내에 또 다른 함수가 존재\n",
    "\n",
    "#### - decorator\n",
    "- closures: inner function을 return값으로 반환\n",
    "    - decorator function\n",
    "        - 복잡한 클로져 함수를 간단하게 함."
   ],
   "metadata": {
    "collapsed": false
   },
   "id": "d38470cda3ca3c29"
  },
  {
   "cell_type": "code",
   "execution_count": 146,
   "outputs": [
    {
     "name": "stdout",
     "output_type": "stream",
     "text": [
      "******************************\n",
      "T T T T T T T T T T T T T T T T T T T T T T T T T T T T T T\n",
      "Hello\n",
      "T T T T T T T T T T T T T T T T T T T T T T T T T T T T T T\n",
      "******************************\n"
     ]
    }
   ],
   "source": [
    "# decorator\n",
    "def star(func):\n",
    "    def inner(*args, **kwargs):\n",
    "        print(\"*\" * 30)\n",
    "        print(*args[1] * 30)\n",
    "        func(*args, **kwargs)\n",
    "        print(*args[1] * 30)\n",
    "        print(\"*\" * 30)\n",
    "    return inner\n",
    "\n",
    "@star\n",
    "def printer(msg, mark):\n",
    "    print(msg)\n",
    "\n",
    "printer(\"Hello\", \"T\")"
   ],
   "metadata": {
    "collapsed": false,
    "ExecuteTime": {
     "end_time": "2023-09-20T07:53:07.161918Z",
     "start_time": "2023-09-20T07:53:07.155961Z"
    }
   },
   "id": "d1b5542445a08d94"
  },
  {
   "cell_type": "code",
   "execution_count": 158,
   "outputs": [],
   "source": [
    "def generator_power(exponent):\n",
    "    def wrapper(f):\n",
    "        def inner(*args):\n",
    "            result = f(*args)\n",
    "            print(\">>>>\", *args)\n",
    "            return exponent ** result\n",
    "        return inner\n",
    "    return wrapper\n",
    "\n",
    "@generator_power(2)\n",
    "def raise_two(n):\n",
    "    return n**2"
   ],
   "metadata": {
    "collapsed": false,
    "ExecuteTime": {
     "end_time": "2023-09-20T07:58:50.621683Z",
     "start_time": "2023-09-20T07:58:50.603841Z"
    }
   },
   "id": "532f8aa355e3e8b1"
  },
  {
   "cell_type": "code",
   "execution_count": 159,
   "outputs": [
    {
     "name": "stdout",
     "output_type": "stream",
     "text": [
      ">>>> 7\n",
      "562949953421312\n"
     ]
    }
   ],
   "source": [
    "print(raise_two(7))"
   ],
   "metadata": {
    "collapsed": false,
    "ExecuteTime": {
     "end_time": "2023-09-20T07:58:51.003444Z",
     "start_time": "2023-09-20T07:58:50.996367Z"
    }
   },
   "id": "e567d3a615108fb7"
  },
  {
   "cell_type": "code",
   "execution_count": 160,
   "outputs": [
    {
     "data": {
      "text/plain": "562949953421312"
     },
     "execution_count": 160,
     "metadata": {},
     "output_type": "execute_result"
    }
   ],
   "source": [
    "2**49"
   ],
   "metadata": {
    "collapsed": false,
    "ExecuteTime": {
     "end_time": "2023-09-20T07:59:03.224435Z",
     "start_time": "2023-09-20T07:59:03.200160Z"
    }
   },
   "id": "510910483dfb3bec"
  },
  {
   "cell_type": "code",
   "execution_count": null,
   "outputs": [],
   "source": [],
   "metadata": {
    "collapsed": false
   },
   "id": "4e37a9b790c07e3d"
  },
  {
   "cell_type": "markdown",
   "source": [],
   "metadata": {
    "collapsed": false
   },
   "id": "f9b3022ff9dcf94f"
  }
 ],
 "metadata": {
  "kernelspec": {
   "display_name": "Python 3",
   "language": "python",
   "name": "python3"
  },
  "language_info": {
   "codemirror_mode": {
    "name": "ipython",
    "version": 2
   },
   "file_extension": ".py",
   "mimetype": "text/x-python",
   "name": "python",
   "nbconvert_exporter": "python",
   "pygments_lexer": "ipython2",
   "version": "2.7.6"
  }
 },
 "nbformat": 4,
 "nbformat_minor": 5
}
