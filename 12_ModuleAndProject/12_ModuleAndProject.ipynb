{
 "cells": [
  {
   "cell_type": "markdown",
   "source": [
    "---\n",
    "## 모듈과 패키지\n",
    "- 프로그램에서는 작은 프로그램 조각들, 모듈들을 모아서 하나의 큰 프로그램을 개발함\n",
    "- 프로그램을 모듈화 시키면 다른 프로그램이 사용하기 쉬움"
   ],
   "metadata": {
    "collapsed": false
   },
   "id": "41d02830d2c9e11d"
  },
  {
   "cell_type": "markdown",
   "source": [
    "---\n",
    "### 모듈\n",
    "- 파이썬의 Module == py 파일을 의미\n",
    "- 같은 폴더에 Module에 해당하는 .py파일과 사용하는 .py파일을 저장한 후 import 문을 사용해서 module 호출"
   ],
   "metadata": {
    "collapsed": false
   },
   "id": "4054b97a0f26f387"
  },
  {
   "cell_type": "code",
   "execution_count": 6,
   "outputs": [
    {
     "data": {
      "text/plain": "97.7"
     },
     "execution_count": 6,
     "metadata": {},
     "output_type": "execute_result"
    }
   ],
   "source": [
    "import fah_converter\n",
    "\n",
    "fah_converter.convert_c_to_f(36.5)"
   ],
   "metadata": {
    "collapsed": false,
    "ExecuteTime": {
     "end_time": "2023-09-26T02:07:42.175816Z",
     "start_time": "2023-09-26T02:07:42.166090Z"
    }
   },
   "id": "51da93b9003637c5"
  },
  {
   "cell_type": "markdown",
   "source": [
    "### namespace\n",
    "- 모듈을 호출할 때 범위 정하는 방법\n",
    "- 모듈 안에는 함수와 클래스 등이 존재 가능\n",
    "- 필요한 내용만 골라서 호출할 수 있음\n",
    "- from과 import 키워드를 사용함"
   ],
   "metadata": {
    "collapsed": false
   },
   "id": "e88bbcb06ee225c4"
  },
  {
   "cell_type": "code",
   "execution_count": 10,
   "outputs": [
    {
     "data": {
      "text/plain": "74"
     },
     "execution_count": 10,
     "metadata": {},
     "output_type": "execute_result"
    }
   ],
   "source": [
    "import random\n",
    "\n",
    "random.randint(1, 100)"
   ],
   "metadata": {
    "collapsed": false,
    "ExecuteTime": {
     "end_time": "2023-09-26T02:18:16.594514Z",
     "start_time": "2023-09-26T02:18:16.587862Z"
    }
   },
   "id": "febb102b0988d779"
  },
  {
   "cell_type": "code",
   "execution_count": 11,
   "outputs": [
    {
     "data": {
      "text/plain": "time.struct_time(tm_year=2023, tm_mon=9, tm_mday=26, tm_hour=11, tm_min=18, tm_sec=36, tm_wday=1, tm_yday=269, tm_isdst=0)"
     },
     "execution_count": 11,
     "metadata": {},
     "output_type": "execute_result"
    }
   ],
   "source": [
    "import time\n",
    "\n",
    "time.localtime()"
   ],
   "metadata": {
    "collapsed": false,
    "ExecuteTime": {
     "end_time": "2023-09-26T02:18:36.038730Z",
     "start_time": "2023-09-26T02:18:36.028833Z"
    }
   },
   "id": "6ded27dc8259d6c7"
  },
  {
   "cell_type": "markdown",
   "source": [
    "---\n",
    "### 패키지\n",
    "- 하나의 대형 프로젝트를 만드는 코드의 묶음\n",
    "- 다양한 모듈들의 합, 폴더로 연결됨\n",
    "- \\_\\_init__, \\_\\_main__ 등 키워드 파일명이 사용됨\n",
    "- 다양한 오픈소스들이 모두 패키지로 관리됨"
   ],
   "metadata": {
    "collapsed": false
   },
   "id": "8d2dda8bd212ee60"
  },
  {
   "cell_type": "markdown",
   "source": [
    "---\n",
    "### 오픈소스 라이브러리 사용하기"
   ],
   "metadata": {
    "collapsed": false
   },
   "id": "d67462c5e376b8b5"
  },
  {
   "cell_type": "markdown",
   "source": [
    "---\n",
    "### 가상환경 만들기\n",
    "- conda create -n [가상환경 이름] python=[파이썬 버전]"
   ],
   "metadata": {
    "collapsed": false
   },
   "id": "63bce780cd215d5c"
  },
  {
   "cell_type": "markdown",
   "source": [
    "---"
   ],
   "metadata": {
    "collapsed": false
   },
   "id": "a12516f3ee23b831"
  },
  {
   "cell_type": "code",
   "execution_count": 12,
   "outputs": [
    {
     "data": {
      "text/plain": "<Figure size 640x480 with 1 Axes>",
      "image/png": "[encoded data removed]"
     },
     "metadata": {},
     "output_type": "display_data"
    }
   ],
   "source": [
    "import matplotlib.pyplot as plt\n",
    "\n",
    "plt.plot([1, 2, 3, 4, 5])\n",
    "plt.ylabel('some numbers')\n",
    "plt.show()"
   ],
   "metadata": {
    "collapsed": false,
    "ExecuteTime": {
     "end_time": "2023-09-26T02:45:59.336738Z",
     "start_time": "2023-09-26T02:45:58.882039Z"
    }
   },
   "id": "d48990513bb63afc"
  },
  {
   "cell_type": "code",
   "execution_count": 14,
   "outputs": [
    {
     "name": "stderr",
     "output_type": "stream",
     "text": [
      "100%|██████████| 100000/100000 [01:40<00:00, 994.69it/s]\n"
     ]
    }
   ],
   "source": [
    "from tqdm import tqdm\n",
    "import time\n",
    "\n",
    "for i in tqdm(range(100000)):\n",
    "    if i % 1000 == 0:\n",
    "        time.sleep(1)"
   ],
   "metadata": {
    "collapsed": false,
    "ExecuteTime": {
     "end_time": "2023-09-26T02:49:25.385590Z",
     "start_time": "2023-09-26T02:47:44.843003Z"
    }
   },
   "id": "6efaabd9f44ab30c"
  },
  {
   "cell_type": "code",
   "execution_count": null,
   "outputs": [],
   "source": [],
   "metadata": {
    "collapsed": false
   },
   "id": "6245f1ba4c3f9e6d"
  }
 ],
 "metadata": {
  "kernelspec": {
   "display_name": "Python 3",
   "language": "python",
   "name": "python3"
  },
  "language_info": {
   "codemirror_mode": {
    "name": "ipython",
    "version": 2
   },
   "file_extension": ".py",
   "mimetype": "text/x-python",
   "name": "python",
   "nbconvert_exporter": "python",
   "pygments_lexer": "ipython2",
   "version": "2.7.6"
  }
 },
 "nbformat": 4,
 "nbformat_minor": 5
}
